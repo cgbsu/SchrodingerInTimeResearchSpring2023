{
 "cells": [
  {
   "cell_type": "code",
   "execution_count": 1,
   "id": "f62202a8-a09e-4a15-8cdd-0e77b3b82a83",
   "metadata": {},
   "outputs": [],
   "source": [
    "%matplotlib widget"
   ]
  },
  {
   "cell_type": "code",
   "execution_count": 2,
   "id": "8bf9e68b-87bc-4a57-bc8e-a50344bc7571",
   "metadata": {},
   "outputs": [],
   "source": [
    "#!/usr/bin/env python3\n",
    "# -*- coding: utf-8 -*-\n",
    "\"\"\"\n",
    "@author: Arturo Mena López\n",
    "\n",
    "Script to simulate the passage of a Gaussian packet wave function through a double slit of finite potential barrier walls of height V0.\n",
    "\"\"\"\n",
    "\n",
    "import numpy as np\n",
    "import matplotlib.pyplot as plt\n",
    "from matplotlib.animation import FuncAnimation\n",
    "from matplotlib.patches import Rectangle\n"
   ]
  },
  {
   "cell_type": "code",
   "execution_count": 3,
   "id": "359dc359-ad3e-4356-b387-a7ff28acc154",
   "metadata": {},
   "outputs": [],
   "source": [
    "def psi0(x, y, x0, y0, sigma=0.5, k=15*np.pi):\n",
    "    \n",
    "    \"\"\"\n",
    "    Proposed wave function for the initial time t=0.\n",
    "    Initial position: (x0, y0)\n",
    "    Default parameters:\n",
    "        - sigma = 0.5 -> Gaussian dispersion.\n",
    "        - k = 15*np.pi -> Proportional to the momentum.\n",
    "        \n",
    "    Note: if Dy=0.1 use np.exp(-1j*k*(x-x0)), if Dy=0.05 use \n",
    "          np.exp(1j*k*(x-x0)) so that the particle will move \n",
    "          to the right.\n",
    "    \"\"\"\n",
    "    \n",
    "    return np.exp(-1/2*((x-x0)**2 + (y-y0)**2)/sigma**2)*np.exp(1j*k*(x-x0))\n"
   ]
  },
  {
   "cell_type": "code",
   "execution_count": 4,
   "id": "b431ab6c-fbe8-41ab-b6ce-7f38507f4052",
   "metadata": {},
   "outputs": [
    {
     "name": "stdout",
     "output_type": "stream",
     "text": [
      "161 25281\n"
     ]
    }
   ],
   "source": [
    "# =============================================================================\n",
    "# Parameters\n",
    "# =============================================================================\n",
    "\n",
    "L = 8 # Well of width L. Shafts from 0 to +L.\n",
    "Dy = .05 # Spatial step size.\n",
    "Dt = Dy**2/4 # Temporal step size.\n",
    "Nx = int(L/Dy) + 1 # Number of points on the x axis.\n",
    "Ny = int(L/Dy) + 1 # Number of points on the y axis.\n",
    "Nt = 500 # Number of time steps.\n",
    "rx = -Dt/(2j*Dy**2) # Constant to simplify expressions.\n",
    "ry = -Dt/(2j*Dy**2) # Constant to simplify expressions.\n",
    "\n",
    "# Initial position of the center of the Gaussian wave function.\n",
    "x0 = L/5\n",
    "y0 = L/2\n",
    "\n",
    "# Parameters of the double slit.\n",
    "w = 0.6 # Width of the walls of the double slit.\n",
    "s = 0.8 # Separation between the edges of the slits.\n",
    "a = 0.2 # Aperture of the slits.\n",
    "\n",
    "# Indices that parameterize the double slit in the space of points.\n",
    "# Horizontal axis.\n",
    "j0 = int(1/(2*Dy)*(L-w)) # Left edge.\n",
    "j1 = int(1/(2*Dy)*(L+w)) # Right edge.\n",
    "# Eje vertical.\n",
    "i0 = int(1/(2*Dy)*(L+s) + a/Dy) # Lower edge of the lower slit.\n",
    "i1 = int(1/(2*Dy)*(L+s))        # Upper edge of the lower slit.\n",
    "i2 = int(1/(2*Dy)*(L-s))        # Lower edge of the upper slit.\n",
    "i3 = int(1/(2*Dy)*(L-s) - a/Dy) # Upper edge of the upper slit.\n",
    "\n",
    "# We generate the potential related to the double slit.\n",
    "v0 = 200\n",
    "v = np.zeros((Ny,Ny), complex) \n",
    "#v[0:i3, j0:j1] = v0\n",
    "#v[i2:i1,j0:j1] = v0\n",
    "#v[i0:,  j0:j1] = v0\n",
    "v[:, j0:j1] = v0\n",
    "    \n",
    "Ni = (Nx-2)*(Ny-2)  # Number of unknown factors v[i,j], i = 1,...,Nx-2, j = 1,...,Ny-2\n",
    "print(Ny, Ni)"
   ]
  },
  {
   "cell_type": "code",
   "execution_count": 5,
   "id": "215b9535-4d27-459b-b745-396f4eb65845",
   "metadata": {},
   "outputs": [],
   "source": [
    "# =============================================================================\n",
    "# First step: Construct the matrices of the system of equations.\n",
    "# =============================================================================\n",
    "\n",
    "# Matrices for the Crank-Nicolson calculus. The problem A·x[n+1] = b = M·x[n] will be solved at each time step.\n",
    "A = np.zeros((Ni,Ni), complex)\n",
    "M = np.zeros((Ni,Ni), complex)\n",
    "\n",
    "# We fill the A and M matrices.\n",
    "for k in range(Ni):     \n",
    "    \n",
    "    # k = (i-1)*(Ny-2) + (j-1)\n",
    "    i = 1 + k//(Ny-2)\n",
    "    j = 1 + k%(Ny-2)\n",
    "    \n",
    "    # Main central diagonal.\n",
    "    A[k,k] = 1 + 2*rx + 2*ry + 1j*Dt/2*v[i,j]\n",
    "    M[k,k] = 1 - 2*rx - 2*ry - 1j*Dt/2*v[i,j]\n",
    "    \n",
    "    if i != 1: # Lower lone diagonal.\n",
    "        A[k,(i-2)*(Ny-2)+j-1] = -ry \n",
    "        M[k,(i-2)*(Ny-2)+j-1] = ry\n",
    "        \n",
    "    if i != Nx-2: # Upper lone diagonal.\n",
    "        A[k,i*(Ny-2)+j-1] = -ry\n",
    "        M[k,i*(Ny-2)+j-1] = ry\n",
    "    \n",
    "    if j != 1: # Lower main diagonal.\n",
    "        A[k,k-1] = -rx \n",
    "        M[k,k-1] = rx \n",
    "\n",
    "    if j != Ny-2: # Upper main diagonal.\n",
    "        A[k,k+1] = -rx\n",
    "        M[k,k+1] = rx\n",
    "\n"
   ]
  },
  {
   "cell_type": "code",
   "execution_count": 6,
   "id": "212d0607-4efb-48f8-a624-6aea218318c1",
   "metadata": {},
   "outputs": [],
   "source": [
    "# =============================================================================\n",
    "# Second step: Solve the A·x[n+1] = M·x[n] system for each time step.\n",
    "# =============================================================================\n",
    "\n",
    "from scipy.sparse import csc_matrix\n",
    "from scipy.sparse.linalg import spsolve\n",
    "\n",
    "Asp = csc_matrix(A)\n",
    "\n",
    "x = np.linspace(0, L, Ny-2) # Array of spatial points.\n",
    "y = np.linspace(0, L, Ny-2) # Array of spatial points.\n",
    "x, y = np.meshgrid(x, y)\n",
    "psis = [] # To store the wave function at each time step.\n",
    "\n",
    "psi = psi0(x, y, x0, y0) # We initialise the wave function with the Gaussian.\n",
    "psi[0,:] = psi[-1,:] = psi[:,0] = psi[:,-1] = 0 # The wave function equals 0 at the edges of the simulation box (infinite potential well).\n",
    "psis.append(np.copy(psi)) # We store the wave function of this time step.\n",
    "\n",
    "# We solve the matrix system at each time step in order to obtain the wave function.\n",
    "for i in range(1,Nt):\n",
    "    psi_vect = psi.reshape((Ni)) # We adjust the shape of the array to generate the matrix b of independent terms.\n",
    "    b = np.matmul(M,psi_vect) # We calculate the array of independent terms.\n",
    "    psi_vect = spsolve(Asp,b) # Resolvemos el sistema para este paso temporal.\n",
    "    psi = psi_vect.reshape((Nx-2,Ny-2)) # Recuperamos la forma del array de la función de onda.\n",
    "    psis.append(np.copy(psi)) # Save the result.\n",
    "\n",
    "# We calculate the modulus of the wave function at each time step.\n",
    "mod_psis = [] # For storing the modulus of the wave function at each time step.\n",
    "for wavefunc in psis:\n",
    "    re = np.real(wavefunc) # Real part.\n",
    "    im = np.imag(wavefunc) # Imaginary part.\n",
    "    mod = np.sqrt(re**2 + im**2) # We calculate the modulus.\n",
    "    mod_psis.append(mod) # We save the calculated modulus.\n"
   ]
  },
  {
   "cell_type": "code",
   "execution_count": 7,
   "id": "141c0a71-5fb4-42f7-80f0-554d40606923",
   "metadata": {},
   "outputs": [
    {
     "data": {
      "application/vnd.jupyter.widget-view+json": {
       "model_id": "1d78e17e002046af8a067cc636ed781c",
       "version_major": 2,
       "version_minor": 0
      },
      "image/png": "[encoded data removed]",
      "text/html": [
       "\n",
       "            <div style=\"display: inline-block;\">\n",
       "                <div class=\"jupyter-widgets widget-label\" style=\"text-align: center;\">\n",
       "                    Figure\n",
       "                </div>\n",
       "                <img src='data:image/png;base64,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' width=640.0/>\n",
       "            </div>\n",
       "        "
      ],
      "text/plain": [
       "Canvas(toolbar=Toolbar(toolitems=[('Home', 'Reset original view', 'home', 'home'), ('Back', 'Back to previous …"
      ]
     },
     "metadata": {},
     "output_type": "display_data"
    },
    {
     "data": {
      "text/plain": [
       "'\\nloaded_mod_psis = np.loadtxt(\"mod_psis_data.txt\")\\n  \\n# The loaded_mod_psis array is a 2D array, we need to return it to its original form.\\n\\nmod_psisshape2 = Ny-2\\n\\n# We finally obtain our mod_psis array.\\n\\nmod_psis = loaded_mod_psis.reshape( \\n    loaded_mod_psis.shape[0], loaded_mod_psis.shape[1] // mod_psisshape2, mod_psisshape2) \\n  \\n## For deleting the auxiliary 2D array.\\n# del loaded_mod_psis\\n'"
      ]
     },
     "execution_count": 7,
     "metadata": {},
     "output_type": "execute_result"
    }
   ],
   "source": [
    "## In case there is a need to save memory.\n",
    "# del psis\n",
    "# del M\n",
    "# del psi_vect\n",
    "# del A\n",
    "# del Asp\n",
    "# del b\n",
    "# del im \n",
    "# del re\n",
    "# del psi\n",
    "\n",
    "#%%\n",
    "# =============================================================================\n",
    "# Third step: We make the animation.\n",
    "# =============================================================================\n",
    "\n",
    "fig = plt.figure() # We create the figure.\n",
    "ax = fig.add_subplot(111, xlim=(0,L), ylim=(0,L)) # We add the subplot to the figure.\n",
    "\n",
    "img = ax.imshow(mod_psis[0], extent=[0,L,0,L], cmap=plt.get_cmap(\"hot\"), vmin=0, vmax=np.max(mod_psis), zorder=1) # Here the modulus of the 2D wave function shall be represented.\n",
    "\n",
    "# We paint the walls of the double slit with rectangles.\n",
    "slitcolor = \"w\" # Color of the rectangles.\n",
    "slitalpha = 0.08 # Transparency of the rectangles.\n",
    "wall_bottom = Rectangle((j0*Dy,0),     w, i3*Dy,      color=slitcolor, zorder=50, alpha=slitalpha) # (x0, y0), width, height\n",
    "wall_middle = Rectangle((j0*Dy,i2*Dy), w, (i1-i2)*Dy, color=slitcolor, zorder=50, alpha=slitalpha)\n",
    "wall_top    = Rectangle((j0*Dy,i0*Dy), w, i3*Dy,      color=slitcolor, zorder=50, alpha=slitalpha)\n",
    "\n",
    "# We add the rectangular patches to the plot.\n",
    "ax.add_patch(wall_bottom)\n",
    "ax.add_patch(wall_middle)\n",
    "ax.add_patch(wall_top)\n",
    "\n",
    "# We define the animation function for FuncAnimation.\n",
    "\n",
    "def animate(i):\n",
    "    \n",
    "    \"\"\"\n",
    "    Animation function. Paints each frame. Function for Matplotlib's \n",
    "    FuncAnimation.\n",
    "    \"\"\"\n",
    "    \n",
    "    img.set_data(mod_psis[i]) # Fill img with the modulus data of the wave function.\n",
    "    img.set_zorder(1)\n",
    "    \n",
    "    return img, # We return the result ready to use with blit=True.\n",
    "\n",
    "\n",
    "anim = FuncAnimation(fig, animate, interval=20, frames =np.arange(0,Nt,2), repeat=True, blit=0) # We generate the animation.# Generamos la animación.\n",
    "plt.show() # We finally show the animation.\n",
    "\n",
    "## Save the animation (Ubuntu).\n",
    "# anim.save('./animationsName.mp4', writer=\"ffmpeg\", fps=60)\n",
    "\n",
    "#%%\n",
    "### For saving the data.\n",
    "\"\"\"\n",
    "# We transform the 3D array into a 2D array to save it with numpy.savetxt.\n",
    "mod_psis_reshaped = np.asarray(mod_psis).reshape(np.asarray(mod_psis).shape[0], -1) \n",
    "  \n",
    "# We save the 2D array as a text file.\n",
    "np.savetxt(\"mod_psis_data.txt\", mod_psis_reshaped)\n",
    "\"\"\"\n",
    "\n",
    "#%%\n",
    "### To obtain the data from the text file already created earlier.\n",
    "\"\"\"\n",
    "loaded_mod_psis = np.loadtxt(\"mod_psis_data.txt\")\n",
    "  \n",
    "# The loaded_mod_psis array is a 2D array, we need to return it to its original form.\n",
    "\n",
    "mod_psisshape2 = Ny-2\n",
    "\n",
    "# We finally obtain our mod_psis array.\n",
    "\n",
    "mod_psis = loaded_mod_psis.reshape( \n",
    "    loaded_mod_psis.shape[0], loaded_mod_psis.shape[1] // mod_psisshape2, mod_psisshape2) \n",
    "  \n",
    "## For deleting the auxiliary 2D array.\n",
    "# del loaded_mod_psis\n",
    "\"\"\""
   ]
  },
  {
   "cell_type": "code",
   "execution_count": 8,
   "id": "975d60d8-1b7d-426a-a0bd-eb39f42c6ab0",
   "metadata": {},
   "outputs": [
    {
     "name": "stdout",
     "output_type": "stream",
     "text": [
      "[[200.+0.j 200.+0.j 200.+0.j ... 200.+0.j 200.+0.j 200.+0.j]\n",
      " [200.+0.j 200.+0.j 200.+0.j ... 200.+0.j 200.+0.j 200.+0.j]\n",
      " [200.+0.j 200.+0.j 200.+0.j ... 200.+0.j 200.+0.j 200.+0.j]\n",
      " ...\n",
      " [200.+0.j 200.+0.j 200.+0.j ... 200.+0.j 200.+0.j 200.+0.j]\n",
      " [200.+0.j 200.+0.j 200.+0.j ... 200.+0.j 200.+0.j 200.+0.j]\n",
      " [200.+0.j 200.+0.j 200.+0.j ... 200.+0.j 200.+0.j 200.+0.j]]\n"
     ]
    }
   ],
   "source": [
    "print(v[:, j0:j1])"
   ]
  },
  {
   "cell_type": "code",
   "execution_count": 9,
   "id": "bc938fa9-2c61-4b64-ace1-1bf35baf8c6a",
   "metadata": {},
   "outputs": [
    {
     "data": {
      "text/plain": [
       "74"
      ]
     },
     "execution_count": 9,
     "metadata": {},
     "output_type": "execute_result"
    }
   ],
   "source": [
    "j0"
   ]
  },
  {
   "cell_type": "code",
   "execution_count": 10,
   "id": "2e35b0b4-7c37-4c29-b38c-a7a31749ee7a",
   "metadata": {},
   "outputs": [
    {
     "data": {
      "text/plain": [
       "86"
      ]
     },
     "execution_count": 10,
     "metadata": {},
     "output_type": "execute_result"
    }
   ],
   "source": [
    "j1"
   ]
  },
  {
   "cell_type": "code",
   "execution_count": 11,
   "id": "34a74d49-e6e1-470c-ae5d-1bda1a274941",
   "metadata": {},
   "outputs": [
    {
     "data": {
      "text/plain": [
       "array([[ 1.+0.5j  , -0.-0.125j,  0.+0.j   , ...,  0.+0.j   ,  0.+0.j   ,\n",
       "         0.+0.j   ],\n",
       "       [-0.-0.125j,  1.+0.5j  , -0.-0.125j, ...,  0.+0.j   ,  0.+0.j   ,\n",
       "         0.+0.j   ],\n",
       "       [ 0.+0.j   , -0.-0.125j,  1.+0.5j  , ...,  0.+0.j   ,  0.+0.j   ,\n",
       "         0.+0.j   ],\n",
       "       ...,\n",
       "       [ 0.+0.j   ,  0.+0.j   ,  0.+0.j   , ...,  1.+0.5j  , -0.-0.125j,\n",
       "         0.+0.j   ],\n",
       "       [ 0.+0.j   ,  0.+0.j   ,  0.+0.j   , ..., -0.-0.125j,  1.+0.5j  ,\n",
       "        -0.-0.125j],\n",
       "       [ 0.+0.j   ,  0.+0.j   ,  0.+0.j   , ...,  0.+0.j   , -0.-0.125j,\n",
       "         1.+0.5j  ]])"
      ]
     },
     "execution_count": 11,
     "metadata": {},
     "output_type": "execute_result"
    }
   ],
   "source": [
    "A"
   ]
  },
  {
   "cell_type": "code",
   "execution_count": null,
   "id": "8ccb551e-0009-4e98-a575-1ca04d547d97",
   "metadata": {},
   "outputs": [],
   "source": []
  }
 ],
 "metadata": {
  "kernelspec": {
   "display_name": "Python 3 (ipykernel)",
   "language": "python",
   "name": "python3"
  },
  "language_info": {
   "codemirror_mode": {
    "name": "ipython",
    "version": 3
   },
   "file_extension": ".py",
   "mimetype": "text/x-python",
   "name": "python",
   "nbconvert_exporter": "python",
   "pygments_lexer": "ipython3",
   "version": "3.10.8"
  }
 },
 "nbformat": 4,
 "nbformat_minor": 5
}
