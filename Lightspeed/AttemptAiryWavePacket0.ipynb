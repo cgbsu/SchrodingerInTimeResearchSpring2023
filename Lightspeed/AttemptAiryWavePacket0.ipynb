{
 "cells": [
  {
   "cell_type": "code",
   "execution_count": 1,
   "id": "df4329a4-ad5e-4816-8011-1ceb7b865644",
   "metadata": {},
   "outputs": [],
   "source": [
    "%matplotlib widget"
   ]
  },
  {
   "cell_type": "code",
   "execution_count": 2,
   "id": "9a374f44-e92a-4154-ba76-cf3a0c680900",
   "metadata": {},
   "outputs": [],
   "source": [
    "from functools import partial"
   ]
  },
  {
   "cell_type": "code",
   "execution_count": 3,
   "id": "cf6c7a59-133a-4874-9420-a262a3c9fe25",
   "metadata": {},
   "outputs": [],
   "source": [
    "from libschrodinger.crank_nicolson_2d import *"
   ]
  },
  {
   "cell_type": "code",
   "execution_count": 4,
   "id": "3e2b1a21-6c06-4807-95cf-e01bbf8d3ac7",
   "metadata": {},
   "outputs": [],
   "source": [
    "from libschrodinger.potentials import *"
   ]
  },
  {
   "cell_type": "code",
   "execution_count": 5,
   "id": "a44c371c-7152-4bfa-9027-910600155c42",
   "metadata": {},
   "outputs": [],
   "source": [
    "from libschrodinger.campaigns import *"
   ]
  },
  {
   "cell_type": "code",
   "execution_count": 6,
   "id": "1d6992dd-60eb-4133-b81c-b856977c126a",
   "metadata": {},
   "outputs": [],
   "source": [
    "import numpy as np"
   ]
  },
  {
   "cell_type": "code",
   "execution_count": 7,
   "id": "21e2b4de-716e-4538-a449-773ba81c9616",
   "metadata": {},
   "outputs": [],
   "source": [
    "import pandas as pd"
   ]
  },
  {
   "cell_type": "code",
   "execution_count": 8,
   "id": "79eb77a0-ef23-4c2b-b3f1-5be02b97169e",
   "metadata": {},
   "outputs": [],
   "source": [
    "from pathlib import Path"
   ]
  },
  {
   "cell_type": "code",
   "execution_count": 9,
   "id": "aab3ff36-19b0-45fa-a4b6-aa2aaf9cfd3b",
   "metadata": {},
   "outputs": [],
   "source": [
    "from typing import Dict"
   ]
  },
  {
   "cell_type": "code",
   "execution_count": 10,
   "id": "34fe89ef-0b73-4188-9282-ff4e122cae1f",
   "metadata": {},
   "outputs": [],
   "source": [
    "from scipy import special"
   ]
  },
  {
   "cell_type": "code",
   "execution_count": 11,
   "id": "aad5f901-c59e-4c05-9566-2880829f0011",
   "metadata": {},
   "outputs": [],
   "source": [
    "caseName : str = \"airy0\""
   ]
  },
  {
   "cell_type": "code",
   "execution_count": 12,
   "id": "ca455133-852f-4f95-a8ad-416327edee72",
   "metadata": {},
   "outputs": [],
   "source": [
    "class PropigationDirection(Enum): \n",
    "    Forward : float = 1\n",
    "    Backward : float = -1"
   ]
  },
  {
   "cell_type": "code",
   "execution_count": 13,
   "id": "8e6a2dd5-29f4-4108-b10d-3522e1e8b943",
   "metadata": {},
   "outputs": [],
   "source": [
    "def makeNonDispersiveWavePacket(\n",
    "            grid, \n",
    "            startX : float, \n",
    "            startY : float, \n",
    "            angularFrequency : float, \n",
    "            speedOfLight : float, \n",
    "            sigma : float, \n",
    "            direction : PropigationDirection = PropigationDirection.Backward\n",
    "        ): \n",
    "    waveNumber = angularFrequency / speedOfLight\n",
    "    ##wave = np.exp(1j * waveNumber * ((grid.x - startX) + (grid.y - startY)))\n",
    "    #wave = np.exp((-grid.x ** 2 + 1j * waveNumber * grid.x) + (-grid.y ** 2 + 1j * waveNumber * grid.y))\n",
    "    #amplitude = (1 / np.sqrt(2))\n",
    "    #return wave\n",
    "    \n",
    "    #velocityPart = math.exp(1j * waveNumber * (grid.x - startX))\n",
    "    #stationaryPart = math.exp(-1 / 2 * ((grid.x - startX) ** 2 + (grid.y - startY) ** 2) / sigma ** 2)\n",
    "    #return stationaryPart * velocityPart\n",
    "    return special.airy(waveNumber * (startX - grid.x))[0]\n"
   ]
  },
  {
   "cell_type": "code",
   "execution_count": 14,
   "id": "6d98a8fe-d452-4992-971e-3ad99963a5c7",
   "metadata": {},
   "outputs": [
    {
     "name": "stdout",
     "output_type": "stream",
     "text": [
      "Point Count:  100\n",
      "Post Region Length:  0.3\n",
      "Intra Region Length:  0.4\n",
      "Pre Region Length:  0.3\n",
      "Barrier Length:  0.13333333333333333\n",
      "Total Length:  1.0\n",
      "Total Length Ratios:  1.0\n"
     ]
    }
   ],
   "source": [
    "math = np\n",
    "spatialStep : float = .01\n",
    "length : float = 1\n",
    "temporalStep : float = (spatialStep ** 2) / 4\n",
    "courantNumber : float = 1.0\n",
    "pointCount : int = int(length / spatialStep)\n",
    "potentialHeight : float = 200\n",
    "preRegionLength = .3\n",
    "preRegionScalar = 10\n",
    "packetStandardDeviation : float = preRegionLength / preRegionScalar\n",
    "packetStartX : float = 1 - ((preRegionScalar / 2) * packetStandardDeviation)\n",
    "packetStartY : float = .5\n",
    "angularFrequency : float = 50.0\n",
    "speedOfLight : float = 1\n",
    "#packetWaveNumber : float = 13 * np.pi\n",
    "\n",
    "barrierCount : int = 3\n",
    "postRegionLength = .3\n",
    "intraRegionLength : float = 1 - (postRegionLength + preRegionLength)\n",
    "barrierWidth : float = intraRegionLength / barrierCount\n",
    "constantPotentialLengthRatios : List[float] = [postRegionLength] \\\n",
    "        + ([barrierWidth] * barrierCount) \\\n",
    "        + [preRegionLength]\n",
    "print(\"Point Count: \", pointCount)\n",
    "print(\"Post Region Length: \", postRegionLength)\n",
    "print(\"Intra Region Length: \", intraRegionLength)\n",
    "print(\"Pre Region Length: \", preRegionLength)\n",
    "print(\"Barrier Length: \", barrierWidth)\n",
    "print(\"Total Length: \", intraRegionLength + postRegionLength + preRegionLength)\n",
    "print(\"Total Length Ratios: \", np.sum(constantPotentialLengthRatios))\n",
    "frameCount : int = 650\n",
    "backend = \"numpy\""
   ]
  },
  {
   "cell_type": "code",
   "execution_count": null,
   "id": "567da6f2-e666-44fe-801f-08737a668136",
   "metadata": {},
   "outputs": [],
   "source": []
  },
  {
   "cell_type": "code",
   "execution_count": 15,
   "id": "801d7cb7-16e7-4c41-97a3-412503ee2fdf",
   "metadata": {},
   "outputs": [],
   "source": [
    "wavePacketFunction = lambda position : makeNonDispersiveWavePacket(\n",
    "            position, \n",
    "            packetStartX * length, \n",
    "            packetStartY * length, \n",
    "            angularFrequency, \n",
    "            speedOfLight, \n",
    "            packetStandardDeviation\n",
    "        )"
   ]
  },
  {
   "cell_type": "code",
   "execution_count": 16,
   "id": "a9c618a2-7f5a-450e-b011-d64ef7663ea3",
   "metadata": {},
   "outputs": [],
   "source": [
    "potentials : List[List[float]] = [\n",
    "        [0, 0, 0, 0, 0]\n",
    "    ]"
   ]
  },
  {
   "cell_type": "code",
   "execution_count": 17,
   "id": "5f08f234-17f0-43cd-977b-92196e55c444",
   "metadata": {},
   "outputs": [],
   "source": [
    "profiles : List[SimulationProfile] = constantSimulationProfiles(\n",
    "        wavePacketFunction, \n",
    "        spatialStep, \n",
    "        temporalStep, \n",
    "        length, \n",
    "        constantPotentialLengthRatios, \n",
    "        potentials, \n",
    "        False, \n",
    "        pointCount, \n",
    "        False, \n",
    "        edgeBound = True\n",
    "    )"
   ]
  },
  {
   "cell_type": "code",
   "execution_count": 18,
   "id": "f71aedf2-77ef-4338-9e0d-fa727733acce",
   "metadata": {},
   "outputs": [
    {
     "data": {
      "text/plain": [
       "[0.3, 0.13333333333333333, 0.13333333333333333, 0.13333333333333333, 0.3]"
      ]
     },
     "execution_count": 18,
     "metadata": {},
     "output_type": "execute_result"
    }
   ],
   "source": [
    "constantPotentialLengthRatios"
   ]
  },
  {
   "cell_type": "code",
   "execution_count": 19,
   "id": "8e3dc6f5-9c5f-4a21-9037-38b141b2d6b9",
   "metadata": {},
   "outputs": [
    {
     "name": "stdout",
     "output_type": "stream",
     "text": [
      "[====================================================================================================]\n",
      "[----------------------------------------------------------------------------------------------------]\n",
      "Total Time:  49.5983612630007\n",
      "Frames Per Second:  13.882735355254002\n",
      "Simulation 0 is done, processing probabilities.\n",
      "Simulation 0: done processing probabilities.\n",
      "Simulation 0: logging.\n",
      "Saving Video of airy00\n",
      "Saving Video of Post\n",
      "Saving Video of 3rdStair\n",
      "Saving Video of 2ndStair\n",
      "Saving Video of 1stStair\n",
      "Saving Video of Pre\n",
      "Done logging airy00\n",
      "Producing Simulation final output CSV\n"
     ]
    }
   ],
   "source": [
    "allData, simulations = recordConstantRegionSimulations(\n",
    "        profiles, \n",
    "        frameCount, \n",
    "        caseName, \n",
    "        constantPotentialLengthRatios, \n",
    "        True, \n",
    "        constantRegionLabels = [\"Post\", \"3rdStair\", \"2ndStair\", \"1stStair\", \"Pre\"], \n",
    "        showBar = True, \n",
    "        showFPS = True, \n",
    "        showTotalTime = True, \n",
    "        discardSimulations = False\n",
    "    )"
   ]
  },
  {
   "cell_type": "code",
   "execution_count": 20,
   "id": "add67677-6f02-4c86-be5c-35f6c0c90532",
   "metadata": {},
   "outputs": [],
   "source": [
    "allData[\"packetStartX\"] = packetStartX\n",
    "allData[\"packetStartY\"] = packetStartY\n",
    "allData[\"initialWaveNumber\"] = \"NULL\"#packetWaveNumber\n",
    "allData[\"standardDeviation\"] = packetStandardDeviation"
   ]
  },
  {
   "cell_type": "code",
   "execution_count": 21,
   "id": "2555c902-f42c-4612-b9de-fec6c7f4b479",
   "metadata": {},
   "outputs": [],
   "source": [
    "pd.DataFrame(allData).to_csv(str(Path.cwd() / caseName / (caseName + \".csv\")))"
   ]
  },
  {
   "cell_type": "code",
   "execution_count": null,
   "id": "6db51e96-793f-46f9-8318-ecc4708c0e92",
   "metadata": {},
   "outputs": [],
   "source": []
  },
  {
   "cell_type": "code",
   "execution_count": 22,
   "id": "7514cf8e-bf2f-4487-aca0-6d9a9c1c0b19",
   "metadata": {},
   "outputs": [],
   "source": [
    "from numpy.fft import fft, ifft, fft2, ifft2"
   ]
  },
  {
   "cell_type": "code",
   "execution_count": 23,
   "id": "06cacf14-28e9-4b73-8964-3e074be28297",
   "metadata": {},
   "outputs": [],
   "source": [
    "simulation = simulations[0]"
   ]
  },
  {
   "cell_type": "code",
   "execution_count": 24,
   "id": "168463ba-75a6-48bd-b2e7-3567fc856c0a",
   "metadata": {},
   "outputs": [],
   "source": [
    "firstWaveFunction = simulation.waveFunctions[1]"
   ]
  },
  {
   "cell_type": "code",
   "execution_count": 25,
   "id": "0f0d09fe-2c19-4ab2-af9e-930f65c7ab42",
   "metadata": {},
   "outputs": [
    {
     "name": "stderr",
     "output_type": "stream",
     "text": [
      "/tmp/ipykernel_1017/2611361299.py:2: ComplexWarning: Casting complex values to real discards the imaginary part\n",
      "  plt.imshow(np.float64(firstWaveFunction * np.conjugate(firstWaveFunction)))\n"
     ]
    },
    {
     "data": {
      "text/plain": [
       "<matplotlib.image.AxesImage at 0x7f51b8018e80>"
      ]
     },
     "execution_count": 25,
     "metadata": {},
     "output_type": "execute_result"
    },
    {
     "data": {
      "application/vnd.jupyter.widget-view+json": {
       "model_id": "1ff2473036df41a5ba1bb68f60aabd82",
       "version_major": 2,
       "version_minor": 0
      },
      "image/png": "[encoded data removed]",
      "text/html": [
       "\n",
       "            <div style=\"display: inline-block;\">\n",
       "                <div class=\"jupyter-widgets widget-label\" style=\"text-align: center;\">\n",
       "                    Figure\n",
       "                </div>\n",
       "                <img src='data:image/png;base64,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' width=640.0/>\n",
       "            </div>\n",
       "        "
      ],
      "text/plain": [
       "Canvas(toolbar=Toolbar(toolitems=[('Home', 'Reset original view', 'home', 'home'), ('Back', 'Back to previous …"
      ]
     },
     "metadata": {},
     "output_type": "display_data"
    }
   ],
   "source": [
    "plt.figure()\n",
    "plt.imshow(np.float64(firstWaveFunction * np.conjugate(firstWaveFunction)))"
   ]
  },
  {
   "cell_type": "code",
   "execution_count": 26,
   "id": "754de8c1-9c95-4878-8e51-135ebb9cacb8",
   "metadata": {},
   "outputs": [
    {
     "name": "stderr",
     "output_type": "stream",
     "text": [
      "/tmp/ipykernel_1017/2068215190.py:2: ComplexWarning: Casting complex values to real discards the imaginary part\n",
      "  conjugated = np.float64(transformed * np.conjugate(transformed))\n"
     ]
    },
    {
     "data": {
      "text/plain": [
       "<matplotlib.image.AxesImage at 0x7f51afdbcbb0>"
      ]
     },
     "execution_count": 26,
     "metadata": {},
     "output_type": "execute_result"
    },
    {
     "data": {
      "application/vnd.jupyter.widget-view+json": {
       "model_id": "5c650fd86b2141cb813cb25d0bfd6b5c",
       "version_major": 2,
       "version_minor": 0
      },
      "image/png": "[encoded data removed]",
      "text/html": [
       "\n",
       "            <div style=\"display: inline-block;\">\n",
       "                <div class=\"jupyter-widgets widget-label\" style=\"text-align: center;\">\n",
       "                    Figure\n",
       "                </div>\n",
       "                <img src='data:image/png;base64,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' width=640.0/>\n",
       "            </div>\n",
       "        "
      ],
      "text/plain": [
       "Canvas(toolbar=Toolbar(toolitems=[('Home', 'Reset original view', 'home', 'home'), ('Back', 'Back to previous …"
      ]
     },
     "metadata": {},
     "output_type": "display_data"
    }
   ],
   "source": [
    "transformed = fft2(firstWaveFunction)\n",
    "conjugated = np.float64(transformed * np.conjugate(transformed))\n",
    "plt.figure()\n",
    "plt.imshow(conjugated)"
   ]
  },
  {
   "cell_type": "code",
   "execution_count": 27,
   "id": "6dd3de21-40db-44fc-824f-dbedf9f6a70c",
   "metadata": {},
   "outputs": [
    {
     "data": {
      "text/plain": [
       "<matplotlib.image.AxesImage at 0x7f51afe16b90>"
      ]
     },
     "execution_count": 27,
     "metadata": {},
     "output_type": "execute_result"
    },
    {
     "data": {
      "application/vnd.jupyter.widget-view+json": {
       "model_id": "d3aa80ac454a419e8273ca9500ce4e0c",
       "version_major": 2,
       "version_minor": 0
      },
      "image/png": "[encoded data removed]",
      "text/html": [
       "\n",
       "            <div style=\"display: inline-block;\">\n",
       "                <div class=\"jupyter-widgets widget-label\" style=\"text-align: center;\">\n",
       "                    Figure\n",
       "                </div>\n",
       "                <img src='data:image/png;base64,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' width=640.0/>\n",
       "            </div>\n",
       "        "
      ],
      "text/plain": [
       "Canvas(toolbar=Toolbar(toolitems=[('Home', 'Reset original view', 'home', 'home'), ('Back', 'Back to previous …"
      ]
     },
     "metadata": {},
     "output_type": "display_data"
    }
   ],
   "source": [
    "plt.figure()\n",
    "plt.imshow(np.real(firstWaveFunction))"
   ]
  },
  {
   "cell_type": "code",
   "execution_count": 28,
   "id": "9a624325-973b-40b2-a255-8b537f8630f1",
   "metadata": {},
   "outputs": [
    {
     "data": {
      "text/plain": [
       "<matplotlib.image.AxesImage at 0x7f51afe95630>"
      ]
     },
     "execution_count": 28,
     "metadata": {},
     "output_type": "execute_result"
    },
    {
     "data": {
      "application/vnd.jupyter.widget-view+json": {
       "model_id": "c35139b1e20e4fe58c805f918e2bb271",
       "version_major": 2,
       "version_minor": 0
      },
      "image/png": "[encoded data removed]",
      "text/html": [
       "\n",
       "            <div style=\"display: inline-block;\">\n",
       "                <div class=\"jupyter-widgets widget-label\" style=\"text-align: center;\">\n",
       "                    Figure\n",
       "                </div>\n",
       "                <img src='data:image/png;base64,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' width=640.0/>\n",
       "            </div>\n",
       "        "
      ],
      "text/plain": [
       "Canvas(toolbar=Toolbar(toolitems=[('Home', 'Reset original view', 'home', 'home'), ('Back', 'Back to previous …"
      ]
     },
     "metadata": {},
     "output_type": "display_data"
    }
   ],
   "source": [
    "plt.figure()\n",
    "plt.imshow(np.imag(firstWaveFunction))"
   ]
  },
  {
   "cell_type": "code",
   "execution_count": null,
   "id": "f8abd268-8dc1-4f7a-a1a0-968ed990ff6f",
   "metadata": {},
   "outputs": [],
   "source": []
  },
  {
   "cell_type": "code",
   "execution_count": 29,
   "id": "88cd2c43-c78e-4fe8-b197-1b63f7d85590",
   "metadata": {},
   "outputs": [
    {
     "name": "stderr",
     "output_type": "stream",
     "text": [
      "/tmp/ipykernel_1017/27344338.py:3: ComplexWarning: Casting complex values to real discards the imaginary part\n",
      "  conjugated = np.float64(transformed * np.conjugate(transformed))\n"
     ]
    },
    {
     "data": {
      "text/plain": [
       "<matplotlib.image.AxesImage at 0x7f51afceba90>"
      ]
     },
     "execution_count": 29,
     "metadata": {},
     "output_type": "execute_result"
    },
    {
     "data": {
      "application/vnd.jupyter.widget-view+json": {
       "model_id": "9cfef32c398944c39cdf2133aee87e7e",
       "version_major": 2,
       "version_minor": 0
      },
      "image/png": "[encoded data removed]",
      "text/html": [
       "\n",
       "            <div style=\"display: inline-block;\">\n",
       "                <div class=\"jupyter-widgets widget-label\" style=\"text-align: center;\">\n",
       "                    Figure\n",
       "                </div>\n",
       "                <img src='data:image/png;base64,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' width=640.0/>\n",
       "            </div>\n",
       "        "
      ],
      "text/plain": [
       "Canvas(toolbar=Toolbar(toolitems=[('Home', 'Reset original view', 'home', 'home'), ('Back', 'Back to previous …"
      ]
     },
     "metadata": {},
     "output_type": "display_data"
    }
   ],
   "source": [
    "plt.figure()\n",
    "transformed = fft(np.real(firstWaveFunction))\n",
    "conjugated = np.float64(transformed * np.conjugate(transformed))\n",
    "plt.imshow(conjugated)"
   ]
  },
  {
   "cell_type": "code",
   "execution_count": 30,
   "id": "a0bbb4e1-af3b-4dc5-8f80-0e2f4b8ff4b1",
   "metadata": {},
   "outputs": [
    {
     "name": "stderr",
     "output_type": "stream",
     "text": [
      "/tmp/ipykernel_1017/1644908153.py:3: ComplexWarning: Casting complex values to real discards the imaginary part\n",
      "  conjugated = np.float64(transformed * np.conjugate(transformed))\n"
     ]
    },
    {
     "data": {
      "text/plain": [
       "<matplotlib.image.AxesImage at 0x7f51afd62740>"
      ]
     },
     "execution_count": 30,
     "metadata": {},
     "output_type": "execute_result"
    },
    {
     "data": {
      "application/vnd.jupyter.widget-view+json": {
       "model_id": "312a1909d2e2404484d35ea0c2accd97",
       "version_major": 2,
       "version_minor": 0
      },
      "image/png": "[encoded data removed]",
      "text/html": [
       "\n",
       "            <div style=\"display: inline-block;\">\n",
       "                <div class=\"jupyter-widgets widget-label\" style=\"text-align: center;\">\n",
       "                    Figure\n",
       "                </div>\n",
       "                <img src='data:image/png;base64,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' width=640.0/>\n",
       "            </div>\n",
       "        "
      ],
      "text/plain": [
       "Canvas(toolbar=Toolbar(toolitems=[('Home', 'Reset original view', 'home', 'home'), ('Back', 'Back to previous …"
      ]
     },
     "metadata": {},
     "output_type": "display_data"
    }
   ],
   "source": [
    "plt.figure()\n",
    "transformed = ifft(np.imag(firstWaveFunction))\n",
    "conjugated = np.float64(transformed * np.conjugate(transformed))\n",
    "plt.imshow(conjugated)"
   ]
  },
  {
   "cell_type": "code",
   "execution_count": null,
   "id": "e1996cdd-cdfe-4265-9058-246e88776ed3",
   "metadata": {},
   "outputs": [],
   "source": []
  }
 ],
 "metadata": {
  "kernelspec": {
   "display_name": "Python 3 (ipykernel)",
   "language": "python",
   "name": "python3"
  },
  "language_info": {
   "codemirror_mode": {
    "name": "ipython",
    "version": 3
   },
   "file_extension": ".py",
   "mimetype": "text/x-python",
   "name": "python",
   "nbconvert_exporter": "python",
   "pygments_lexer": "ipython3",
   "version": "3.10.8"
  }
 },
 "nbformat": 4,
 "nbformat_minor": 5
}
