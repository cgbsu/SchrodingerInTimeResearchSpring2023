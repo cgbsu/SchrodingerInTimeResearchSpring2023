{
 "cells": [
  {
   "cell_type": "code",
   "execution_count": 1,
   "id": "df4329a4-ad5e-4816-8011-1ceb7b865644",
   "metadata": {},
   "outputs": [],
   "source": [
    "%matplotlib widget"
   ]
  },
  {
   "cell_type": "code",
   "execution_count": 2,
   "id": "9a374f44-e92a-4154-ba76-cf3a0c680900",
   "metadata": {},
   "outputs": [],
   "source": [
    "from functools import partial"
   ]
  },
  {
   "cell_type": "code",
   "execution_count": 3,
   "id": "cf6c7a59-133a-4874-9420-a262a3c9fe25",
   "metadata": {},
   "outputs": [],
   "source": [
    "from libschrodinger.crank_nicolson_2d import *"
   ]
  },
  {
   "cell_type": "code",
   "execution_count": 4,
   "id": "3e2b1a21-6c06-4807-95cf-e01bbf8d3ac7",
   "metadata": {},
   "outputs": [],
   "source": [
    "from libschrodinger.potentials import *"
   ]
  },
  {
   "cell_type": "code",
   "execution_count": 5,
   "id": "1d6992dd-60eb-4133-b81c-b856977c126a",
   "metadata": {},
   "outputs": [],
   "source": [
    "import numpy as np"
   ]
  },
  {
   "cell_type": "code",
   "execution_count": null,
   "id": "21e2b4de-716e-4538-a449-773ba81c9616",
   "metadata": {},
   "outputs": [],
   "source": [
    "import pandas as pd"
   ]
  },
  {
   "cell_type": "code",
   "execution_count": null,
   "id": "79eb77a0-ef23-4c2b-b3f1-5be02b97169e",
   "metadata": {},
   "outputs": [],
   "source": [
    "from pathlib import Path"
   ]
  },
  {
   "cell_type": "code",
   "execution_count": null,
   "id": "aab3ff36-19b0-45fa-a4b6-aa2aaf9cfd3b",
   "metadata": {},
   "outputs": [],
   "source": [
    "from typing import Dict"
   ]
  },
  {
   "cell_type": "code",
   "execution_count": null,
   "id": "aad5f901-c59e-4c05-9566-2880829f0011",
   "metadata": {},
   "outputs": [],
   "source": [
    "caseName : str = \"lightspeed1\""
   ]
  },
  {
   "cell_type": "code",
   "execution_count": null,
   "id": "ca455133-852f-4f95-a8ad-416327edee72",
   "metadata": {},
   "outputs": [],
   "source": [
    "class PropigationDirection(Enum): \n",
    "    Forward : float = 1\n",
    "    Backward : float = -1"
   ]
  },
  {
   "cell_type": "code",
   "execution_count": null,
   "id": "8e6a2dd5-29f4-4108-b10d-3522e1e8b943",
   "metadata": {},
   "outputs": [],
   "source": [
    "def makeNonDispersiveWavePacket(\n",
    "            grid, \n",
    "            startX : float, \n",
    "            startY : float, \n",
    "            angularFrequency : float, \n",
    "            speedOfLight : float, \n",
    "            sigma : float, \n",
    "            direction : PropigationDirection = PropigationDirection.Backward\n",
    "        ): \n",
    "    waveNumber = angularFrequency / speedOfLight\n",
    "    ##wave = np.exp(1j * waveNumber * ((grid.x - startX) + (grid.y - startY)))\n",
    "    #wave = np.exp((-grid.x ** 2 + 1j * waveNumber * grid.x) + (-grid.y ** 2 + 1j * waveNumber * grid.y))\n",
    "    #amplitude = (1 / np.sqrt(2))\n",
    "    #return wave\n",
    "    velocityPart = math.exp(waveNumber * (grid.x - startX))\n",
    "    stationaryPart = math.exp(-1 / 2 * ((grid.x - startX) ** 2 + (grid.y - startY) ** 2) / sigma ** 2)\n",
    "    return stationaryPart * velocityPart\n"
   ]
  },
  {
   "cell_type": "code",
   "execution_count": null,
   "id": "6d98a8fe-d452-4992-971e-3ad99963a5c7",
   "metadata": {},
   "outputs": [],
   "source": [
    "math = np\n",
    "spatialStep : float = .01\n",
    "length : float = 1\n",
    "temporalStep : float = (spatialStep ** 2) / 4\n",
    "courantNumber : float = 1.0\n",
    "pointCount : int = int(length / spatialStep)\n",
    "potentialHeight : float = 200\n",
    "preRegionLength = .3\n",
    "preRegionScalar = 10\n",
    "packetStandardDeviation : float = preRegionLength / preRegionScalar\n",
    "packetStartX : float = 1 - ((preRegionScalar / 2) * packetStandardDeviation)\n",
    "packetStartY : float = .5\n",
    "angularFrequency : float = 1.0\n",
    "speedOfLight : float = 1.0\n",
    "#packetWaveNumber : float = 13 * np.pi\n",
    "\n",
    "barrierCount : int = 3\n",
    "postRegionLength = .3\n",
    "intraRegionLength : float = 1 - (postRegionLength + preRegionLength)\n",
    "barrierWidth : float = intraRegionLength / barrierCount\n",
    "constantPotentialLengthRatios : List[float] = [postRegionLength] \\\n",
    "        + ([barrierWidth] * barrierCount) \\\n",
    "        + [preRegionLength]\n",
    "print(\"Point Count: \", pointCount)\n",
    "print(\"Post Region Length: \", postRegionLength)\n",
    "print(\"Intra Region Length: \", intraRegionLength)\n",
    "print(\"Pre Region Length: \", preRegionLength)\n",
    "print(\"Barrier Length: \", barrierWidth)\n",
    "print(\"Total Length: \", intraRegionLength + postRegionLength + preRegionLength)\n",
    "print(\"Total Length Ratios: \", np.sum(constantPotentialLengthRatios))\n",
    "frameCount : int = 650\n",
    "backend = \"numpy\""
   ]
  },
  {
   "cell_type": "code",
   "execution_count": null,
   "id": "567da6f2-e666-44fe-801f-08737a668136",
   "metadata": {},
   "outputs": [],
   "source": []
  },
  {
   "cell_type": "code",
   "execution_count": null,
   "id": "801d7cb7-16e7-4c41-97a3-412503ee2fdf",
   "metadata": {},
   "outputs": [],
   "source": [
    "wavePacketFunction = lambda position : makeNonDispersiveWavePacket(\n",
    "            position, \n",
    "            packetStartX * length, \n",
    "            packetStartY * length, \n",
    "            angularFrequency, \n",
    "            speedOfLight, \n",
    "            packetStandardDeviation\n",
    "        )"
   ]
  },
  {
   "cell_type": "code",
   "execution_count": null,
   "id": "f158a1d1-bd32-4430-b6a9-a0d31387957a",
   "metadata": {},
   "outputs": [],
   "source": [
    "def recordTotalLengthWiseProbabilities(\n",
    "            simulator : Simulator, \n",
    "            regionLengths : List[float], \n",
    "            regionLabels : Tuple[str], \n",
    "            math = np, \n",
    "            regionLabelPrepend = \"TotalProbability::\"\n",
    "        ) -> pd.DataFrame:\n",
    "    assert len(regionLabels) == len(regionLengths)\n",
    "    currentPosition : float = 0\n",
    "    regionalProbabilities : List[np.array] = []\n",
    "    regionalCutFrames : List[np.array] = []\n",
    "    for ii in range(len(regionLengths)): \n",
    "        regionLength = regionLengths[ii]\n",
    "        probabilities, cutFrames = totalProbabilityInRegion(\n",
    "                simulator.probabilities, \n",
    "                simulator.grid.pointCount, \n",
    "                simulator.spaceStep, \n",
    "                currentPosition, \n",
    "                0, \n",
    "                regionLength, \n",
    "                1, \n",
    "                math\n",
    "            )\n",
    "        regionalProbabilities.append(probabilities)\n",
    "        regionalCutFrames.append(cutFrames)\n",
    "        currentPosition += regionLength\n",
    "    totalProbabilities = {\n",
    "            (regionLabelPrepend + \"Probabilities::\" + regionLabels[ii]) : regionalProbabilities[ii] \\\n",
    "            for ii in range(len(regionLengths))\n",
    "        }\n",
    "    return totalProbabilities, regionalCutFrames"
   ]
  },
  {
   "cell_type": "code",
   "execution_count": null,
   "id": "534d56f6-bca2-49af-85a8-0eb48184cb67",
   "metadata": {},
   "outputs": [],
   "source": []
  },
  {
   "cell_type": "code",
   "execution_count": null,
   "id": "351bfc7e-9693-4051-afde-4bca367c0d04",
   "metadata": {},
   "outputs": [],
   "source": [
    "def logConstantMeasurementRegionSimulation(\n",
    "            baseName : str, \n",
    "            length : float, \n",
    "            simulator : Simulator, \n",
    "            simulationCount : int, \n",
    "            allData : Dict, \n",
    "            constantRegionLengths : List[float], \n",
    "            constantRegionLabels : List[str], \n",
    "            showWhenSimulationDone : bool = False, \n",
    "            math = np, \n",
    "            basePath = None, \n",
    "            animationInterval = 30\n",
    "        ):\n",
    "    basePath = basePath if basePath else Path.cwd() / baseName\n",
    "    if showWhenSimulationDone == True: \n",
    "        print(\"Simulation \" + str(simulationCount) + \": done processing probabilities.\")\n",
    "    if showWhenSimulationDone == True: \n",
    "        print(\"Simulation \" + str(simulationCount) + \": logging.\")\n",
    "    name = baseName + str(simulationCount) + \"::\"\n",
    "    if showWhenSimulationDone == True: \n",
    "        print(\"Saving Video of \" + name[:-2])\n",
    "    videoPath = basePath / str(simulationCount)\n",
    "    videoPath.mkdir(parents = True, exist_ok = True)\n",
    "    totalProbabilities, cutFrames = recordTotalLengthWiseProbabilities(\n",
    "            simulator, \n",
    "            constantRegionLengths, \n",
    "            constantRegionLabels, \n",
    "            math, \n",
    "            name\n",
    "        )\n",
    "    waveAnimation = animateImages(\n",
    "            length, \n",
    "            simulator.probabilities, \n",
    "            animationInterval, \n",
    "            0, \n",
    "            math.max(simulator.probabilities), \n",
    "            constantRegionLengths, \n",
    "            [1] * len(constantRegionLengths), \n",
    "            colorMap = \"hot\"\n",
    "        )\n",
    "    waveAnimation.save(str(videoPath / (str(simulationCount) + \".gif\")))\n",
    "    plt.close()\n",
    "    plt.figure()\n",
    "    plt.imshow(simulator.potentials[0])\n",
    "    plt.savefig(str(videoPath / (str(simulationCount) + \"Potential.png\")))\n",
    "    plt.close()\n",
    "    totalProbabilities[name + \"FrameCount\"] = frameCount\n",
    "    totalProbabilities[name + \"SpaceStep\"] = simulator.profile.spaceStep\n",
    "    totalProbabilities[name + \"TimeStep\"] = simulator.profile.timeStep\n",
    "    totalProbabilities[name + \"PointCount\"] = simulator.profile.grid.pointCount\n",
    "    for ii in range(len(constantRegionLabels)): \n",
    "        print(\"Saving Video of \" + constantRegionLabels[ii])\n",
    "        totalProbabilities[name + \"RegionLength::\" + constantRegionLabels[ii]] = constantRegionLengths[ii]\n",
    "        cutAnimation = animateImages(\n",
    "                length * constantRegionLengths[ii], \n",
    "                cutFrames[ii], \n",
    "                animationInterval, \n",
    "                0, \n",
    "                math.max(cutFrames[ii]), \n",
    "                colorMap = \"hot\"\n",
    "            )\n",
    "        cutAnimation.save(str(videoPath / (constantRegionLabels[ii] + \".gif\")))\n",
    "        plt.close()\n",
    "    allData |= totalProbabilities\n",
    "    if showWhenSimulationDone == True: \n",
    "        print(\"Done logging \" + name[:-2])\n",
    "    simulationCount += 1\n",
    "    if showWhenSimulationDone == True: \n",
    "        print(\"Producing Simulation final output CSV\")\n",
    "    return allData\n",
    "    "
   ]
  },
  {
   "cell_type": "code",
   "execution_count": null,
   "id": "8345e033-4234-4b12-8909-0b9ceb0fea67",
   "metadata": {},
   "outputs": [],
   "source": []
  },
  {
   "cell_type": "code",
   "execution_count": null,
   "id": "3f5346dc-9989-47aa-a35b-ad2885fc1f85",
   "metadata": {},
   "outputs": [],
   "source": [
    "def constantSimulationProfiles( \n",
    "            initialWaveFunction, \n",
    "            spatialStep : float, \n",
    "            temporalStep : float,\n",
    "            length : float, \n",
    "            regionLengthRatios : List[float], \n",
    "            regionPotentialRatios : List[List[float]], \n",
    "            simulateControl : bool, \n",
    "            math = np, \n",
    "            gpuAccelerated = False, \n",
    "            edgeBound = False, \n",
    "            useDense = False, \n",
    "            courantNumber = 1.0\n",
    "        ) -> List[SimulationProfile]:\n",
    "    if simulateControl == True: \n",
    "        regionPotentialRatios.append([0.0 for ii in range(len(regionPotentialRatios[0]))])\n",
    "    profiles : List[SimulationProfile] = []\n",
    "    potentialFunction = lambda potentialRatios, position, time : constantPotentials(\n",
    "                position, \n",
    "                math.array(regionLengthRatios), \n",
    "                potentialRatios, \n",
    "                potentialHeight, \n",
    "                math\n",
    "        )\n",
    "    for potentialRatios in regionPotentialRatios: \n",
    "        profile = SimulationProfile(\n",
    "            makeLinspaceGrid(pointCount, length, 2, False, float, math), \n",
    "            initialWaveFunction, \n",
    "            partial(potentialFunction, potentialRatios), \n",
    "            temporalStep, \n",
    "            spatialStep, \n",
    "            constantPotential = True, \n",
    "            gpuAccelerated = gpuAccelerated, \n",
    "            edgeBound = edgeBound, \n",
    "            useDense = useDense, \n",
    "            courantNumber = courantNumber, \n",
    "            length = length\n",
    "        )\n",
    "        profiles.append(profile)\n",
    "    return profiles"
   ]
  },
  {
   "cell_type": "code",
   "execution_count": null,
   "id": "94fd2a45-df68-4b6a-bf81-7ae812ac6783",
   "metadata": {},
   "outputs": [],
   "source": [
    "def recordConstantRegionSimulations(\n",
    "            profiles : List[SimulationProfile], \n",
    "            frames : int, \n",
    "            baseName : str, \n",
    "            measurmentRegions : List[float], \n",
    "            showWhenSimulationDone = False, \n",
    "            discardSimulations = True, \n",
    "            constantRegionLabels : List[str] = None, \n",
    "            basePath = None, \n",
    "            animationInterval = 30, \n",
    "            showBar : bool = False, \n",
    "            showFPS : bool = False, \n",
    "            showTotalTime : bool = False, \n",
    "            math = np\n",
    "        ):\n",
    "    simulations : List[Simulator] = []\n",
    "    simulationCount : int = 0\n",
    "    allData = {}\n",
    "    constantRegionLabels \\\n",
    "            = [\"Region\" + str(ii) for ii in range(len(constantRegionLabels))] \\\n",
    "            if constantRegionLabels == None else constantRegionLabels \n",
    "    for profile in profiles: \n",
    "        simulator = Simulator(profile)\n",
    "        simulator.simulate(frames, showBar, showFPS, showTotalTime)\n",
    "        if showWhenSimulationDone == True: \n",
    "            print(\"Simulation \" + str(simulationCount) + \" is done, processing probabilities.\")\n",
    "        probabilities, probabilityDecibles = simulator.processProbabilities()\n",
    "        if discardSimulations == False: \n",
    "            simulations.append(simulator)\n",
    "        allData = logConstantMeasurementRegionSimulation(\n",
    "            baseName, \n",
    "            simulator.profile.length, \n",
    "            simulator, \n",
    "            simulationCount, \n",
    "            allData, \n",
    "            measurmentRegions, \n",
    "            constantRegionLabels, \n",
    "            showWhenSimulationDone, \n",
    "            math, \n",
    "            basePath, \n",
    "            animationInterval\n",
    "        )\n",
    "        simulationCount += 1\n",
    "    return allData, simulations"
   ]
  },
  {
   "cell_type": "code",
   "execution_count": null,
   "id": "0c96918d-7190-41eb-b826-280b31ed052f",
   "metadata": {},
   "outputs": [],
   "source": []
  },
  {
   "cell_type": "code",
   "execution_count": null,
   "id": "a9c618a2-7f5a-450e-b011-d64ef7663ea3",
   "metadata": {},
   "outputs": [],
   "source": [
    "potentials : List[List[float]] = [\n",
    "        [0, 0, 0, 0, 0]\n",
    "    ]"
   ]
  },
  {
   "cell_type": "code",
   "execution_count": null,
   "id": "5f08f234-17f0-43cd-977b-92196e55c444",
   "metadata": {},
   "outputs": [],
   "source": [
    "profiles : List[SimulationProfile] = constantSimulationProfiles(\n",
    "        wavePacketFunction, \n",
    "        spatialStep, \n",
    "        temporalStep, \n",
    "        length, \n",
    "        constantPotentialLengthRatios, \n",
    "        potentials, \n",
    "        False, \n",
    "        edgeBound = True\n",
    "    )"
   ]
  },
  {
   "cell_type": "code",
   "execution_count": null,
   "id": "f71aedf2-77ef-4338-9e0d-fa727733acce",
   "metadata": {},
   "outputs": [],
   "source": [
    "constantPotentialLengthRatios"
   ]
  },
  {
   "cell_type": "code",
   "execution_count": null,
   "id": "8e3dc6f5-9c5f-4a21-9037-38b141b2d6b9",
   "metadata": {},
   "outputs": [],
   "source": [
    "allData, _ = recordConstantRegionSimulations(\n",
    "        profiles, \n",
    "        frameCount, \n",
    "        caseName, \n",
    "        constantPotentialLengthRatios, \n",
    "        True, \n",
    "        constantRegionLabels = [\"Post\", \"3rdStair\", \"2ndStair\", \"1stStair\", \"Pre\"], \n",
    "        showBar = True, \n",
    "        showFPS = True, \n",
    "        showTotalTime = True\n",
    "    )"
   ]
  },
  {
   "cell_type": "code",
   "execution_count": null,
   "id": "add67677-6f02-4c86-be5c-35f6c0c90532",
   "metadata": {},
   "outputs": [],
   "source": [
    "allData[\"packetStartX\"] = packetStartX\n",
    "allData[\"packetStartY\"] = packetStartY\n",
    "allData[\"initialWaveNumber\"] = packetWaveNumber\n",
    "allData[\"standardDeviation\"] = packetStandardDeviation"
   ]
  },
  {
   "cell_type": "code",
   "execution_count": null,
   "id": "2555c902-f42c-4612-b9de-fec6c7f4b479",
   "metadata": {},
   "outputs": [],
   "source": [
    "pd.DataFrame(allData).to_csv(str(Path.cwd() / caseName / (caseName + \".csv\")))"
   ]
  },
  {
   "cell_type": "code",
   "execution_count": null,
   "id": "6db51e96-793f-46f9-8318-ecc4708c0e92",
   "metadata": {},
   "outputs": [],
   "source": []
  },
  {
   "cell_type": "code",
   "execution_count": null,
   "id": "c5abaeaf-c0fa-4bbd-8bd6-760fef1b6d38",
   "metadata": {},
   "outputs": [],
   "source": [
    "from numpy.fft import fft"
   ]
  },
  {
   "cell_type": "code",
   "execution_count": null,
   "id": "07a279ff-1ad7-4699-a816-a6b620e108cb",
   "metadata": {},
   "outputs": [],
   "source": [
    "fft(sim"
   ]
  }
 ],
 "metadata": {
  "kernelspec": {
   "display_name": "Python 3 (ipykernel)",
   "language": "python",
   "name": "python3"
  },
  "language_info": {
   "codemirror_mode": {
    "name": "ipython",
    "version": 3
   },
   "file_extension": ".py",
   "mimetype": "text/x-python",
   "name": "python",
   "nbconvert_exporter": "python",
   "pygments_lexer": "ipython3",
   "version": "3.10.8"
  }
 },
 "nbformat": 4,
 "nbformat_minor": 5
}
