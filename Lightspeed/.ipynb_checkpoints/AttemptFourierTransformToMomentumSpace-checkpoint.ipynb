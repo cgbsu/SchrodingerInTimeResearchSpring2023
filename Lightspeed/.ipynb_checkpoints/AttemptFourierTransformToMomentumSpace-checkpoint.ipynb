{
 "cells": [
  {
   "cell_type": "code",
   "execution_count": 1,
   "id": "df4329a4-ad5e-4816-8011-1ceb7b865644",
   "metadata": {},
   "outputs": [],
   "source": [
    "%matplotlib widget"
   ]
  },
  {
   "cell_type": "code",
   "execution_count": 2,
   "id": "9a374f44-e92a-4154-ba76-cf3a0c680900",
   "metadata": {},
   "outputs": [],
   "source": [
    "from functools import partial"
   ]
  },
  {
   "cell_type": "code",
   "execution_count": 3,
   "id": "cf6c7a59-133a-4874-9420-a262a3c9fe25",
   "metadata": {},
   "outputs": [],
   "source": [
    "from libschrodinger.crank_nicolson_2d import *"
   ]
  },
  {
   "cell_type": "code",
   "execution_count": 4,
   "id": "3e2b1a21-6c06-4807-95cf-e01bbf8d3ac7",
   "metadata": {},
   "outputs": [],
   "source": [
    "from libschrodinger.potentials import *"
   ]
  },
  {
   "cell_type": "code",
   "execution_count": 5,
   "id": "a44c371c-7152-4bfa-9027-910600155c42",
   "metadata": {},
   "outputs": [],
   "source": [
    "from libschrodinger.campaigns import *"
   ]
  },
  {
   "cell_type": "code",
   "execution_count": 6,
   "id": "1d6992dd-60eb-4133-b81c-b856977c126a",
   "metadata": {},
   "outputs": [],
   "source": [
    "import numpy as np"
   ]
  },
  {
   "cell_type": "code",
   "execution_count": 7,
   "id": "21e2b4de-716e-4538-a449-773ba81c9616",
   "metadata": {},
   "outputs": [],
   "source": [
    "import pandas as pd"
   ]
  },
  {
   "cell_type": "code",
   "execution_count": 8,
   "id": "79eb77a0-ef23-4c2b-b3f1-5be02b97169e",
   "metadata": {},
   "outputs": [],
   "source": [
    "from pathlib import Path"
   ]
  },
  {
   "cell_type": "code",
   "execution_count": 9,
   "id": "aab3ff36-19b0-45fa-a4b6-aa2aaf9cfd3b",
   "metadata": {},
   "outputs": [],
   "source": [
    "from typing import Dict"
   ]
  },
  {
   "cell_type": "code",
   "execution_count": 10,
   "id": "aad5f901-c59e-4c05-9566-2880829f0011",
   "metadata": {},
   "outputs": [],
   "source": [
    "caseName : str = \"lightspeed2\""
   ]
  },
  {
   "cell_type": "code",
   "execution_count": 11,
   "id": "ca455133-852f-4f95-a8ad-416327edee72",
   "metadata": {},
   "outputs": [],
   "source": [
    "class PropigationDirection(Enum): \n",
    "    Forward : float = 1\n",
    "    Backward : float = -1"
   ]
  },
  {
   "cell_type": "code",
   "execution_count": 12,
   "id": "8e6a2dd5-29f4-4108-b10d-3522e1e8b943",
   "metadata": {},
   "outputs": [],
   "source": [
    "def makeNonDispersiveWavePacket(\n",
    "            grid, \n",
    "            startX : float, \n",
    "            startY : float, \n",
    "            angularFrequency : float, \n",
    "            speedOfLight : float, \n",
    "            sigma : float, \n",
    "            direction : PropigationDirection = PropigationDirection.Backward\n",
    "        ): \n",
    "    waveNumber = angularFrequency / speedOfLight\n",
    "    ##wave = np.exp(1j * waveNumber * ((grid.x - startX) + (grid.y - startY)))\n",
    "    #wave = np.exp((-grid.x ** 2 + 1j * waveNumber * grid.x) + (-grid.y ** 2 + 1j * waveNumber * grid.y))\n",
    "    #amplitude = (1 / np.sqrt(2))\n",
    "    #return wave\n",
    "    velocityPart = math.exp(1j * waveNumber * (grid.x - startX))\n",
    "    stationaryPart = math.exp(-1 / 2 * ((grid.x - startX) ** 2 + (grid.y - startY) ** 2) / sigma ** 2)\n",
    "    return stationaryPart * velocityPart\n"
   ]
  },
  {
   "cell_type": "code",
   "execution_count": 13,
   "id": "6d98a8fe-d452-4992-971e-3ad99963a5c7",
   "metadata": {},
   "outputs": [
    {
     "name": "stdout",
     "output_type": "stream",
     "text": [
      "Point Count:  100\n",
      "Post Region Length:  0.3\n",
      "Intra Region Length:  0.4\n",
      "Pre Region Length:  0.3\n",
      "Barrier Length:  0.13333333333333333\n",
      "Total Length:  1.0\n",
      "Total Length Ratios:  1.0\n"
     ]
    }
   ],
   "source": [
    "math = np\n",
    "spatialStep : float = .01\n",
    "length : float = 1\n",
    "temporalStep : float = (spatialStep ** 2) / 4\n",
    "courantNumber : float = 1.0\n",
    "pointCount : int = int(length / spatialStep)\n",
    "potentialHeight : float = 200\n",
    "preRegionLength = .3\n",
    "preRegionScalar = 10\n",
    "packetStandardDeviation : float = preRegionLength / preRegionScalar\n",
    "packetStartX : float = 1 - ((preRegionScalar / 2) * packetStandardDeviation)\n",
    "packetStartY : float = .5\n",
    "angularFrequency : float = 50.0\n",
    "speedOfLight : float = 1\n",
    "#packetWaveNumber : float = 13 * np.pi\n",
    "\n",
    "barrierCount : int = 3\n",
    "postRegionLength = .3\n",
    "intraRegionLength : float = 1 - (postRegionLength + preRegionLength)\n",
    "barrierWidth : float = intraRegionLength / barrierCount\n",
    "constantPotentialLengthRatios : List[float] = [postRegionLength] \\\n",
    "        + ([barrierWidth] * barrierCount) \\\n",
    "        + [preRegionLength]\n",
    "print(\"Point Count: \", pointCount)\n",
    "print(\"Post Region Length: \", postRegionLength)\n",
    "print(\"Intra Region Length: \", intraRegionLength)\n",
    "print(\"Pre Region Length: \", preRegionLength)\n",
    "print(\"Barrier Length: \", barrierWidth)\n",
    "print(\"Total Length: \", intraRegionLength + postRegionLength + preRegionLength)\n",
    "print(\"Total Length Ratios: \", np.sum(constantPotentialLengthRatios))\n",
    "frameCount : int = 650\n",
    "backend = \"numpy\""
   ]
  },
  {
   "cell_type": "code",
   "execution_count": null,
   "id": "567da6f2-e666-44fe-801f-08737a668136",
   "metadata": {},
   "outputs": [],
   "source": []
  },
  {
   "cell_type": "code",
   "execution_count": 14,
   "id": "801d7cb7-16e7-4c41-97a3-412503ee2fdf",
   "metadata": {},
   "outputs": [],
   "source": [
    "wavePacketFunction = lambda position : makeNonDispersiveWavePacket(\n",
    "            position, \n",
    "            packetStartX * length, \n",
    "            packetStartY * length, \n",
    "            angularFrequency, \n",
    "            speedOfLight, \n",
    "            packetStandardDeviation\n",
    "        )"
   ]
  },
  {
   "cell_type": "code",
   "execution_count": 15,
   "id": "a9c618a2-7f5a-450e-b011-d64ef7663ea3",
   "metadata": {},
   "outputs": [],
   "source": [
    "potentials : List[List[float]] = [\n",
    "        [0, 0, 0, 0, 0]\n",
    "    ]"
   ]
  },
  {
   "cell_type": "code",
   "execution_count": 16,
   "id": "5f08f234-17f0-43cd-977b-92196e55c444",
   "metadata": {},
   "outputs": [],
   "source": [
    "profiles : List[SimulationProfile] = constantSimulationProfiles(\n",
    "        wavePacketFunction, \n",
    "        spatialStep, \n",
    "        temporalStep, \n",
    "        length, \n",
    "        constantPotentialLengthRatios, \n",
    "        potentials, \n",
    "        False, \n",
    "        pointCount, \n",
    "        False, \n",
    "        edgeBound = True\n",
    "    )"
   ]
  },
  {
   "cell_type": "code",
   "execution_count": 17,
   "id": "f71aedf2-77ef-4338-9e0d-fa727733acce",
   "metadata": {},
   "outputs": [
    {
     "data": {
      "text/plain": [
       "[0.3, 0.13333333333333333, 0.13333333333333333, 0.13333333333333333, 0.3]"
      ]
     },
     "execution_count": 17,
     "metadata": {},
     "output_type": "execute_result"
    }
   ],
   "source": [
    "constantPotentialLengthRatios"
   ]
  },
  {
   "cell_type": "code",
   "execution_count": 18,
   "id": "8e3dc6f5-9c5f-4a21-9037-38b141b2d6b9",
   "metadata": {},
   "outputs": [
    {
     "name": "stdout",
     "output_type": "stream",
     "text": [
      "[====================================================================================================]\n",
      "[----------------------------------------------------------------------------------------------------]\n",
      "Total Time:  38.869676053000006\n",
      "Frames Per Second:  17.168307789974985\n",
      "Simulation 0 is done, processing probabilities.\n",
      "Simulation 0: done processing probabilities.\n",
      "Simulation 0: logging.\n",
      "Saving Video of lightspeed20\n",
      "Saving Video of Post\n",
      "Saving Video of 3rdStair\n",
      "Saving Video of 2ndStair\n",
      "Saving Video of 1stStair\n",
      "Saving Video of Pre\n",
      "Done logging lightspeed20\n",
      "Producing Simulation final output CSV\n"
     ]
    }
   ],
   "source": [
    "allData, simulations = recordConstantRegionSimulations(\n",
    "        profiles, \n",
    "        frameCount, \n",
    "        caseName, \n",
    "        constantPotentialLengthRatios, \n",
    "        True, \n",
    "        constantRegionLabels = [\"Post\", \"3rdStair\", \"2ndStair\", \"1stStair\", \"Pre\"], \n",
    "        showBar = True, \n",
    "        showFPS = True, \n",
    "        showTotalTime = True, \n",
    "        discardSimulations = False\n",
    "    )"
   ]
  },
  {
   "cell_type": "code",
   "execution_count": 19,
   "id": "add67677-6f02-4c86-be5c-35f6c0c90532",
   "metadata": {},
   "outputs": [],
   "source": [
    "allData[\"packetStartX\"] = packetStartX\n",
    "allData[\"packetStartY\"] = packetStartY\n",
    "allData[\"initialWaveNumber\"] = \"NULL\"#packetWaveNumber\n",
    "allData[\"standardDeviation\"] = packetStandardDeviation"
   ]
  },
  {
   "cell_type": "code",
   "execution_count": 20,
   "id": "2555c902-f42c-4612-b9de-fec6c7f4b479",
   "metadata": {},
   "outputs": [],
   "source": [
    "pd.DataFrame(allData).to_csv(str(Path.cwd() / caseName / (caseName + \".csv\")))"
   ]
  },
  {
   "cell_type": "code",
   "execution_count": null,
   "id": "6db51e96-793f-46f9-8318-ecc4708c0e92",
   "metadata": {},
   "outputs": [],
   "source": []
  },
  {
   "cell_type": "code",
   "execution_count": 27,
   "id": "7514cf8e-bf2f-4487-aca0-6d9a9c1c0b19",
   "metadata": {},
   "outputs": [],
   "source": [
    "from numpy.fft import fft, ifft"
   ]
  },
  {
   "cell_type": "code",
   "execution_count": 22,
   "id": "06cacf14-28e9-4b73-8964-3e074be28297",
   "metadata": {},
   "outputs": [],
   "source": [
    "simulation = simulations[0]"
   ]
  },
  {
   "cell_type": "code",
   "execution_count": 25,
   "id": "168463ba-75a6-48bd-b2e7-3567fc856c0a",
   "metadata": {},
   "outputs": [],
   "source": [
    "firstWaveFunction = simulation.waveFunctions[0]"
   ]
  },
  {
   "cell_type": "code",
   "execution_count": null,
   "id": "0f0d09fe-2c19-4ab2-af9e-930f65c7ab42",
   "metadata": {},
   "outputs": [],
   "source": []
  },
  {
   "cell_type": "code",
   "execution_count": 41,
   "id": "754de8c1-9c95-4878-8e51-135ebb9cacb8",
   "metadata": {},
   "outputs": [
    {
     "name": "stderr",
     "output_type": "stream",
     "text": [
      "/tmp/ipykernel_257/2185174281.py:2: ComplexWarning: Casting complex values to real discards the imaginary part\n",
      "  conjugated = np.float64(transformed * np.conjugate(transformed))\n"
     ]
    },
    {
     "data": {
      "text/plain": [
       "<matplotlib.image.AxesImage at 0x7f72178097b0>"
      ]
     },
     "execution_count": 41,
     "metadata": {},
     "output_type": "execute_result"
    },
    {
     "data": {
      "application/vnd.jupyter.widget-view+json": {
       "model_id": "3fce7e1ea6a74c0ea49b6415c6f1d35b",
       "version_major": 2,
       "version_minor": 0
      },
      "image/png": "[encoded data removed]",
      "text/html": [
       "\n",
       "            <div style=\"display: inline-block;\">\n",
       "                <div class=\"jupyter-widgets widget-label\" style=\"text-align: center;\">\n",
       "                    Figure\n",
       "                </div>\n",
       "                <img src='data:image/png;base64,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' width=640.0/>\n",
       "            </div>\n",
       "        "
      ],
      "text/plain": [
       "Canvas(toolbar=Toolbar(toolitems=[('Home', 'Reset original view', 'home', 'home'), ('Back', 'Back to previous …"
      ]
     },
     "metadata": {},
     "output_type": "display_data"
    }
   ],
   "source": [
    "transformed = fft(firstWaveFunction)\n",
    "conjugated = np.float64(transformed * np.conjugate(transformed))\n",
    "plt.figure()\n",
    "plt.imshow(conjugated)"
   ]
  },
  {
   "cell_type": "code",
   "execution_count": 43,
   "id": "6dd3de21-40db-44fc-824f-dbedf9f6a70c",
   "metadata": {},
   "outputs": [
    {
     "data": {
      "text/plain": [
       "<matplotlib.image.AxesImage at 0x7f72178be6e0>"
      ]
     },
     "execution_count": 43,
     "metadata": {},
     "output_type": "execute_result"
    },
    {
     "data": {
      "application/vnd.jupyter.widget-view+json": {
       "model_id": "6379f114d502408d9b446c0d61056deb",
       "version_major": 2,
       "version_minor": 0
      },
      "image/png": "[encoded data removed]",
      "text/html": [
       "\n",
       "            <div style=\"display: inline-block;\">\n",
       "                <div class=\"jupyter-widgets widget-label\" style=\"text-align: center;\">\n",
       "                    Figure\n",
       "                </div>\n",
       "                <img src='data:image/png;base64,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' width=640.0/>\n",
       "            </div>\n",
       "        "
      ],
      "text/plain": [
       "Canvas(toolbar=Toolbar(toolitems=[('Home', 'Reset original view', 'home', 'home'), ('Back', 'Back to previous …"
      ]
     },
     "metadata": {},
     "output_type": "display_data"
    }
   ],
   "source": [
    "plt.figure()\n",
    "plt.imshow(np.real(firstWaveFunction))"
   ]
  },
  {
   "cell_type": "code",
   "execution_count": 44,
   "id": "9a624325-973b-40b2-a255-8b537f8630f1",
   "metadata": {},
   "outputs": [
    {
     "data": {
      "text/plain": [
       "<matplotlib.image.AxesImage at 0x7f7217732f80>"
      ]
     },
     "execution_count": 44,
     "metadata": {},
     "output_type": "execute_result"
    },
    {
     "data": {
      "application/vnd.jupyter.widget-view+json": {
       "model_id": "6c36ede553594b51aec01629a0f834d8",
       "version_major": 2,
       "version_minor": 0
      },
      "image/png": "[encoded data removed]",
      "text/html": [
       "\n",
       "            <div style=\"display: inline-block;\">\n",
       "                <div class=\"jupyter-widgets widget-label\" style=\"text-align: center;\">\n",
       "                    Figure\n",
       "                </div>\n",
       "                <img src='data:image/png;base64,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' width=640.0/>\n",
       "            </div>\n",
       "        "
      ],
      "text/plain": [
       "Canvas(toolbar=Toolbar(toolitems=[('Home', 'Reset original view', 'home', 'home'), ('Back', 'Back to previous …"
      ]
     },
     "metadata": {},
     "output_type": "display_data"
    }
   ],
   "source": [
    "plt.figure()\n",
    "plt.imshow(np.imag(firstWaveFunction))"
   ]
  },
  {
   "cell_type": "code",
   "execution_count": null,
   "id": "f8abd268-8dc1-4f7a-a1a0-968ed990ff6f",
   "metadata": {},
   "outputs": [],
   "source": []
  },
  {
   "cell_type": "code",
   "execution_count": 61,
   "id": "88cd2c43-c78e-4fe8-b197-1b63f7d85590",
   "metadata": {},
   "outputs": [
    {
     "name": "stderr",
     "output_type": "stream",
     "text": [
      "/tmp/ipykernel_257/27344338.py:3: ComplexWarning: Casting complex values to real discards the imaginary part\n",
      "  conjugated = np.float64(transformed * np.conjugate(transformed))\n"
     ]
    },
    {
     "data": {
      "text/plain": [
       "<matplotlib.image.AxesImage at 0x7f7217902860>"
      ]
     },
     "execution_count": 61,
     "metadata": {},
     "output_type": "execute_result"
    },
    {
     "data": {
      "application/vnd.jupyter.widget-view+json": {
       "model_id": "bcde9211a2ee41b5913d70494a1b4fcf",
       "version_major": 2,
       "version_minor": 0
      },
      "image/png": "[encoded data removed]",
      "text/html": [
       "\n",
       "            <div style=\"display: inline-block;\">\n",
       "                <div class=\"jupyter-widgets widget-label\" style=\"text-align: center;\">\n",
       "                    Figure\n",
       "                </div>\n",
       "                <img src='data:image/png;base64,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' width=640.0/>\n",
       "            </div>\n",
       "        "
      ],
      "text/plain": [
       "Canvas(toolbar=Toolbar(toolitems=[('Home', 'Reset original view', 'home', 'home'), ('Back', 'Back to previous …"
      ]
     },
     "metadata": {},
     "output_type": "display_data"
    }
   ],
   "source": [
    "plt.figure()\n",
    "transformed = fft(np.real(firstWaveFunction))\n",
    "conjugated = np.float64(transformed * np.conjugate(transformed))\n",
    "plt.imshow(conjugated)"
   ]
  },
  {
   "cell_type": "code",
   "execution_count": 52,
   "id": "a0bbb4e1-af3b-4dc5-8f80-0e2f4b8ff4b1",
   "metadata": {},
   "outputs": [
    {
     "name": "stderr",
     "output_type": "stream",
     "text": [
      "/tmp/ipykernel_257/1644908153.py:3: ComplexWarning: Casting complex values to real discards the imaginary part\n",
      "  conjugated = np.float64(transformed * np.conjugate(transformed))\n"
     ]
    },
    {
     "data": {
      "text/plain": [
       "<matplotlib.image.AxesImage at 0x7f721742d000>"
      ]
     },
     "execution_count": 52,
     "metadata": {},
     "output_type": "execute_result"
    },
    {
     "data": {
      "application/vnd.jupyter.widget-view+json": {
       "model_id": "842a0af5eb314932a9aec45fca0e9bcc",
       "version_major": 2,
       "version_minor": 0
      },
      "image/png": "[encoded data removed]",
      "text/html": [
       "\n",
       "            <div style=\"display: inline-block;\">\n",
       "                <div class=\"jupyter-widgets widget-label\" style=\"text-align: center;\">\n",
       "                    Figure\n",
       "                </div>\n",
       "                <img src='data:image/png;base64,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' width=640.0/>\n",
       "            </div>\n",
       "        "
      ],
      "text/plain": [
       "Canvas(toolbar=Toolbar(toolitems=[('Home', 'Reset original view', 'home', 'home'), ('Back', 'Back to previous …"
      ]
     },
     "metadata": {},
     "output_type": "display_data"
    }
   ],
   "source": [
    "plt.figure()\n",
    "transformed = ifft(np.imag(firstWaveFunction))\n",
    "conjugated = np.float64(transformed * np.conjugate(transformed))\n",
    "plt.imshow(conjugated)"
   ]
  },
  {
   "cell_type": "code",
   "execution_count": null,
   "id": "e1996cdd-cdfe-4265-9058-246e88776ed3",
   "metadata": {},
   "outputs": [],
   "source": []
  }
 ],
 "metadata": {
  "kernelspec": {
   "display_name": "Python 3 (ipykernel)",
   "language": "python",
   "name": "python3"
  },
  "language_info": {
   "codemirror_mode": {
    "name": "ipython",
    "version": 3
   },
   "file_extension": ".py",
   "mimetype": "text/x-python",
   "name": "python",
   "nbconvert_exporter": "python",
   "pygments_lexer": "ipython3",
   "version": "3.10.8"
  }
 },
 "nbformat": 4,
 "nbformat_minor": 5
}
