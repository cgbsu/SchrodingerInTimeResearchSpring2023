{
 "cells": [
  {
   "cell_type": "code",
   "execution_count": 1,
   "id": "a14cec68-61c7-48a3-a1e8-a9875cd44c70",
   "metadata": {},
   "outputs": [],
   "source": [
    "import sympy as sp"
   ]
  },
  {
   "cell_type": "code",
   "execution_count": null,
   "id": "05ca69d1-cdc9-4f70-b68c-02cf7db26c89",
   "metadata": {},
   "outputs": [],
   "source": []
  },
  {
   "cell_type": "code",
   "execution_count": 2,
   "id": "491d8bb0-6cc0-4edd-ad3c-5380a57fa775",
   "metadata": {},
   "outputs": [],
   "source": [
    "k = sp.Symbol('k')"
   ]
  },
  {
   "cell_type": "code",
   "execution_count": null,
   "id": "526414cf-e6a9-4944-bf9d-e7341596fdf7",
   "metadata": {},
   "outputs": [],
   "source": [
    "x = sp.Symbol('x')"
   ]
  },
  {
   "cell_type": "code",
   "execution_count": null,
   "id": "392ac252-c5b7-4967-a385-fb67321dfcf2",
   "metadata": {},
   "outputs": [],
   "source": [
    "y = sp.Symbol('y')"
   ]
  },
  {
   "cell_type": "code",
   "execution_count": 5,
   "id": "cc4f4346-0a8e-496c-9d5b-406733550664",
   "metadata": {},
   "outputs": [],
   "source": [
    "x0 = sp.Symbol('x_0')"
   ]
  },
  {
   "cell_type": "code",
   "execution_count": 6,
   "id": "ec407469-56fc-4c17-bdc6-7c6cdd61081e",
   "metadata": {},
   "outputs": [],
   "source": [
    "y0 = sp.Symbol('y_0')"
   ]
  },
  {
   "cell_type": "code",
   "execution_count": 7,
   "id": "7fc789d4-7869-42ca-9a84-8a80fc168027",
   "metadata": {},
   "outputs": [],
   "source": [
    "sigma = sp.Symbol(\"\\sigma\")"
   ]
  },
  {
   "cell_type": "code",
   "execution_count": 32,
   "id": "249c584f-3ceb-4977-9888-ba6024b0fe82",
   "metadata": {},
   "outputs": [],
   "source": [
    "packet = sp.exp(-((x - x0) ** 2 + (y - y0) ** 2) / (2 * sigma ** 2))"
   ]
  },
  {
   "cell_type": "code",
   "execution_count": 36,
   "id": "3fffe245-c097-4146-ac88-9ec8797413aa",
   "metadata": {},
   "outputs": [],
   "source": [
    "movePart = sp.exp(1j * k * (x - x0))"
   ]
  },
  {
   "cell_type": "code",
   "execution_count": 33,
   "id": "f95dc0cc-6c41-4533-8845-1bfd785991e2",
   "metadata": {},
   "outputs": [],
   "source": [
    "def laplace2D(x, y, f): \n",
    "    return f.diff(x).diff(x) + f.diff(y).diff(y)"
   ]
  },
  {
   "cell_type": "code",
   "execution_count": 41,
   "id": "82a5d9bd-6f63-4f50-93be-43a49a1a6a54",
   "metadata": {},
   "outputs": [],
   "source": [
    "movingPacket = packet * movePart"
   ]
  },
  {
   "cell_type": "code",
   "execution_count": 43,
   "id": "d418326e-0515-4bac-81d2-1300756c5109",
   "metadata": {},
   "outputs": [
    {
     "data": {
      "text/latex": [
       "$\\displaystyle e^{\\frac{- \\left(x - x_{0}\\right)^{2} - \\left(y - y_{0}\\right)^{2}}{2 \\sigma^{2}}} e^{1.0 i k \\left(x - x_{0}\\right)}$"
      ],
      "text/plain": [
       "exp((-(x - x_0)**2 - (y - y_0)**2)/(2*\\sigma**2))*exp(1.0*I*k*(x - x_0))"
      ]
     },
     "execution_count": 43,
     "metadata": {},
     "output_type": "execute_result"
    }
   ],
   "source": [
    "movingPacket"
   ]
  },
  {
   "cell_type": "code",
   "execution_count": 42,
   "id": "cf8a2d06-cb82-484d-ba31-b66527c4acee",
   "metadata": {},
   "outputs": [],
   "source": [
    "laplace = laplace2D(x, y, movingPacket).simplify()"
   ]
  },
  {
   "cell_type": "code",
   "execution_count": 40,
   "id": "6d478de3-61d0-4709-9024-bd311355182c",
   "metadata": {},
   "outputs": [
    {
     "data": {
      "text/latex": [
       "$\\displaystyle \\frac{\\left(- 1.0 \\sigma^{4} k^{2} - \\frac{\\sigma^{2} \\cdot \\left(8.0 i k \\left(x - x_{0}\\right) + 8\\right)}{4} + \\left(x - x_{0}\\right)^{2} + \\left(y - y_{0}\\right)^{2}\\right) e^{\\frac{2 i \\sigma^{2} k \\left(x - x_{0}\\right) - \\left(x - x_{0}\\right)^{2} - \\left(y - y_{0}\\right)^{2}}{2 \\sigma^{2}}}}{\\sigma^{4}}$"
      ],
      "text/plain": [
       "(-1.0*\\sigma**4*k**2 - \\sigma**2*(8.0*I*k*(x - x_0) + 8)/4 + (x - x_0)**2 + (y - y_0)**2)*exp((2*I*\\sigma**2*k*(x - x_0) - (x - x_0)**2 - (y - y_0)**2)/(2*\\sigma**2))/\\sigma**4"
      ]
     },
     "execution_count": 40,
     "metadata": {},
     "output_type": "execute_result"
    }
   ],
   "source": [
    "laplace"
   ]
  },
  {
   "cell_type": "code",
   "execution_count": 45,
   "id": "9a1d4a3a-b583-45ae-83c9-80369e123f3c",
   "metadata": {},
   "outputs": [],
   "source": [
    "hemholtz2 = k ** 2 * movingPacket ** 2"
   ]
  },
  {
   "cell_type": "code",
   "execution_count": 47,
   "id": "7fb29e4f-325d-41d3-b2ea-d3a18d9cd353",
   "metadata": {},
   "outputs": [
    {
     "data": {
      "text/latex": [
       "$\\displaystyle k^{2} e^{\\frac{- \\left(x - x_{0}\\right)^{2} - \\left(y - y_{0}\\right)^{2}}{\\sigma^{2}}} e^{2.0 i k \\left(x - x_{0}\\right)}$"
      ],
      "text/plain": [
       "k**2*exp((-(x - x_0)**2 - (y - y_0)**2)/\\sigma**2)*exp(2.0*I*k*(x - x_0))"
      ]
     },
     "execution_count": 47,
     "metadata": {},
     "output_type": "execute_result"
    }
   ],
   "source": [
    "hemholtz2"
   ]
  },
  {
   "cell_type": "code",
   "execution_count": 49,
   "id": "5c482dce-ac0c-4746-8bd6-816555d939b2",
   "metadata": {},
   "outputs": [],
   "source": [
    "eq = sp.Eq(laplace, hemholtz2)"
   ]
  },
  {
   "cell_type": "code",
   "execution_count": 50,
   "id": "203fd6fa-e8ed-42bf-8410-dc39fa0d411f",
   "metadata": {},
   "outputs": [
    {
     "data": {
      "text/latex": [
       "$\\displaystyle \\frac{\\left(- 1.0 \\sigma^{4} k^{2} - \\frac{\\sigma^{2} \\cdot \\left(8.0 i k \\left(x - x_{0}\\right) + 8\\right)}{4} + \\left(x - x_{0}\\right)^{2} + \\left(y - y_{0}\\right)^{2}\\right) e^{\\frac{2 i \\sigma^{2} k \\left(x - x_{0}\\right) - \\left(x - x_{0}\\right)^{2} - \\left(y - y_{0}\\right)^{2}}{2 \\sigma^{2}}}}{\\sigma^{4}} = k^{2} e^{\\frac{- \\left(x - x_{0}\\right)^{2} - \\left(y - y_{0}\\right)^{2}}{\\sigma^{2}}} e^{2.0 i k \\left(x - x_{0}\\right)}$"
      ],
      "text/plain": [
       "Eq((-1.0*\\sigma**4*k**2 - \\sigma**2*(8.0*I*k*(x - x_0) + 8)/4 + (x - x_0)**2 + (y - y_0)**2)*exp((2*I*\\sigma**2*k*(x - x_0) - (x - x_0)**2 - (y - y_0)**2)/(2*\\sigma**2))/\\sigma**4, k**2*exp((-(x - x_0)**2 - (y - y_0)**2)/\\sigma**2)*exp(2.0*I*k*(x - x_0)))"
      ]
     },
     "execution_count": 50,
     "metadata": {},
     "output_type": "execute_result"
    }
   ],
   "source": [
    "eq"
   ]
  },
  {
   "cell_type": "code",
   "execution_count": 56,
   "id": "766c635e-0dc4-40e2-b013-a2e167bd2d82",
   "metadata": {},
   "outputs": [],
   "source": [
    "eq = eq.simplify()"
   ]
  },
  {
   "cell_type": "code",
   "execution_count": 57,
   "id": "911c2e6f-7a39-4047-9146-e4b350347f26",
   "metadata": {},
   "outputs": [
    {
     "data": {
      "text/latex": [
       "$\\displaystyle k^{2} e^{2.0 i k \\left(x - x_{0}\\right) - \\frac{\\left(x - x_{0}\\right)^{2} + \\left(y - y_{0}\\right)^{2}}{\\sigma^{2}}} = \\frac{\\left(- 1.0 \\sigma^{4} k^{2} - \\frac{\\sigma^{2} \\cdot \\left(8.0 i k \\left(x - x_{0}\\right) + 8\\right)}{4} + \\left(x - x_{0}\\right)^{2} + \\left(y - y_{0}\\right)^{2}\\right) e^{\\frac{2 i \\sigma^{2} k \\left(x - x_{0}\\right) - \\left(x - x_{0}\\right)^{2} - \\left(y - y_{0}\\right)^{2}}{2 \\sigma^{2}}}}{\\sigma^{4}}$"
      ],
      "text/plain": [
       "Eq(k**2*exp(2.0*I*k*(x - x_0) - ((x - x_0)**2 + (y - y_0)**2)/\\sigma**2), (-1.0*\\sigma**4*k**2 - \\sigma**2*(8.0*I*k*(x - x_0) + 8)/4 + (x - x_0)**2 + (y - y_0)**2)*exp((2*I*\\sigma**2*k*(x - x_0) - (x - x_0)**2 - (y - y_0)**2)/(2*\\sigma**2))/\\sigma**4)"
      ]
     },
     "execution_count": 57,
     "metadata": {},
     "output_type": "execute_result"
    }
   ],
   "source": [
    "eq"
   ]
  },
  {
   "cell_type": "code",
   "execution_count": 59,
   "id": "d5ab0f44-7ac3-4ead-b8b3-c977070324e0",
   "metadata": {},
   "outputs": [
    {
     "data": {
      "text/latex": [
       "$\\displaystyle \\frac{\\left(- 1.0 \\sigma^{4} k^{2} - \\frac{\\sigma^{2} \\cdot \\left(8.0 i k \\left(x - x_{0}\\right) + 8\\right)}{4} + \\left(x - x_{0}\\right)^{2} + \\left(y - y_{0}\\right)^{2}\\right) e^{\\frac{- 2.0 i \\sigma^{2} k \\left(x - x_{0}\\right) + \\left(x - x_{0}\\right)^{2} + \\left(y - y_{0}\\right)^{2}}{2 \\sigma^{2}}}}{\\sigma^{4} k^{2}}$"
      ],
      "text/plain": [
       "(-1.0*\\sigma**4*k**2 - \\sigma**2*(8.0*I*k*(x - x_0) + 8)/4 + (x - x_0)**2 + (y - y_0)**2)*exp((-2.0*I*\\sigma**2*k*(x - x_0) + (x - x_0)**2 + (y - y_0)**2)/(2*\\sigma**2))/(\\sigma**4*k**2)"
      ]
     },
     "execution_count": 59,
     "metadata": {},
     "output_type": "execute_result"
    }
   ],
   "source": [
    "(eq.rhs / eq.lhs).simplify()"
   ]
  },
  {
   "cell_type": "code",
   "execution_count": 61,
   "id": "c0b7c766-5e5a-43bd-9921-0e15188b1e27",
   "metadata": {},
   "outputs": [],
   "source": [
    "sol = sp.solve(eq, k ** 2)"
   ]
  },
  {
   "cell_type": "code",
   "execution_count": 62,
   "id": "59ac1317-fb95-4550-8b74-4daa51fc55f7",
   "metadata": {},
   "outputs": [
    {
     "data": {
      "text/plain": [
       "[(-2.0*I*\\sigma**2*k*x + 2.0*I*\\sigma**2*k*x_0 - 2.0*\\sigma**2 + (x - x_0)**2 + (y - y_0)**2)*exp(-0.5*(2.0*I*\\sigma**2*k*(x - x_0) - (x - x_0)**2 - (y - y_0)**2)/\\sigma**2)/(\\sigma**4*(1.0 + exp(-0.5*(2.0*I*\\sigma**2*k*(x - x_0) - (x - x_0)**2 - (y - y_0)**2)/\\sigma**2)))]"
      ]
     },
     "execution_count": 62,
     "metadata": {},
     "output_type": "execute_result"
    }
   ],
   "source": [
    "sol"
   ]
  },
  {
   "cell_type": "code",
   "execution_count": 63,
   "id": "e4f64e7e-3141-40f1-a925-783a5f966a7c",
   "metadata": {},
   "outputs": [
    {
     "data": {
      "text/plain": [
       "1"
      ]
     },
     "execution_count": 63,
     "metadata": {},
     "output_type": "execute_result"
    }
   ],
   "source": [
    "len(sol)"
   ]
  },
  {
   "cell_type": "code",
   "execution_count": 64,
   "id": "9feb48e2-2f2e-4c0f-b9da-a47f6919a5a7",
   "metadata": {},
   "outputs": [
    {
     "data": {
      "text/latex": [
       "$\\displaystyle \\frac{\\left(- 2.0 i \\sigma^{2} k x + 2.0 i \\sigma^{2} k x_{0} - 2.0 \\sigma^{2} + \\left(x - x_{0}\\right)^{2} + \\left(y - y_{0}\\right)^{2}\\right) e^{- \\frac{0.5 \\cdot \\left(2.0 i \\sigma^{2} k \\left(x - x_{0}\\right) - \\left(x - x_{0}\\right)^{2} - \\left(y - y_{0}\\right)^{2}\\right)}{\\sigma^{2}}}}{\\sigma^{4} \\cdot \\left(1.0 + e^{- \\frac{0.5 \\cdot \\left(2.0 i \\sigma^{2} k \\left(x - x_{0}\\right) - \\left(x - x_{0}\\right)^{2} - \\left(y - y_{0}\\right)^{2}\\right)}{\\sigma^{2}}}\\right)}$"
      ],
      "text/plain": [
       "(-2.0*I*\\sigma**2*k*x + 2.0*I*\\sigma**2*k*x_0 - 2.0*\\sigma**2 + (x - x_0)**2 + (y - y_0)**2)*exp(-0.5*(2.0*I*\\sigma**2*k*(x - x_0) - (x - x_0)**2 - (y - y_0)**2)/\\sigma**2)/(\\sigma**4*(1.0 + exp(-0.5*(2.0*I*\\sigma**2*k*(x - x_0) - (x - x_0)**2 - (y - y_0)**2)/\\sigma**2)))"
      ]
     },
     "execution_count": 64,
     "metadata": {},
     "output_type": "execute_result"
    }
   ],
   "source": [
    "sol[0]"
   ]
  },
  {
   "cell_type": "code",
   "execution_count": 67,
   "id": "fb4be3ac-6d2b-4e37-9c27-2fbb425d7ecd",
   "metadata": {},
   "outputs": [
    {
     "data": {
      "text/latex": [
       "$\\displaystyle \\frac{\\left(- 2.0 i \\sigma^{2} k x + 2.0 i \\sigma^{2} k x_{0} - 2.0 \\sigma^{2} + \\left(x - x_{0}\\right)^{2} + \\left(y - y_{0}\\right)^{2}\\right) e^{\\frac{- 1.0 i \\sigma^{2} k \\left(x - x_{0}\\right) + 0.5 \\left(x - x_{0}\\right)^{2} + 0.5 \\left(y - y_{0}\\right)^{2}}{\\sigma^{2}}}}{\\sigma^{4} \\left(e^{\\frac{- 1.0 i \\sigma^{2} k \\left(x - x_{0}\\right) + 0.5 \\left(x - x_{0}\\right)^{2} + 0.5 \\left(y - y_{0}\\right)^{2}}{\\sigma^{2}}} + 1.0\\right)}$"
      ],
      "text/plain": [
       "(-2.0*I*\\sigma**2*k*x + 2.0*I*\\sigma**2*k*x_0 - 2.0*\\sigma**2 + (x - x_0)**2 + (y - y_0)**2)*exp((-1.0*I*\\sigma**2*k*(x - x_0) + 0.5*(x - x_0)**2 + 0.5*(y - y_0)**2)/\\sigma**2)/(\\sigma**4*(exp((-1.0*I*\\sigma**2*k*(x - x_0) + 0.5*(x - x_0)**2 + 0.5*(y - y_0)**2)/\\sigma**2) + 1.0))"
      ]
     },
     "execution_count": 67,
     "metadata": {},
     "output_type": "execute_result"
    }
   ],
   "source": [
    "sol[0].simplify()"
   ]
  },
  {
   "cell_type": "code",
   "execution_count": null,
   "id": "1c4e5afe-bcd4-454d-bfee-d1a5827da5cc",
   "metadata": {},
   "outputs": [],
   "source": []
  }
 ],
 "metadata": {
  "kernelspec": {
   "display_name": "Python 3 (ipykernel)",
   "language": "python",
   "name": "python3"
  },
  "language_info": {
   "codemirror_mode": {
    "name": "ipython",
    "version": 3
   },
   "file_extension": ".py",
   "mimetype": "text/x-python",
   "name": "python",
   "nbconvert_exporter": "python",
   "pygments_lexer": "ipython3",
   "version": "3.10.8"
  }
 },
 "nbformat": 4,
 "nbformat_minor": 5
}
