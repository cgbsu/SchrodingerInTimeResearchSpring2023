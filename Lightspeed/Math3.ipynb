{
 "cells": [
  {
   "cell_type": "code",
   "execution_count": 1,
   "id": "a14cec68-61c7-48a3-a1e8-a9875cd44c70",
   "metadata": {},
   "outputs": [],
   "source": [
    "import sympy as sp"
   ]
  },
  {
   "cell_type": "code",
   "execution_count": null,
   "id": "05ca69d1-cdc9-4f70-b68c-02cf7db26c89",
   "metadata": {},
   "outputs": [],
   "source": []
  },
  {
   "cell_type": "code",
   "execution_count": 2,
   "id": "491d8bb0-6cc0-4edd-ad3c-5380a57fa775",
   "metadata": {},
   "outputs": [],
   "source": [
    "k = sp.Symbol('k')"
   ]
  },
  {
   "cell_type": "code",
   "execution_count": 3,
   "id": "526414cf-e6a9-4944-bf9d-e7341596fdf7",
   "metadata": {},
   "outputs": [],
   "source": [
    "x = sp.Symbol('x')"
   ]
  },
  {
   "cell_type": "code",
   "execution_count": 4,
   "id": "392ac252-c5b7-4967-a385-fb67321dfcf2",
   "metadata": {},
   "outputs": [],
   "source": [
    "y = sp.Symbol('y')"
   ]
  },
  {
   "cell_type": "code",
   "execution_count": 5,
   "id": "cc4f4346-0a8e-496c-9d5b-406733550664",
   "metadata": {},
   "outputs": [],
   "source": [
    "x0 = sp.Symbol('x_0')"
   ]
  },
  {
   "cell_type": "code",
   "execution_count": 6,
   "id": "ec407469-56fc-4c17-bdc6-7c6cdd61081e",
   "metadata": {},
   "outputs": [],
   "source": [
    "y0 = sp.Symbol('y_0')"
   ]
  },
  {
   "cell_type": "code",
   "execution_count": 7,
   "id": "7fc789d4-7869-42ca-9a84-8a80fc168027",
   "metadata": {},
   "outputs": [],
   "source": [
    "sigma = sp.Symbol(\"\\sigma\")"
   ]
  },
  {
   "cell_type": "code",
   "execution_count": 8,
   "id": "249c584f-3ceb-4977-9888-ba6024b0fe82",
   "metadata": {},
   "outputs": [],
   "source": [
    "packet = sp.exp(-((x - x0) ** 2 + (y - y0) ** 2) / (2 * sigma ** 2))"
   ]
  },
  {
   "cell_type": "code",
   "execution_count": 9,
   "id": "3fffe245-c097-4146-ac88-9ec8797413aa",
   "metadata": {},
   "outputs": [],
   "source": [
    "movePart = sp.exp(1j * k * (x - x0))"
   ]
  },
  {
   "cell_type": "code",
   "execution_count": 10,
   "id": "f95dc0cc-6c41-4533-8845-1bfd785991e2",
   "metadata": {},
   "outputs": [],
   "source": [
    "def laplace2D(x, y, f): \n",
    "    return f.diff(x).diff(x) + f.diff(y).diff(y)"
   ]
  },
  {
   "cell_type": "code",
   "execution_count": 11,
   "id": "82a5d9bd-6f63-4f50-93be-43a49a1a6a54",
   "metadata": {},
   "outputs": [],
   "source": [
    "movingPacket = (packet * movePart).simplify()"
   ]
  },
  {
   "cell_type": "code",
   "execution_count": 12,
   "id": "d418326e-0515-4bac-81d2-1300756c5109",
   "metadata": {},
   "outputs": [],
   "source": [
    "movingPacket = movingPacket.simplify()"
   ]
  },
  {
   "cell_type": "code",
   "execution_count": 26,
   "id": "a4734750-eb7e-4f95-a98f-27368725565b",
   "metadata": {},
   "outputs": [
    {
     "data": {
      "text/latex": [
       "$\\displaystyle e^{\\frac{2 i \\sigma^{2} k \\left(x - x_{0}\\right) - \\left(x - x_{0}\\right)^{2} - \\left(y - y_{0}\\right)^{2}}{2 \\sigma^{2}}}$"
      ],
      "text/plain": [
       "exp((2*I*\\sigma**2*k*(x - x_0) - (x - x_0)**2 - (y - y_0)**2)/(2*\\sigma**2))"
      ]
     },
     "execution_count": 26,
     "metadata": {},
     "output_type": "execute_result"
    }
   ],
   "source": [
    "movingPacket"
   ]
  },
  {
   "cell_type": "code",
   "execution_count": null,
   "id": "1fb93bc4-628e-4f7c-a813-90cfe6e7e157",
   "metadata": {},
   "outputs": [],
   "source": []
  },
  {
   "cell_type": "code",
   "execution_count": 13,
   "id": "cf8a2d06-cb82-484d-ba31-b66527c4acee",
   "metadata": {},
   "outputs": [],
   "source": [
    "laplace = laplace2D(x, y, movingPacket).simplify()"
   ]
  },
  {
   "cell_type": "code",
   "execution_count": 14,
   "id": "6d478de3-61d0-4709-9024-bd311355182c",
   "metadata": {},
   "outputs": [
    {
     "data": {
      "text/latex": [
       "$\\displaystyle \\frac{\\left(- 2 \\sigma^{2} + \\left(y - y_{0}\\right)^{2} + \\left(i \\sigma^{2} k - x + x_{0}\\right)^{2}\\right) e^{\\frac{2 i \\sigma^{2} k \\left(x - x_{0}\\right) - \\left(x - x_{0}\\right)^{2} - \\left(y - y_{0}\\right)^{2}}{2 \\sigma^{2}}}}{\\sigma^{4}}$"
      ],
      "text/plain": [
       "(-2*\\sigma**2 + (y - y_0)**2 + (I*\\sigma**2*k - x + x_0)**2)*exp((2*I*\\sigma**2*k*(x - x_0) - (x - x_0)**2 - (y - y_0)**2)/(2*\\sigma**2))/\\sigma**4"
      ]
     },
     "execution_count": 14,
     "metadata": {},
     "output_type": "execute_result"
    }
   ],
   "source": [
    "laplace"
   ]
  },
  {
   "cell_type": "code",
   "execution_count": 35,
   "id": "5c482dce-ac0c-4746-8bd6-816555d939b2",
   "metadata": {},
   "outputs": [],
   "source": [
    "eq = sp.Eq(laplace, -k ** 2 * movingPacket)"
   ]
  },
  {
   "cell_type": "code",
   "execution_count": 36,
   "id": "203fd6fa-e8ed-42bf-8410-dc39fa0d411f",
   "metadata": {},
   "outputs": [
    {
     "data": {
      "text/latex": [
       "$\\displaystyle \\frac{\\left(- 2 \\sigma^{2} + \\left(y - y_{0}\\right)^{2} + \\left(i \\sigma^{2} k - x + x_{0}\\right)^{2}\\right) e^{\\frac{2 i \\sigma^{2} k \\left(x - x_{0}\\right) - \\left(x - x_{0}\\right)^{2} - \\left(y - y_{0}\\right)^{2}}{2 \\sigma^{2}}}}{\\sigma^{4}} = - k^{2} e^{\\frac{2 i \\sigma^{2} k \\left(x - x_{0}\\right) - \\left(x - x_{0}\\right)^{2} - \\left(y - y_{0}\\right)^{2}}{2 \\sigma^{2}}}$"
      ],
      "text/plain": [
       "Eq((-2*\\sigma**2 + (y - y_0)**2 + (I*\\sigma**2*k - x + x_0)**2)*exp((2*I*\\sigma**2*k*(x - x_0) - (x - x_0)**2 - (y - y_0)**2)/(2*\\sigma**2))/\\sigma**4, -k**2*exp((2*I*\\sigma**2*k*(x - x_0) - (x - x_0)**2 - (y - y_0)**2)/(2*\\sigma**2)))"
      ]
     },
     "execution_count": 36,
     "metadata": {},
     "output_type": "execute_result"
    }
   ],
   "source": [
    "eq"
   ]
  },
  {
   "cell_type": "code",
   "execution_count": 37,
   "id": "766c635e-0dc4-40e2-b013-a2e167bd2d82",
   "metadata": {},
   "outputs": [],
   "source": [
    "eq = eq.simplify()"
   ]
  },
  {
   "cell_type": "code",
   "execution_count": 38,
   "id": "911c2e6f-7a39-4047-9146-e4b350347f26",
   "metadata": {},
   "outputs": [
    {
     "data": {
      "text/latex": [
       "$\\displaystyle k^{2} e^{- \\frac{- 2 i \\sigma^{2} k \\left(x - x_{0}\\right) + \\left(x - x_{0}\\right)^{2} + \\left(y - y_{0}\\right)^{2}}{2 \\sigma^{2}}} = - \\frac{\\left(- 2 \\sigma^{2} + \\left(y - y_{0}\\right)^{2} + \\left(i \\sigma^{2} k - x + x_{0}\\right)^{2}\\right) e^{\\frac{2 i \\sigma^{2} k \\left(x - x_{0}\\right) - \\left(x - x_{0}\\right)^{2} - \\left(y - y_{0}\\right)^{2}}{2 \\sigma^{2}}}}{\\sigma^{4}}$"
      ],
      "text/plain": [
       "Eq(k**2*exp(-(-2*I*\\sigma**2*k*(x - x_0) + (x - x_0)**2 + (y - y_0)**2)/(2*\\sigma**2)), -(-2*\\sigma**2 + (y - y_0)**2 + (I*\\sigma**2*k - x + x_0)**2)*exp((2*I*\\sigma**2*k*(x - x_0) - (x - x_0)**2 - (y - y_0)**2)/(2*\\sigma**2))/\\sigma**4)"
      ]
     },
     "execution_count": 38,
     "metadata": {},
     "output_type": "execute_result"
    }
   ],
   "source": [
    "eq"
   ]
  },
  {
   "cell_type": "code",
   "execution_count": null,
   "id": "ed84c20f-3b5a-489a-ae38-01c2b5a9b3c7",
   "metadata": {},
   "outputs": [],
   "source": []
  },
  {
   "cell_type": "code",
   "execution_count": 40,
   "id": "d5ab0f44-7ac3-4ead-b8b3-c977070324e0",
   "metadata": {},
   "outputs": [],
   "source": [
    "solveK = sp.Eq(1, (eq.rhs / eq.lhs).simplify())"
   ]
  },
  {
   "cell_type": "code",
   "execution_count": 41,
   "id": "0f2f543a-fce1-4383-aefa-ab02afa88746",
   "metadata": {},
   "outputs": [
    {
     "data": {
      "text/latex": [
       "$\\displaystyle 1 = \\frac{2 \\sigma^{2} - \\left(y - y_{0}\\right)^{2} - \\left(i \\sigma^{2} k - x + x_{0}\\right)^{2}}{\\sigma^{4} k^{2}}$"
      ],
      "text/plain": [
       "Eq(1, (2*\\sigma**2 - (y - y_0)**2 - (I*\\sigma**2*k - x + x_0)**2)/(\\sigma**4*k**2))"
      ]
     },
     "execution_count": 41,
     "metadata": {},
     "output_type": "execute_result"
    }
   ],
   "source": [
    "solveK"
   ]
  },
  {
   "cell_type": "code",
   "execution_count": 43,
   "id": "fbf9aeb9-9555-4c5f-8b7e-9b7f5e3c6e8e",
   "metadata": {},
   "outputs": [],
   "source": [
    "ksol = sp.solve(solveK, [k])"
   ]
  },
  {
   "cell_type": "code",
   "execution_count": 44,
   "id": "ea69af60-8d00-496f-a67d-8f6caaedc102",
   "metadata": {},
   "outputs": [
    {
     "data": {
      "text/latex": [
       "$\\displaystyle \\frac{i \\left(2 \\sigma^{2} - x^{2} + 2 x x_{0} - x_{0}^{2} - y^{2} + 2 y y_{0} - y_{0}^{2}\\right)}{2 \\sigma^{2} \\left(x - x_{0}\\right)}$"
      ],
      "text/plain": [
       "I*(2*\\sigma**2 - x**2 + 2*x*x_0 - x_0**2 - y**2 + 2*y*y_0 - y_0**2)/(2*\\sigma**2*(x - x_0))"
      ]
     },
     "execution_count": 44,
     "metadata": {},
     "output_type": "execute_result"
    }
   ],
   "source": [
    "ksol[0]"
   ]
  },
  {
   "cell_type": "code",
   "execution_count": null,
   "id": "13f8c727-9ef0-46f6-a090-48dd955d9a2b",
   "metadata": {},
   "outputs": [],
   "source": []
  },
  {
   "cell_type": "code",
   "execution_count": null,
   "id": "1c4e5afe-bcd4-454d-bfee-d1a5827da5cc",
   "metadata": {},
   "outputs": [],
   "source": []
  },
  {
   "cell_type": "code",
   "execution_count": null,
   "id": "08b191b0-f696-4c5d-8af2-8bdd229add34",
   "metadata": {},
   "outputs": [],
   "source": []
  }
 ],
 "metadata": {
  "kernelspec": {
   "display_name": "Python 3 (ipykernel)",
   "language": "python",
   "name": "python3"
  },
  "language_info": {
   "codemirror_mode": {
    "name": "ipython",
    "version": 3
   },
   "file_extension": ".py",
   "mimetype": "text/x-python",
   "name": "python",
   "nbconvert_exporter": "python",
   "pygments_lexer": "ipython3",
   "version": "3.10.8"
  }
 },
 "nbformat": 4,
 "nbformat_minor": 5
}
