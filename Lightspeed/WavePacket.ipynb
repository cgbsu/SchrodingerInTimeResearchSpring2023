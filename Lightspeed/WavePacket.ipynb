{
 "cells": [
  {
   "cell_type": "code",
   "execution_count": 1,
   "id": "473f5fcd-af76-4336-a9f6-5cb4ec5d52d9",
   "metadata": {},
   "outputs": [],
   "source": [
    "import numpy as np"
   ]
  },
  {
   "cell_type": "code",
   "execution_count": 22,
   "id": "430c357d-d833-44f2-8760-48ab83702a2a",
   "metadata": {},
   "outputs": [],
   "source": [
    "import matplotlib.pyplot as plt"
   ]
  },
  {
   "cell_type": "code",
   "execution_count": null,
   "id": "45968f45-9968-42a6-b0fa-64a31effce2b",
   "metadata": {},
   "outputs": [],
   "source": []
  },
  {
   "cell_type": "code",
   "execution_count": 35,
   "id": "c41b025a-505e-4c96-ad61-605ce2f2f50c",
   "metadata": {},
   "outputs": [],
   "source": [
    "x = np.linspace(0, 100, 10000)"
   ]
  },
  {
   "cell_type": "code",
   "execution_count": null,
   "id": "8258302d-d3b5-4d79-9e99-6d5cd68e64c1",
   "metadata": {},
   "outputs": [],
   "source": []
  },
  {
   "cell_type": "code",
   "execution_count": 36,
   "id": "081b40b3-fdc0-4343-b452-0c11eec72691",
   "metadata": {},
   "outputs": [],
   "source": [
    "angularFrequency = 1"
   ]
  },
  {
   "cell_type": "code",
   "execution_count": 37,
   "id": "a38afd57-df35-42b7-acc1-25807a5f7993",
   "metadata": {},
   "outputs": [],
   "source": [
    "lightSpeed = 1"
   ]
  },
  {
   "cell_type": "code",
   "execution_count": 38,
   "id": "2c90dd06-1a2c-43b9-93d7-2cb5235f209a",
   "metadata": {},
   "outputs": [],
   "source": [
    "waveNumber = angularFrequency / lightSpeed"
   ]
  },
  {
   "cell_type": "code",
   "execution_count": 39,
   "id": "9c4ed741-fb08-4a91-b9ad-469f1f3f147d",
   "metadata": {},
   "outputs": [],
   "source": [
    "groupVelocity = angularFrequency / waveNumber"
   ]
  },
  {
   "cell_type": "code",
   "execution_count": 40,
   "id": "e7500801-02b6-499f-898c-f3430dc5ff82",
   "metadata": {},
   "outputs": [],
   "source": [
    "phaseVelocity = groupVelocity"
   ]
  },
  {
   "cell_type": "code",
   "execution_count": 45,
   "id": "ebbc6d7f-b096-4a15-a0d6-dd0ce7cb966a",
   "metadata": {},
   "outputs": [],
   "source": [
    "x0 = 10"
   ]
  },
  {
   "cell_type": "code",
   "execution_count": 46,
   "id": "a94a5bcb-19d0-4adb-bae1-037ee599dc17",
   "metadata": {},
   "outputs": [],
   "source": [
    "sigma = .5"
   ]
  },
  {
   "cell_type": "code",
   "execution_count": 47,
   "id": "fff6081d-ff1d-4b8b-8f36-5fa3ab58d3a8",
   "metadata": {},
   "outputs": [],
   "source": [
    "packet0 = np.exp((-1 / 2) * ((x - x0) ** 2 / sigma) + 1j * waveNumber * x)"
   ]
  },
  {
   "cell_type": "code",
   "execution_count": 58,
   "id": "3ae5efd6-1fa9-4c5a-8579-5048a07bf090",
   "metadata": {},
   "outputs": [],
   "source": [
    "t = 4"
   ]
  },
  {
   "cell_type": "code",
   "execution_count": 59,
   "id": "d6ea88d3-e6fb-433e-a7e0-1c05b93c5d32",
   "metadata": {},
   "outputs": [
    {
     "data": {
      "text/plain": [
       "[<matplotlib.lines.Line2D at 0x7fc095e6b880>]"
      ]
     },
     "execution_count": 59,
     "metadata": {},
     "output_type": "execute_result"
    },
    {
     "data": {
      "image/png": "[encoded data removed]",
      "text/plain": [
       "<Figure size 640x480 with 1 Axes>"
      ]
     },
     "metadata": {},
     "output_type": "display_data"
    }
   ],
   "source": [
    "plt.plot(x, (packet0 * np.exp(1j * waveNumber * t)) ** 2)"
   ]
  },
  {
   "cell_type": "code",
   "execution_count": null,
   "id": "6d8ef5e1-52be-40e3-810b-9aa864e775b7",
   "metadata": {},
   "outputs": [],
   "source": []
  }
 ],
 "metadata": {
  "kernelspec": {
   "display_name": "Python 3 (ipykernel)",
   "language": "python",
   "name": "python3"
  },
  "language_info": {
   "codemirror_mode": {
    "name": "ipython",
    "version": 3
   },
   "file_extension": ".py",
   "mimetype": "text/x-python",
   "name": "python",
   "nbconvert_exporter": "python",
   "pygments_lexer": "ipython3",
   "version": "3.10.8"
  }
 },
 "nbformat": 4,
 "nbformat_minor": 5
}
