{
 "cells": [
  {
   "cell_type": "code",
   "execution_count": 2,
   "id": "a14cec68-61c7-48a3-a1e8-a9875cd44c70",
   "metadata": {},
   "outputs": [],
   "source": [
    "import sympy as sp"
   ]
  },
  {
   "cell_type": "code",
   "execution_count": null,
   "id": "05ca69d1-cdc9-4f70-b68c-02cf7db26c89",
   "metadata": {},
   "outputs": [],
   "source": []
  },
  {
   "cell_type": "code",
   "execution_count": 3,
   "id": "491d8bb0-6cc0-4edd-ad3c-5380a57fa775",
   "metadata": {},
   "outputs": [],
   "source": [
    "k = sp.Symbol('k')"
   ]
  },
  {
   "cell_type": "code",
   "execution_count": 4,
   "id": "526414cf-e6a9-4944-bf9d-e7341596fdf7",
   "metadata": {},
   "outputs": [],
   "source": [
    "x = sp.Symbol('x')"
   ]
  },
  {
   "cell_type": "code",
   "execution_count": 5,
   "id": "392ac252-c5b7-4967-a385-fb67321dfcf2",
   "metadata": {},
   "outputs": [],
   "source": [
    "y = sp.Symbol('y')"
   ]
  },
  {
   "cell_type": "code",
   "execution_count": 16,
   "id": "58cba3f3-4377-427e-9309-48ae84f84bbf",
   "metadata": {},
   "outputs": [],
   "source": [
    "t = sp.Symbol('t')"
   ]
  },
  {
   "cell_type": "code",
   "execution_count": 17,
   "id": "2db2cd83-f9ea-4fc4-a6ea-7e7a64b8d26d",
   "metadata": {},
   "outputs": [],
   "source": [
    "E = sp.Symbol(\"E\")"
   ]
  },
  {
   "cell_type": "code",
   "execution_count": 18,
   "id": "626826f9-0437-4202-86c1-0b7865210037",
   "metadata": {},
   "outputs": [],
   "source": [
    "hbar = sp.Symbol(\"\\hbar\")"
   ]
  },
  {
   "cell_type": "code",
   "execution_count": 6,
   "id": "cc4f4346-0a8e-496c-9d5b-406733550664",
   "metadata": {},
   "outputs": [],
   "source": [
    "x0 = sp.Symbol('x_0')"
   ]
  },
  {
   "cell_type": "code",
   "execution_count": 7,
   "id": "ec407469-56fc-4c17-bdc6-7c6cdd61081e",
   "metadata": {},
   "outputs": [],
   "source": [
    "y0 = sp.Symbol('y_0')"
   ]
  },
  {
   "cell_type": "code",
   "execution_count": 8,
   "id": "7fc789d4-7869-42ca-9a84-8a80fc168027",
   "metadata": {},
   "outputs": [],
   "source": [
    "sigma = sp.Symbol(\"\\sigma\")"
   ]
  },
  {
   "cell_type": "code",
   "execution_count": 9,
   "id": "249c584f-3ceb-4977-9888-ba6024b0fe82",
   "metadata": {},
   "outputs": [],
   "source": [
    "packet = sp.exp(-((x - x0) ** 2 + (y - y0) ** 2) / (2 * sigma ** 2))"
   ]
  },
  {
   "cell_type": "code",
   "execution_count": 10,
   "id": "3fffe245-c097-4146-ac88-9ec8797413aa",
   "metadata": {},
   "outputs": [],
   "source": [
    "movePart = sp.exp(1j * k * (x - x0))"
   ]
  },
  {
   "cell_type": "code",
   "execution_count": 11,
   "id": "f95dc0cc-6c41-4533-8845-1bfd785991e2",
   "metadata": {},
   "outputs": [],
   "source": [
    "def laplace2D(x, y, f): \n",
    "    return f.diff(x).diff(x) + f.diff(y).diff(y)"
   ]
  },
  {
   "cell_type": "code",
   "execution_count": 12,
   "id": "82a5d9bd-6f63-4f50-93be-43a49a1a6a54",
   "metadata": {},
   "outputs": [],
   "source": [
    "movingPacket = packet * movePart"
   ]
  },
  {
   "cell_type": "code",
   "execution_count": 13,
   "id": "d418326e-0515-4bac-81d2-1300756c5109",
   "metadata": {},
   "outputs": [
    {
     "data": {
      "text/latex": [
       "$\\displaystyle e^{\\frac{- \\left(x - x_{0}\\right)^{2} - \\left(y - y_{0}\\right)^{2}}{2 \\sigma^{2}}} e^{1.0 i k \\left(x - x_{0}\\right)}$"
      ],
      "text/plain": [
       "exp((-(x - x_0)**2 - (y - y_0)**2)/(2*\\sigma**2))*exp(1.0*I*k*(x - x_0))"
      ]
     },
     "execution_count": 13,
     "metadata": {},
     "output_type": "execute_result"
    }
   ],
   "source": [
    "movingPacket"
   ]
  },
  {
   "cell_type": "code",
   "execution_count": null,
   "id": "6df70eb6-776a-4544-9c64-2ba552924e22",
   "metadata": {},
   "outputs": [],
   "source": []
  },
  {
   "cell_type": "code",
   "execution_count": 14,
   "id": "d5b35b0b-01f4-4e63-8314-dd9143b0a6df",
   "metadata": {},
   "outputs": [],
   "source": [
    "psi = sp.Function(\"\\psi\")"
   ]
  },
  {
   "cell_type": "code",
   "execution_count": 22,
   "id": "c8d61712-10f5-4275-a37e-b7efb61eb9dc",
   "metadata": {},
   "outputs": [],
   "source": [
    "psi0 = sp.Function(\"\\psi_0\")"
   ]
  },
  {
   "cell_type": "code",
   "execution_count": 25,
   "id": "84380f3e-3e24-4a7f-b5cc-f439b25254d4",
   "metadata": {},
   "outputs": [],
   "source": [
    "tdse = sp.Eq(psi(x, y, t), psi(x, y, 0) * sp.exp(-1j * E * t / hbar))"
   ]
  },
  {
   "cell_type": "code",
   "execution_count": 26,
   "id": "232ac848-fdd6-4160-ab9d-0a442b5d6d0f",
   "metadata": {},
   "outputs": [
    {
     "data": {
      "text/latex": [
       "$\\displaystyle \\psi{\\left(x,y,t \\right)} = \\psi{\\left(x,y,0 \\right)} e^{- \\frac{1.0 i E t}{\\bar{\\h}}}$"
      ],
      "text/plain": [
       "Eq(\\psi(x, y, t), \\psi(x, y, 0)*exp(-1.0*I*E*t/\\hbar))"
      ]
     },
     "execution_count": 26,
     "metadata": {},
     "output_type": "execute_result"
    }
   ],
   "source": [
    "tdse"
   ]
  },
  {
   "cell_type": "code",
   "execution_count": null,
   "id": "3c2b3fa6-c6d1-40cc-bab6-03661e23105b",
   "metadata": {},
   "outputs": [],
   "source": []
  },
  {
   "cell_type": "code",
   "execution_count": null,
   "id": "74ca6724-a899-44b5-a8bf-672f6e04dc4c",
   "metadata": {},
   "outputs": [],
   "source": []
  }
 ],
 "metadata": {
  "kernelspec": {
   "display_name": "Python 3 (ipykernel)",
   "language": "python",
   "name": "python3"
  },
  "language_info": {
   "codemirror_mode": {
    "name": "ipython",
    "version": 3
   },
   "file_extension": ".py",
   "mimetype": "text/x-python",
   "name": "python",
   "nbconvert_exporter": "python",
   "pygments_lexer": "ipython3",
   "version": "3.10.8"
  }
 },
 "nbformat": 4,
 "nbformat_minor": 5
}
