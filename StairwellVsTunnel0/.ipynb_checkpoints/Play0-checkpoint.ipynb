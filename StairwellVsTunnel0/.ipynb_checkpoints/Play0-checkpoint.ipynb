{
 "cells": [
  {
   "cell_type": "code",
   "execution_count": 1,
   "id": "e8dbbade-f770-4ba7-a0f8-8b3347ad1c20",
   "metadata": {},
   "outputs": [],
   "source": [
    "%matplotlib widget"
   ]
  },
  {
   "cell_type": "code",
   "execution_count": 2,
   "id": "8f9501f9-9e6c-4d01-a81c-0940f2e3281a",
   "metadata": {},
   "outputs": [],
   "source": [
    "import matplotlib.pyplot as plt"
   ]
  },
  {
   "cell_type": "code",
   "execution_count": 3,
   "id": "167b4a1c-b3e2-4575-a3e8-d83e27af3143",
   "metadata": {},
   "outputs": [],
   "source": [
    "from PIL import Image"
   ]
  },
  {
   "cell_type": "code",
   "execution_count": 4,
   "id": "93c7dd4c-0010-458b-b2f5-6b6fc40797eb",
   "metadata": {},
   "outputs": [],
   "source": [
    "from PIL import ImageSequence"
   ]
  },
  {
   "cell_type": "code",
   "execution_count": 5,
   "id": "66b77be7-9754-41a1-8f75-78120bc28317",
   "metadata": {},
   "outputs": [],
   "source": [
    "from typing import List"
   ]
  },
  {
   "cell_type": "code",
   "execution_count": 6,
   "id": "2aad67aa-a022-4f83-974d-e6667c352413",
   "metadata": {},
   "outputs": [],
   "source": [
    "from typing import Tuple"
   ]
  },
  {
   "cell_type": "code",
   "execution_count": 7,
   "id": "2783a276-a5d6-4d26-8177-fa9c98ddc3f6",
   "metadata": {},
   "outputs": [],
   "source": [
    "from pathlib import Path"
   ]
  },
  {
   "cell_type": "code",
   "execution_count": 8,
   "id": "8275c5fe-29e4-4ffc-9af9-c74074e80e9c",
   "metadata": {},
   "outputs": [],
   "source": [
    "import numpy as np"
   ]
  },
  {
   "cell_type": "code",
   "execution_count": 9,
   "id": "ff66408f-d6f2-4511-95cc-87a70ba4668c",
   "metadata": {},
   "outputs": [],
   "source": [
    "from matplotlib.animation import FuncAnimation"
   ]
  },
  {
   "cell_type": "code",
   "execution_count": 10,
   "id": "379a179e-d382-43eb-952b-a0c1786fb67a",
   "metadata": {},
   "outputs": [],
   "source": [
    "from functools import partial"
   ]
  },
  {
   "cell_type": "code",
   "execution_count": 11,
   "id": "230031f0-4a1d-44b4-9bcb-8076b2e2fe20",
   "metadata": {},
   "outputs": [],
   "source": [
    "caseName  = \"stairwellVsTunnel0\""
   ]
  },
  {
   "cell_type": "code",
   "execution_count": 12,
   "id": "08083241-5ade-475b-a511-37d851f1f38a",
   "metadata": {},
   "outputs": [],
   "source": [
    "imageIndicies = [0, 7, 13]"
   ]
  },
  {
   "cell_type": "code",
   "execution_count": 13,
   "id": "60af6ab9-6246-45a3-841a-c9ddf5854ade",
   "metadata": {},
   "outputs": [],
   "source": [
    "frameCount : int = 100"
   ]
  },
  {
   "cell_type": "code",
   "execution_count": null,
   "id": "576b5c77-e694-4ede-84c1-52505da2ab0f",
   "metadata": {},
   "outputs": [],
   "source": []
  },
  {
   "cell_type": "code",
   "execution_count": 14,
   "id": "91c4bdcf-efd3-4ffd-b80b-dbad1ba272e2",
   "metadata": {},
   "outputs": [],
   "source": [
    "pointCount = 50"
   ]
  },
  {
   "cell_type": "code",
   "execution_count": 15,
   "id": "9da730c2-d626-46bb-bfbf-915571954b7b",
   "metadata": {},
   "outputs": [],
   "source": [
    "def loadCaseprobabilityAnimations(caseName, imageIndicies): \n",
    "    probabilityAnimations = []\n",
    "    potentialImages = []\n",
    "    for imageIndex in imageIndicies: \n",
    "        probabilityAnimation = Image.open(Path(caseName) / str(imageIndex) / (str(imageIndex) + \".gif\"))\n",
    "        animation = []\n",
    "        for frame in ImageSequence.Iterator(probabilityAnimation): \n",
    "            animation.append(frame.copy())\n",
    "        probabilityAnimations.append(animation)\n",
    "        potentialImages.append(Image.open(Path(caseName) / str(imageIndex) / (str(imageIndex) + \"Potential.png\")))\n",
    "    return probabilityAnimations, potentialImages"
   ]
  },
  {
   "cell_type": "code",
   "execution_count": 20,
   "id": "f468ce77-cdda-4846-b3f0-0e0284cd767f",
   "metadata": {},
   "outputs": [],
   "source": [
    "cases = loadCaseprobabilityAnimations(caseName, imageIndicies)"
   ]
  },
  {
   "cell_type": "code",
   "execution_count": 51,
   "id": "013af74d-ad96-4ed1-a144-95d85f9b244f",
   "metadata": {},
   "outputs": [],
   "source": [
    "def playCases(cases : Tuple[List[List[Image.Image]], List[Image.Image]], interval = 30): \n",
    "    images = cases[0]\n",
    "    width : int = images[0][0].size[0]\n",
    "    height : int = images[0][0].size[1]\n",
    "    frameCount : int = len(images[0])\n",
    "    caseCount : int = len(images)\n",
    "    #animationFigure = plt.figure(figsize=(4, 4))\n",
    "    subplots = plt.subplots(caseCount, 2)\n",
    "    plt.tight_layout()\n",
    "    animationFigure = subplots[0]\n",
    "    axes = subplots[1]\n",
    "    animationAxes = []\n",
    "    potentialAxes = []\n",
    "    for ii in range(len(images)): \n",
    "        #animationAxes[ii](animationFigure.add_subplot(caseCount, 1, (ii + 1)))\n",
    "        animationAxes.append(axes[ii][0])\n",
    "        potentialAxes.append(axes[ii][1])\n",
    "        animationAxes[-1].get_xaxis().set_visible(False)\n",
    "        animationAxes[-1].get_yaxis().set_visible(False) \n",
    "        potentialAxes[-1].get_xaxis().set_visible(False)\n",
    "        potentialAxes[-1].get_yaxis().set_visible(False) \n",
    "    animationFrames = []\n",
    "    for imageIndex, image in enumerate(images): \n",
    "        animationFrames.append(animationAxes[imageIndex].imshow(image[imageIndex], zorder=1, extent=(0, width, 0, height)))\n",
    "        potentialAxes[imageIndex].imshow(cases[1][imageIndex], zorder = 1, extent=(0, width, 0, height))\n",
    "    def animateFrame(frameIndex_ : int): \n",
    "        for imageIndex, animationFrame in enumerate(animationFrames): \n",
    "            animationFrames[imageIndex].set_data(images[imageIndex][frameIndex_])\n",
    "            animationFrames[imageIndex].set_zorder(1)\n",
    "        return animationFrames, \n",
    "    animation = FuncAnimation(\n",
    "            animationFigure, \n",
    "            animateFrame, \n",
    "            interval = 30, \n",
    "            frames = np.arange(0, len(images[0]), 1), \n",
    "            repeat = True, \n",
    "            blit = True\n",
    "        )\n",
    "    return animation"
   ]
  },
  {
   "cell_type": "code",
   "execution_count": 52,
   "id": "a54783db-055e-45cd-9b89-5a6313453cd3",
   "metadata": {},
   "outputs": [
    {
     "data": {
      "application/vnd.jupyter.widget-view+json": {
       "model_id": "3a48a57ab26849e894d35510f2a34a20",
       "version_major": 2,
       "version_minor": 0
      },
      "image/png": "[encoded data removed]",
      "text/html": [
       "\n",
       "            <div style=\"display: inline-block;\">\n",
       "                <div class=\"jupyter-widgets widget-label\" style=\"text-align: center;\">\n",
       "                    Figure\n",
       "                </div>\n",
       "                <img src='data:image/png;base64,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' width=640.0/>\n",
       "            </div>\n",
       "        "
      ],
      "text/plain": [
       "Canvas(toolbar=Toolbar(toolitems=[('Home', 'Reset original view', 'home', 'home'), ('Back', 'Back to previous …"
      ]
     },
     "metadata": {},
     "output_type": "display_data"
    }
   ],
   "source": [
    "plt.close()\n",
    "animation = playCases(cases, frameCount)"
   ]
  },
  {
   "cell_type": "code",
   "execution_count": null,
   "id": "84cf2ecb-a473-4fd4-8b6d-17f84aa1f154",
   "metadata": {},
   "outputs": [],
   "source": []
  },
  {
   "cell_type": "code",
   "execution_count": null,
   "id": "0f411e78-5c60-4240-84ca-db144dfad55f",
   "metadata": {},
   "outputs": [],
   "source": []
  },
  {
   "cell_type": "code",
   "execution_count": null,
   "id": "60f2bf95-7e39-4178-988a-63af2a16dd1b",
   "metadata": {},
   "outputs": [],
   "source": []
  }
 ],
 "metadata": {
  "kernelspec": {
   "display_name": "Python 3 (ipykernel)",
   "language": "python",
   "name": "python3"
  },
  "language_info": {
   "codemirror_mode": {
    "name": "ipython",
    "version": 3
   },
   "file_extension": ".py",
   "mimetype": "text/x-python",
   "name": "python",
   "nbconvert_exporter": "python",
   "pygments_lexer": "ipython3",
   "version": "3.10.8"
  }
 },
 "nbformat": 4,
 "nbformat_minor": 5
}
