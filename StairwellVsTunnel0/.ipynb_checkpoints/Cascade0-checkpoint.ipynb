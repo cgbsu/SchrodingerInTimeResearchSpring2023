{
 "cells": [
  {
   "cell_type": "code",
   "execution_count": 1,
   "id": "df4329a4-ad5e-4816-8011-1ceb7b865644",
   "metadata": {},
   "outputs": [],
   "source": [
    "%matplotlib widget"
   ]
  },
  {
   "cell_type": "code",
   "execution_count": 2,
   "id": "9a374f44-e92a-4154-ba76-cf3a0c680900",
   "metadata": {},
   "outputs": [],
   "source": [
    "from functools import partial"
   ]
  },
  {
   "cell_type": "code",
   "execution_count": 3,
   "id": "cf6c7a59-133a-4874-9420-a262a3c9fe25",
   "metadata": {},
   "outputs": [],
   "source": [
    "from libschrodinger.crank_nicolson_2d import *"
   ]
  },
  {
   "cell_type": "code",
   "execution_count": 4,
   "id": "3e2b1a21-6c06-4807-95cf-e01bbf8d3ac7",
   "metadata": {},
   "outputs": [],
   "source": [
    "from libschrodinger.potentials import *"
   ]
  },
  {
   "cell_type": "code",
   "execution_count": 5,
   "id": "1d6992dd-60eb-4133-b81c-b856977c126a",
   "metadata": {},
   "outputs": [],
   "source": [
    "import numpy as np"
   ]
  },
  {
   "cell_type": "code",
   "execution_count": 6,
   "id": "21e2b4de-716e-4538-a449-773ba81c9616",
   "metadata": {},
   "outputs": [],
   "source": [
    "import pandas as pd"
   ]
  },
  {
   "cell_type": "code",
   "execution_count": 7,
   "id": "79eb77a0-ef23-4c2b-b3f1-5be02b97169e",
   "metadata": {},
   "outputs": [],
   "source": [
    "from pathlib import Path"
   ]
  },
  {
   "cell_type": "code",
   "execution_count": 8,
   "id": "aab3ff36-19b0-45fa-a4b6-aa2aaf9cfd3b",
   "metadata": {},
   "outputs": [],
   "source": [
    "from typing import Dict"
   ]
  },
  {
   "cell_type": "code",
   "execution_count": 9,
   "id": "aad5f901-c59e-4c05-9566-2880829f0011",
   "metadata": {},
   "outputs": [],
   "source": [
    "caseName : str = \"cascade1\""
   ]
  },
  {
   "cell_type": "code",
   "execution_count": 10,
   "id": "6d98a8fe-d452-4992-971e-3ad99963a5c7",
   "metadata": {},
   "outputs": [
    {
     "name": "stdout",
     "output_type": "stream",
     "text": [
      "Point Count:  400\n",
      "0.3999999999999999\n",
      "0.3\n",
      "0.30000000000000004\n",
      "0.04444444444444443\n",
      "1.0\n",
      "0.9999999999999999\n"
     ]
    }
   ],
   "source": [
    "math = np\n",
    "spatialStep : float = .05\n",
    "length : float = 20\n",
    "temporalStep : float = (spatialStep ** 2) / 4\n",
    "courantNumber : float = 1.0\n",
    "pointCount : int = int(length / spatialStep)\n",
    "potentialHeight : float = 400\n",
    "print(\"Point Count: \", pointCount)\n",
    "packetStandardDeviation : float = .5\n",
    "packetStartX : float = 1 - (3 * (packetStandardDeviation / length))\n",
    "packetStartY : float = .5\n",
    "packetWaveNumber : float = 13 * np.pi\n",
    "barrierCount : int = 9\n",
    "postRegionLength = .3\n",
    "preRegionLength : float = ((packetStandardDeviation / length) * 12)\n",
    "intraRegionLength : float = 1 - (postRegionLength + preRegionLength)\n",
    "barrierWidth : float = intraRegionLength / barrierCount\n",
    "constantPotentialLengthRatios : List[float] = [postRegionLength] \\\n",
    "        + ([barrierWidth] * barrierCount) \\\n",
    "        + [preRegionLength]\n",
    "print(intraRegionLength)\n",
    "print(postRegionLength)\n",
    "print(preRegionLength)\n",
    "print(barrierWidth)\n",
    "print(intraRegionLength + postRegionLength + preRegionLength)\n",
    "print(np.sum(constantPotentialLengthRatios ))\n",
    "frameCount : int = 650\n",
    "backend = \"numpy\""
   ]
  },
  {
   "cell_type": "code",
   "execution_count": 11,
   "id": "801d7cb7-16e7-4c41-97a3-412503ee2fdf",
   "metadata": {},
   "outputs": [],
   "source": [
    "wavePacketFunction = lambda position : makeWavePacket(\n",
    "            position, \n",
    "            packetStartX * length, \n",
    "            packetStartY * length, \n",
    "            spatialStep, \n",
    "            packetStandardDeviation, \n",
    "            packetWaveNumber, \n",
    "            math\n",
    "        )"
   ]
  },
  {
   "cell_type": "code",
   "execution_count": 12,
   "id": "f158a1d1-bd32-4430-b6a9-a0d31387957a",
   "metadata": {},
   "outputs": [],
   "source": [
    "def recordTotalLengthWiseProbabilities(\n",
    "            simulator : Simulator, \n",
    "            regionLengths : List[float], \n",
    "            regionLabels : Tuple[str], \n",
    "            math = np, \n",
    "            regionLabelPrepend = \"TotalProbability::\"\n",
    "        ) -> pd.DataFrame:\n",
    "    assert len(regionLabels) == len(regionLengths)\n",
    "    currentPosition : float = 0\n",
    "    regionalProbabilities : List[np.array] = []\n",
    "    regionalCutFrames : List[np.array] = []\n",
    "    for ii in range(len(regionLengths)): \n",
    "        regionLength = regionLengths[ii]\n",
    "        probabilities, cutFrames = totalProbabilityInRegion(\n",
    "                simulator.probabilities, \n",
    "                simulator.grid.pointCount, \n",
    "                simulator.spaceStep, \n",
    "                currentPosition, \n",
    "                0, \n",
    "                regionLength, \n",
    "                1, \n",
    "                math\n",
    "            )\n",
    "        regionalProbabilities.append(probabilities)\n",
    "        regionalCutFrames.append(cutFrames)\n",
    "        currentPosition += regionLength\n",
    "    totalProbabilities = {\n",
    "            (regionLabelPrepend + \"Probabilities::\" + regionLabels[ii]) : regionalProbabilities[ii] \\\n",
    "            for ii in range(len(regionLengths))\n",
    "        }\n",
    "    return totalProbabilities, regionalCutFrames"
   ]
  },
  {
   "cell_type": "code",
   "execution_count": null,
   "id": "534d56f6-bca2-49af-85a8-0eb48184cb67",
   "metadata": {},
   "outputs": [],
   "source": []
  },
  {
   "cell_type": "code",
   "execution_count": 13,
   "id": "351bfc7e-9693-4051-afde-4bca367c0d04",
   "metadata": {},
   "outputs": [],
   "source": [
    "def logConstantMeasurementRegionSimulation(\n",
    "            baseName : str, \n",
    "            length : float, \n",
    "            simulator : Simulator, \n",
    "            simulationCount : int, \n",
    "            allData : Dict, \n",
    "            constantRegionLengths : List[float], \n",
    "            constantRegionLabels : List[str], \n",
    "            showWhenSimulationDone : bool = False, \n",
    "            math = np, \n",
    "            basePath = None, \n",
    "            animationInterval = 30\n",
    "        ):\n",
    "    basePath = basePath if basePath else Path.cwd() / baseName\n",
    "    if showWhenSimulationDone == True: \n",
    "        print(\"Simulation \" + str(simulationCount) + \": done processing probabilities.\")\n",
    "    if showWhenSimulationDone == True: \n",
    "        print(\"Simulation \" + str(simulationCount) + \": logging.\")\n",
    "    name = baseName + str(simulationCount) + \"::\"\n",
    "    if showWhenSimulationDone == True: \n",
    "        print(\"Saving Video of \" + name[:-2])\n",
    "    videoPath = basePath / str(simulationCount)\n",
    "    videoPath.mkdir(parents = True, exist_ok = True)\n",
    "    totalProbabilities, cutFrames = recordTotalLengthWiseProbabilities(\n",
    "            simulator, \n",
    "            constantRegionLengths, \n",
    "            constantRegionLabels, \n",
    "            math, \n",
    "            name\n",
    "        )\n",
    "    waveAnimation = animateImages(\n",
    "            length, \n",
    "            simulator.probabilities, \n",
    "            animationInterval, \n",
    "            0, \n",
    "            math.max(simulator.probabilities), \n",
    "            constantRegionLengths, \n",
    "            [1] * len(constantRegionLengths), \n",
    "            colorMap = \"hot\"\n",
    "        )\n",
    "    waveAnimation.save(str(videoPath / (str(simulationCount) + \".gif\")))\n",
    "    plt.close()\n",
    "    plt.figure()\n",
    "    plt.imshow(simulator.potentials[0])\n",
    "    plt.savefig(str(videoPath / (str(simulationCount) + \"Potential.png\")))\n",
    "    plt.close()\n",
    "    totalProbabilities[name + \"FrameCount\"] = frameCount\n",
    "    totalProbabilities[name + \"SpaceStep\"] = simulator.profile.spaceStep\n",
    "    totalProbabilities[name + \"TimeStep\"] = simulator.profile.timeStep\n",
    "    totalProbabilities[name + \"PointCount\"] = simulator.profile.grid.pointCount\n",
    "    for ii in range(len(constantRegionLabels)): \n",
    "        print(\"Saving Video of \" + constantRegionLabels[ii])\n",
    "        totalProbabilities[name + \"RegionLength::\" + constantRegionLabels[ii]] = constantRegionLengths[ii]\n",
    "        cutAnimation = animateImages(\n",
    "                length * constantRegionLengths[ii], \n",
    "                cutFrames[ii], \n",
    "                animationInterval, \n",
    "                0, \n",
    "                math.max(cutFrames[ii]), \n",
    "                colorMap = \"hot\"\n",
    "            )\n",
    "        cutAnimation.save(str(videoPath / (constantRegionLabels[ii] + \".gif\")))\n",
    "        plt.close()\n",
    "    allData |= totalProbabilities\n",
    "    if showWhenSimulationDone == True: \n",
    "        print(\"Done logging \" + name[:-2])\n",
    "    simulationCount += 1\n",
    "    if showWhenSimulationDone == True: \n",
    "        print(\"Producing Simulation final output CSV\")\n",
    "    return allData\n",
    "    "
   ]
  },
  {
   "cell_type": "code",
   "execution_count": 14,
   "id": "3f5346dc-9989-47aa-a35b-ad2885fc1f85",
   "metadata": {},
   "outputs": [],
   "source": [
    "def constantSimulationProfiles( \n",
    "            initialWaveFunction, \n",
    "            spatialStep : float, \n",
    "            temporalStep : float,\n",
    "            length : float, \n",
    "            regionLengthRatios : List[float], \n",
    "            regionPotentialRatios : List[List[float]], \n",
    "            simulateControl : bool, \n",
    "            math = np, \n",
    "            gpuAccelerated = False, \n",
    "            edgeBound = False, \n",
    "            useDense = False, \n",
    "            courantNumber = 1.0\n",
    "        ) -> List[SimulationProfile]:\n",
    "    if simulateControl == True: \n",
    "        regionPotentialRatios.append([0.0 for ii in range(len(regionPotentialRatios[0]))])\n",
    "    profiles : List[SimulationProfile] = []\n",
    "    potentialFunction = lambda potentialRatios, position, time : constantPotentials(\n",
    "                position, \n",
    "                math.array(regionLengthRatios), \n",
    "                potentialRatios, \n",
    "                potentialHeight, \n",
    "                math\n",
    "        )\n",
    "    for potentialRatios in regionPotentialRatios: \n",
    "        profile = SimulationProfile(\n",
    "            makeLinspaceGrid(pointCount, length, 2, False, float, math), \n",
    "            initialWaveFunction, \n",
    "            partial(potentialFunction, potentialRatios), \n",
    "            temporalStep, \n",
    "            spatialStep, \n",
    "            constantPotential = True, \n",
    "            gpuAccelerated = gpuAccelerated, \n",
    "            edgeBound = edgeBound, \n",
    "            useDense = useDense, \n",
    "            courantNumber = courantNumber, \n",
    "            length = length\n",
    "        )\n",
    "        profiles.append(profile)\n",
    "    return profiles"
   ]
  },
  {
   "cell_type": "code",
   "execution_count": 15,
   "id": "94fd2a45-df68-4b6a-bf81-7ae812ac6783",
   "metadata": {},
   "outputs": [],
   "source": [
    "def recordConstantRegionSimulations(\n",
    "            profiles : List[SimulationProfile], \n",
    "            frames : int, \n",
    "            baseName : str, \n",
    "            measurmentRegions : List[float], \n",
    "            showWhenSimulationDone = False, \n",
    "            discardSimulations = True, \n",
    "            constantRegionLabels : List[str] = None, \n",
    "            basePath = None, \n",
    "            animationInterval = 30, \n",
    "            showBar : bool = False, \n",
    "            showFPS : bool = False, \n",
    "            showTotalTime : bool = False, \n",
    "            math = np\n",
    "        ):\n",
    "    simulations : List[Simulator] = []\n",
    "    simulationCount : int = 0\n",
    "    allData = {}\n",
    "    constantRegionLabels \\\n",
    "            = [\"Region\" + str(ii) for ii in range(len(constantRegionLabels))] \\\n",
    "            if constantRegionLabels == None else constantRegionLabels \n",
    "    for profile in profiles: \n",
    "        simulator = Simulator(profile)\n",
    "        simulator.simulate(frames, showBar, showFPS, showTotalTime)\n",
    "        if showWhenSimulationDone == True: \n",
    "            print(\"Simulation \" + str(simulationCount) + \" is done, processing probabilities.\")\n",
    "        probabilities, probabilityDecibles = simulator.processProbabilities()\n",
    "        if discardSimulations == False: \n",
    "            simulations.append(simulator)\n",
    "        allData = logConstantMeasurementRegionSimulation(\n",
    "            baseName, \n",
    "            simulator.profile.length, \n",
    "            simulator, \n",
    "            simulationCount, \n",
    "            allData, \n",
    "            measurmentRegions, \n",
    "            constantRegionLabels, \n",
    "            showWhenSimulationDone, \n",
    "            math, \n",
    "            basePath, \n",
    "            animationInterval\n",
    "        )\n",
    "        simulationCount += 1\n",
    "    return allData, simulations"
   ]
  },
  {
   "cell_type": "code",
   "execution_count": 16,
   "id": "0c96918d-7190-41eb-b826-280b31ed052f",
   "metadata": {},
   "outputs": [],
   "source": [
    "def makeCascade(regionCount : int) -> List[float]: \n",
    "    unit = 1 / regionCount\n",
    "    regionRatios : List[float] = []\n",
    "    for ii in range(0, regionCount): \n",
    "        if ii % 2 == 0: \n",
    "            regionRatios.append(unit * (regionCount - ii))\n",
    "        else: \n",
    "            regionRatios.append(unit * (regionCount - (ii + 2)))\n",
    "    return regionRatios"
   ]
  },
  {
   "cell_type": "code",
   "execution_count": null,
   "id": "74eb44d2-101a-4678-af9e-7f8a7fa3acd4",
   "metadata": {},
   "outputs": [],
   "source": []
  },
  {
   "cell_type": "code",
   "execution_count": null,
   "id": "e35bf11f-bea6-4891-a624-8466f1bcf552",
   "metadata": {},
   "outputs": [],
   "source": []
  },
  {
   "cell_type": "code",
   "execution_count": 32,
   "id": "a9c618a2-7f5a-450e-b011-d64ef7663ea3",
   "metadata": {},
   "outputs": [],
   "source": [
    "potentials : List[List[float]] = [\n",
    "        [0] + makeCascade(9) + [0]\n",
    "    ]"
   ]
  },
  {
   "cell_type": "code",
   "execution_count": 33,
   "id": "388cc0ff-35a5-405b-b7e8-f740abf43347",
   "metadata": {},
   "outputs": [
    {
     "name": "stdout",
     "output_type": "stream",
     "text": [
      "[0, 1.0, 0.6666666666666666, 0.7777777777777777, 0.4444444444444444, 0.5555555555555556, 0.2222222222222222, 0.3333333333333333, 0.0, 0.1111111111111111, 0]\n",
      "[0, 0.1111111111111111, 0.0, 0.3333333333333333, 0.2222222222222222, 0.5555555555555556, 0.4444444444444444, 0.7777777777777777, 0.6666666666666666, 1.0, 0]\n"
     ]
    }
   ],
   "source": [
    "print(potentials[0])\n",
    "potentials[0].reverse()\n",
    "print(potentials[0])"
   ]
  },
  {
   "cell_type": "code",
   "execution_count": 34,
   "id": "5f08f234-17f0-43cd-977b-92196e55c444",
   "metadata": {},
   "outputs": [],
   "source": [
    "profiles : List[SimulationProfile] = constantSimulationProfiles(\n",
    "        wavePacketFunction, \n",
    "        spatialStep, \n",
    "        temporalStep, \n",
    "        length, \n",
    "        constantPotentialLengthRatios, \n",
    "        potentials, \n",
    "        True, \n",
    "        edgeBound = True\n",
    "    )"
   ]
  },
  {
   "cell_type": "code",
   "execution_count": null,
   "id": "23fa7f2c-1cf6-4a2c-b64d-aa924106d604",
   "metadata": {},
   "outputs": [],
   "source": []
  },
  {
   "cell_type": "code",
   "execution_count": 35,
   "id": "f71aedf2-77ef-4338-9e0d-fa727733acce",
   "metadata": {},
   "outputs": [
    {
     "data": {
      "text/plain": [
       "[0.3,\n",
       " 0.04444444444444443,\n",
       " 0.04444444444444443,\n",
       " 0.04444444444444443,\n",
       " 0.04444444444444443,\n",
       " 0.04444444444444443,\n",
       " 0.04444444444444443,\n",
       " 0.04444444444444443,\n",
       " 0.04444444444444443,\n",
       " 0.04444444444444443,\n",
       " 0.30000000000000004]"
      ]
     },
     "execution_count": 35,
     "metadata": {},
     "output_type": "execute_result"
    }
   ],
   "source": [
    "constantPotentialLengthRatios"
   ]
  },
  {
   "cell_type": "code",
   "execution_count": 36,
   "id": "8e3dc6f5-9c5f-4a21-9037-38b141b2d6b9",
   "metadata": {},
   "outputs": [
    {
     "name": "stdout",
     "output_type": "stream",
     "text": [
      "[====================================================================================================]\n",
      "[--"
     ]
    },
    {
     "ename": "KeyboardInterrupt",
     "evalue": "",
     "output_type": "error",
     "traceback": [
      "\u001b[0;31m---------------------------------------------------------------------------\u001b[0m",
      "\u001b[0;31mKeyboardInterrupt\u001b[0m                         Traceback (most recent call last)",
      "Cell \u001b[0;32mIn[36], line 1\u001b[0m\n\u001b[0;32m----> 1\u001b[0m allData, _ \u001b[38;5;241m=\u001b[39m \u001b[43mrecordConstantRegionSimulations\u001b[49m\u001b[43m(\u001b[49m\n\u001b[1;32m      2\u001b[0m \u001b[43m        \u001b[49m\u001b[43mprofiles\u001b[49m\u001b[43m,\u001b[49m\u001b[43m \u001b[49m\n\u001b[1;32m      3\u001b[0m \u001b[43m        \u001b[49m\u001b[43mframeCount\u001b[49m\u001b[43m,\u001b[49m\u001b[43m \u001b[49m\n\u001b[1;32m      4\u001b[0m \u001b[43m        \u001b[49m\u001b[43mcaseName\u001b[49m\u001b[43m,\u001b[49m\u001b[43m \u001b[49m\n\u001b[1;32m      5\u001b[0m \u001b[43m        \u001b[49m\u001b[43m[\u001b[49m\u001b[43mpostRegionLength\u001b[49m\u001b[43m]\u001b[49m\u001b[43m \u001b[49m\u001b[38;5;241;43m+\u001b[39;49m\u001b[43m \u001b[49m\u001b[43m(\u001b[49m\u001b[43m[\u001b[49m\u001b[43mbarrierWidth\u001b[49m\u001b[43m \u001b[49m\u001b[38;5;241;43m*\u001b[39;49m\u001b[43m \u001b[49m\u001b[38;5;241;43m3\u001b[39;49m\u001b[43m]\u001b[49m\u001b[43m \u001b[49m\u001b[38;5;241;43m*\u001b[39;49m\u001b[43m \u001b[49m\u001b[38;5;241;43m3\u001b[39;49m\u001b[43m)\u001b[49m\u001b[43m \u001b[49m\u001b[38;5;241;43m+\u001b[39;49m\u001b[43m \u001b[49m\u001b[43m[\u001b[49m\u001b[43mpreRegionLength\u001b[49m\u001b[43m]\u001b[49m\u001b[43m,\u001b[49m\u001b[43m \u001b[49m\n\u001b[1;32m      6\u001b[0m \u001b[43m        \u001b[49m\u001b[38;5;28;43;01mFalse\u001b[39;49;00m\u001b[43m,\u001b[49m\u001b[43m \u001b[49m\n\u001b[1;32m      7\u001b[0m \u001b[43m        \u001b[49m\u001b[43mconstantRegionLabels\u001b[49m\u001b[43m \u001b[49m\u001b[38;5;241;43m=\u001b[39;49m\u001b[43m \u001b[49m\u001b[43m[\u001b[49m\u001b[38;5;124;43m\"\u001b[39;49m\u001b[38;5;124;43mPost\u001b[39;49m\u001b[38;5;124;43m\"\u001b[39;49m\u001b[43m,\u001b[49m\u001b[43m \u001b[49m\u001b[38;5;124;43m\"\u001b[39;49m\u001b[38;5;124;43m3rdStair\u001b[39;49m\u001b[38;5;124;43m\"\u001b[39;49m\u001b[43m,\u001b[49m\u001b[43m \u001b[49m\u001b[38;5;124;43m\"\u001b[39;49m\u001b[38;5;124;43m2ndStair\u001b[39;49m\u001b[38;5;124;43m\"\u001b[39;49m\u001b[43m,\u001b[49m\u001b[43m \u001b[49m\u001b[38;5;124;43m\"\u001b[39;49m\u001b[38;5;124;43m1stStair\u001b[39;49m\u001b[38;5;124;43m\"\u001b[39;49m\u001b[43m,\u001b[49m\u001b[43m \u001b[49m\u001b[38;5;124;43m\"\u001b[39;49m\u001b[38;5;124;43mPre\u001b[39;49m\u001b[38;5;124;43m\"\u001b[39;49m\u001b[43m]\u001b[49m\u001b[43m,\u001b[49m\u001b[43m \u001b[49m\n\u001b[1;32m      8\u001b[0m \u001b[43m        \u001b[49m\u001b[43mshowBar\u001b[49m\u001b[43m \u001b[49m\u001b[38;5;241;43m=\u001b[39;49m\u001b[43m \u001b[49m\u001b[38;5;28;43;01mTrue\u001b[39;49;00m\u001b[43m,\u001b[49m\u001b[43m \u001b[49m\n\u001b[1;32m      9\u001b[0m \u001b[43m        \u001b[49m\u001b[43mshowFPS\u001b[49m\u001b[43m \u001b[49m\u001b[38;5;241;43m=\u001b[39;49m\u001b[43m \u001b[49m\u001b[38;5;28;43;01mTrue\u001b[39;49;00m\u001b[43m,\u001b[49m\u001b[43m \u001b[49m\n\u001b[1;32m     10\u001b[0m \u001b[43m        \u001b[49m\u001b[43mshowTotalTime\u001b[49m\u001b[43m \u001b[49m\u001b[38;5;241;43m=\u001b[39;49m\u001b[43m \u001b[49m\u001b[38;5;28;43;01mTrue\u001b[39;49;00m\n\u001b[1;32m     11\u001b[0m \u001b[43m    \u001b[49m\u001b[43m)\u001b[49m\n",
      "Cell \u001b[0;32mIn[15], line 24\u001b[0m, in \u001b[0;36mrecordConstantRegionSimulations\u001b[0;34m(profiles, frames, baseName, measurmentRegions, showWhenSimulationDone, discardSimulations, constantRegionLabels, basePath, animationInterval, showBar, showFPS, showTotalTime, math)\u001b[0m\n\u001b[1;32m     22\u001b[0m \u001b[38;5;28;01mfor\u001b[39;00m profile \u001b[38;5;129;01min\u001b[39;00m profiles: \n\u001b[1;32m     23\u001b[0m     simulator \u001b[38;5;241m=\u001b[39m Simulator(profile)\n\u001b[0;32m---> 24\u001b[0m     \u001b[43msimulator\u001b[49m\u001b[38;5;241;43m.\u001b[39;49m\u001b[43msimulate\u001b[49m\u001b[43m(\u001b[49m\u001b[43mframes\u001b[49m\u001b[43m,\u001b[49m\u001b[43m \u001b[49m\u001b[43mshowBar\u001b[49m\u001b[43m,\u001b[49m\u001b[43m \u001b[49m\u001b[43mshowFPS\u001b[49m\u001b[43m,\u001b[49m\u001b[43m \u001b[49m\u001b[43mshowTotalTime\u001b[49m\u001b[43m)\u001b[49m\n\u001b[1;32m     25\u001b[0m     \u001b[38;5;28;01mif\u001b[39;00m showWhenSimulationDone \u001b[38;5;241m==\u001b[39m \u001b[38;5;28;01mTrue\u001b[39;00m: \n\u001b[1;32m     26\u001b[0m         \u001b[38;5;28mprint\u001b[39m(\u001b[38;5;124m\"\u001b[39m\u001b[38;5;124mSimulation \u001b[39m\u001b[38;5;124m\"\u001b[39m \u001b[38;5;241m+\u001b[39m \u001b[38;5;28mstr\u001b[39m(simulationCount) \u001b[38;5;241m+\u001b[39m \u001b[38;5;124m\"\u001b[39m\u001b[38;5;124m is done, processing probabilities.\u001b[39m\u001b[38;5;124m\"\u001b[39m)\n",
      "File \u001b[0;32m/home/jovyan/work/SchrodingerInTime3D/StairwellVsTunnel0/libschrodinger/crank_nicolson_2d.py:390\u001b[0m, in \u001b[0;36mSimulator.simulate\u001b[0;34m(self, timePoints, printProgress, showTotalTime, showStepTime, detailedProgress)\u001b[0m\n\u001b[1;32m    388\u001b[0m knownStepMatrix \u001b[38;5;241m=\u001b[39m \u001b[38;5;28mself\u001b[39m\u001b[38;5;241m.\u001b[39mcreateCurrentStepMatrix(\u001b[38;5;28mself\u001b[39m\u001b[38;5;241m.\u001b[39mpotentials[\u001b[38;5;241m-\u001b[39m\u001b[38;5;241m2\u001b[39m])\n\u001b[1;32m    389\u001b[0m unknownStepMatrix \u001b[38;5;241m=\u001b[39m \u001b[38;5;28mself\u001b[39m\u001b[38;5;241m.\u001b[39mcreateNextStepMatrix(\u001b[38;5;28mself\u001b[39m\u001b[38;5;241m.\u001b[39mpotentials[\u001b[38;5;241m-\u001b[39m\u001b[38;5;241m1\u001b[39m])\n\u001b[0;32m--> 390\u001b[0m \u001b[38;5;28;43mself\u001b[39;49m\u001b[38;5;241;43m.\u001b[39;49m\u001b[43mcompute\u001b[49m\u001b[43m(\u001b[49m\u001b[43mtime\u001b[49m\u001b[43m,\u001b[49m\u001b[43m \u001b[49m\u001b[43munknownStepMatrix\u001b[49m\u001b[43m,\u001b[49m\u001b[43m \u001b[49m\u001b[43mknownStepMatrix\u001b[49m\u001b[43m)\u001b[49m\n\u001b[1;32m    391\u001b[0m time \u001b[38;5;241m=\u001b[39m (ii \u001b[38;5;241m+\u001b[39m \u001b[38;5;241m1\u001b[39m) \u001b[38;5;241m*\u001b[39m timeStep\n\u001b[1;32m    392\u001b[0m progress \u001b[38;5;241m=\u001b[39m \u001b[38;5;28mround\u001b[39m((ii \u001b[38;5;241m/\u001b[39m timePoints) \u001b[38;5;241m*\u001b[39m progressBarLength)\n",
      "File \u001b[0;32m/home/jovyan/work/SchrodingerInTime3D/StairwellVsTunnel0/libschrodinger/crank_nicolson_2d.py:337\u001b[0m, in \u001b[0;36mSimulator.compute\u001b[0;34m(self, time, unknownStepMatrix, knownStepMatrix)\u001b[0m\n\u001b[1;32m    335\u001b[0m independantTerms \u001b[38;5;241m=\u001b[39m knownStepMatrix \u001b[38;5;241m@\u001b[39m waveFunctionVector \n\u001b[1;32m    336\u001b[0m \u001b[38;5;66;03m#independantTerms = math.matmul(knownStepMatrix, waveFunctionVector)\u001b[39;00m\n\u001b[0;32m--> 337\u001b[0m nextWaveFunction \u001b[38;5;241m=\u001b[39m \u001b[38;5;28;43mself\u001b[39;49m\u001b[38;5;241;43m.\u001b[39;49m\u001b[43mlinalg\u001b[49m\u001b[38;5;241;43m.\u001b[39;49m\u001b[43mspsolve\u001b[49m\u001b[43m(\u001b[49m\n\u001b[1;32m    338\u001b[0m \u001b[43m            \u001b[49m\u001b[43msparse\u001b[49m\u001b[38;5;241;43m.\u001b[39;49m\u001b[43mcsr_matrix\u001b[49m\u001b[43m(\u001b[49m\u001b[43munknownStepMatrix\u001b[49m\u001b[43m)\u001b[49m\u001b[43m,\u001b[49m\u001b[43m \u001b[49m\n\u001b[1;32m    339\u001b[0m \u001b[43m            \u001b[49m\u001b[43mindependantTerms\u001b[49m\n\u001b[1;32m    340\u001b[0m \u001b[43m    \u001b[49m\u001b[43m)\u001b[49m\u001b[38;5;241m.\u001b[39mreshape(\u001b[38;5;28mtuple\u001b[39m([\u001b[38;5;28mself\u001b[39m\u001b[38;5;241m.\u001b[39mgrid\u001b[38;5;241m.\u001b[39mpointCount \u001b[38;5;241m-\u001b[39m \u001b[38;5;241m2\u001b[39m] \u001b[38;5;241m*\u001b[39m \u001b[38;5;28mself\u001b[39m\u001b[38;5;241m.\u001b[39mdimensions),)\n\u001b[1;32m    341\u001b[0m \u001b[38;5;28mself\u001b[39m\u001b[38;5;241m.\u001b[39mwaveFunctions\u001b[38;5;241m.\u001b[39mappend(math\u001b[38;5;241m.\u001b[39mpad(nextWaveFunction, \u001b[38;5;241m1\u001b[39m))\n\u001b[1;32m    342\u001b[0m \u001b[38;5;28;01mreturn\u001b[39;00m \u001b[38;5;28mself\u001b[39m\u001b[38;5;241m.\u001b[39mwaveFunctions[\u001b[38;5;241m-\u001b[39m\u001b[38;5;241m1\u001b[39m], \u001b[38;5;28mself\u001b[39m\u001b[38;5;241m.\u001b[39mpotentials[\u001b[38;5;241m-\u001b[39m\u001b[38;5;241m1\u001b[39m]\n",
      "File \u001b[0;32m/opt/conda/lib/python3.10/site-packages/scipy/sparse/linalg/_dsolve/linsolve.py:273\u001b[0m, in \u001b[0;36mspsolve\u001b[0;34m(A, b, permc_spec, use_umfpack)\u001b[0m\n\u001b[1;32m    270\u001b[0m     flag \u001b[38;5;241m=\u001b[39m \u001b[38;5;241m0\u001b[39m  \u001b[38;5;66;03m# CSR format\u001b[39;00m\n\u001b[1;32m    272\u001b[0m options \u001b[38;5;241m=\u001b[39m \u001b[38;5;28mdict\u001b[39m(ColPerm\u001b[38;5;241m=\u001b[39mpermc_spec)\n\u001b[0;32m--> 273\u001b[0m x, info \u001b[38;5;241m=\u001b[39m \u001b[43m_superlu\u001b[49m\u001b[38;5;241;43m.\u001b[39;49m\u001b[43mgssv\u001b[49m\u001b[43m(\u001b[49m\u001b[43mN\u001b[49m\u001b[43m,\u001b[49m\u001b[43m \u001b[49m\u001b[43mA\u001b[49m\u001b[38;5;241;43m.\u001b[39;49m\u001b[43mnnz\u001b[49m\u001b[43m,\u001b[49m\u001b[43m \u001b[49m\u001b[43mA\u001b[49m\u001b[38;5;241;43m.\u001b[39;49m\u001b[43mdata\u001b[49m\u001b[43m,\u001b[49m\u001b[43m \u001b[49m\u001b[43mA\u001b[49m\u001b[38;5;241;43m.\u001b[39;49m\u001b[43mindices\u001b[49m\u001b[43m,\u001b[49m\u001b[43m \u001b[49m\u001b[43mA\u001b[49m\u001b[38;5;241;43m.\u001b[39;49m\u001b[43mindptr\u001b[49m\u001b[43m,\u001b[49m\n\u001b[1;32m    274\u001b[0m \u001b[43m                        \u001b[49m\u001b[43mb\u001b[49m\u001b[43m,\u001b[49m\u001b[43m \u001b[49m\u001b[43mflag\u001b[49m\u001b[43m,\u001b[49m\u001b[43m \u001b[49m\u001b[43moptions\u001b[49m\u001b[38;5;241;43m=\u001b[39;49m\u001b[43moptions\u001b[49m\u001b[43m)\u001b[49m\n\u001b[1;32m    275\u001b[0m \u001b[38;5;28;01mif\u001b[39;00m info \u001b[38;5;241m!=\u001b[39m \u001b[38;5;241m0\u001b[39m:\n\u001b[1;32m    276\u001b[0m     warn(\u001b[38;5;124m\"\u001b[39m\u001b[38;5;124mMatrix is exactly singular\u001b[39m\u001b[38;5;124m\"\u001b[39m, MatrixRankWarning)\n",
      "\u001b[0;31mKeyboardInterrupt\u001b[0m: "
     ]
    }
   ],
   "source": [
    "allData, _ = recordConstantRegionSimulations(\n",
    "        profiles, \n",
    "        frameCount, \n",
    "        caseName, \n",
    "        [postRegionLength] + ([barrierWidth * 3] * 3) + [preRegionLength], \n",
    "        False, \n",
    "        constantRegionLabels = [\"Post\", \"3rdStair\", \"2ndStair\", \"1stStair\", \"Pre\"], \n",
    "        showBar = True, \n",
    "        showFPS = True, \n",
    "        showTotalTime = True\n",
    "    )"
   ]
  },
  {
   "cell_type": "code",
   "execution_count": null,
   "id": "2555c902-f42c-4612-b9de-fec6c7f4b479",
   "metadata": {},
   "outputs": [],
   "source": [
    "pd.DataFrame(allData).to_csv(str(Path.cwd() / caseName / (caseName + \".csv\")))"
   ]
  },
  {
   "cell_type": "code",
   "execution_count": null,
   "id": "6db51e96-793f-46f9-8318-ecc4708c0e92",
   "metadata": {},
   "outputs": [],
   "source": []
  },
  {
   "cell_type": "code",
   "execution_count": null,
   "id": "c5abaeaf-c0fa-4bbd-8bd6-760fef1b6d38",
   "metadata": {},
   "outputs": [],
   "source": []
  },
  {
   "cell_type": "code",
   "execution_count": null,
   "id": "07a279ff-1ad7-4699-a816-a6b620e108cb",
   "metadata": {},
   "outputs": [],
   "source": []
  },
  {
   "cell_type": "code",
   "execution_count": null,
   "id": "6a7020f4-e4fb-4539-a7f5-8c70fb0a8328",
   "metadata": {},
   "outputs": [],
   "source": []
  }
 ],
 "metadata": {
  "kernelspec": {
   "display_name": "Python 3 (ipykernel)",
   "language": "python",
   "name": "python3"
  },
  "language_info": {
   "codemirror_mode": {
    "name": "ipython",
    "version": 3
   },
   "file_extension": ".py",
   "mimetype": "text/x-python",
   "name": "python",
   "nbconvert_exporter": "python",
   "pygments_lexer": "ipython3",
   "version": "3.10.8"
  }
 },
 "nbformat": 4,
 "nbformat_minor": 5
}
