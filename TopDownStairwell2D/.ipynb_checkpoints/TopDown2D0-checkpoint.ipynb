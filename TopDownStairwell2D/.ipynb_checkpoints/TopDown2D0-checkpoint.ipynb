{
 "cells": [
  {
   "cell_type": "code",
   "execution_count": 1,
   "id": "df4329a4-ad5e-4816-8011-1ceb7b865644",
   "metadata": {},
   "outputs": [],
   "source": [
    "%matplotlib widget"
   ]
  },
  {
   "cell_type": "code",
   "execution_count": 2,
   "id": "9a374f44-e92a-4154-ba76-cf3a0c680900",
   "metadata": {},
   "outputs": [],
   "source": [
    "from functools import partial"
   ]
  },
  {
   "cell_type": "code",
   "execution_count": 3,
   "id": "cf6c7a59-133a-4874-9420-a262a3c9fe25",
   "metadata": {},
   "outputs": [],
   "source": [
    "from libschrodinger import *"
   ]
  },
  {
   "cell_type": "code",
   "execution_count": null,
   "id": "05eb3792-7b98-4750-a00f-3bf1202ab66b",
   "metadata": {},
   "outputs": [],
   "source": []
  },
  {
   "cell_type": "code",
   "execution_count": null,
   "id": "3e2b1a21-6c06-4807-95cf-e01bbf8d3ac7",
   "metadata": {},
   "outputs": [],
   "source": []
  },
  {
   "cell_type": "code",
   "execution_count": 4,
   "id": "1d6992dd-60eb-4133-b81c-b856977c126a",
   "metadata": {},
   "outputs": [],
   "source": [
    "import numpy as np"
   ]
  },
  {
   "cell_type": "code",
   "execution_count": 5,
   "id": "21e2b4de-716e-4538-a449-773ba81c9616",
   "metadata": {},
   "outputs": [],
   "source": [
    "import pandas as pd"
   ]
  },
  {
   "cell_type": "code",
   "execution_count": 6,
   "id": "79eb77a0-ef23-4c2b-b3f1-5be02b97169e",
   "metadata": {},
   "outputs": [],
   "source": [
    "from pathlib import Path"
   ]
  },
  {
   "cell_type": "code",
   "execution_count": 7,
   "id": "aab3ff36-19b0-45fa-a4b6-aa2aaf9cfd3b",
   "metadata": {},
   "outputs": [],
   "source": [
    "from typing import Dict"
   ]
  },
  {
   "cell_type": "code",
   "execution_count": null,
   "id": "cf42cc62-b295-4ac5-809a-85bdd59570e5",
   "metadata": {},
   "outputs": [],
   "source": []
  },
  {
   "cell_type": "code",
   "execution_count": 8,
   "id": "feaa0cb9-519f-4d02-8d2a-d0652f63c1af",
   "metadata": {},
   "outputs": [
    {
     "data": {
      "text/plain": [
       "[(1, 4, 7), (2, 5, 8), (3, 6, 9)]"
      ]
     },
     "execution_count": 8,
     "metadata": {},
     "output_type": "execute_result"
    }
   ],
   "source": [
    "list(zip([1,2,3],[4,5,6],[7,8,9]))"
   ]
  },
  {
   "cell_type": "code",
   "execution_count": 9,
   "id": "8dd9fc72-f2e2-4eb5-aa91-5efe9232143b",
   "metadata": {},
   "outputs": [],
   "source": [
    "def axisAlignedBlocks(\n",
    "            position : MeshGrid, \n",
    "            boxes : List[Rectangle2D], \n",
    "            potentialRatios : List[float], \n",
    "            potentialHeight : float, \n",
    "            math = np\n",
    "        ): \n",
    "    assert len(potentialRatios) == len(boxes)\n",
    "    potential = position.x * 0.0\n",
    "    #print(math.max(position.x), math.min(position.x))\n",
    "    xExtent = math.abs(math.max(position.x) - math.min(position.x))\n",
    "    yExtent = math.abs(math.max(position.y) - math.min(position.y))\n",
    "    xMinimum = math.min(position.x)\n",
    "    yMinimum = math.min(position.y)\n",
    "    boxXs = []\n",
    "    boxYs = []\n",
    "    boxWidths = []\n",
    "    boxHeights = []\n",
    "    for box in boxes: \n",
    "        boxXs.append(box.x)\n",
    "        boxYs.append(box.y)\n",
    "        boxWidths.append(box.width)\n",
    "        boxHeights.append(box.height)\n",
    "    boxXs = math.array(boxXs)\n",
    "    boxYs = math.array(boxYs)\n",
    "    boxHeights = math.array(boxHeights)\n",
    "    boxWidths = math.array(boxWidths)\n",
    "    potentialRatios = math.array(potentialRatios)\n",
    "    decomposed = zip(boxXs, boxYs, boxWidths, boxHeights, potentialRatios)\n",
    "    for boxX, boxY, boxWidth, boxHeight, potentialRatio in decomposed: \n",
    "        xUpperBound : float = xMinimum + (xExtent * (boxX + boxWidth))\n",
    "        yUpperBound : float = yMinimum + (yExtent * (boxY + boxHeight))\n",
    "        xLowerBound : float = xMinimum + (xExtent * boxX)\n",
    "        yLowerBound : float = yMinimum + (yExtent * boxY)\n",
    "        xCondition = (position.x >= xLowerBound) & (position.x <= xUpperBound)\n",
    "        yCondition = (position.y >= yLowerBound) & (position.y <= yUpperBound)\n",
    "        #print(xLowerBound, xUpperBound, yUpperBound, yLowerBound)\n",
    "        potential = math.where(xCondition & yCondition, potentialRatio * potentialHeight, potential)\n",
    "    return potential"
   ]
  },
  {
   "cell_type": "code",
   "execution_count": 10,
   "id": "aad5f901-c59e-4c05-9566-2880829f0011",
   "metadata": {},
   "outputs": [],
   "source": [
    "caseName : str = \"\""
   ]
  },
  {
   "cell_type": "code",
   "execution_count": 11,
   "id": "6d98a8fe-d452-4992-971e-3ad99963a5c7",
   "metadata": {},
   "outputs": [
    {
     "name": "stdout",
     "output_type": "stream",
     "text": [
      "Default Packet Start X:  0.85\n",
      "Point Count:  60\n",
      "Post Region Length:  0.3\n",
      "Intra Region Length:  0.4\n",
      "Pre Region Length:  0.3\n",
      "Barrier Length:  0.13333333333333333\n",
      "Total Length:  1.0\n",
      "Total Length Ratios:  1.0\n"
     ]
    }
   ],
   "source": [
    "math = np\n",
    "spatialStep : float = .02\n",
    "length : float = 1\n",
    "temporalStep : float = (spatialStep ** 2) / 4\n",
    "courantNumber : float = 1.0\n",
    "minimumPointCount : int = int(length / spatialStep)\n",
    "pointCount : int = 60\n",
    "assert(pointCount >= minimumPointCount)\n",
    "potentialHeight : float = 200\n",
    "preRegionLength = .3\n",
    "preRegionScalar = 2\n",
    "packetStandardDeviation : float = preRegionLength / preRegionScalar\n",
    "defaultPacketStartX : float = 1 - ((preRegionScalar / 2) * packetStandardDeviation)\n",
    "print(\"Default Packet Start X: \", defaultPacketStartX)\n",
    "packetStartX : float = .5\n",
    "packetStartY : float = .85\n",
    "packetWaveNumber : float = 13 * np.pi\n",
    "barrierCount : int = 3\n",
    "postRegionLength = .3\n",
    "intraRegionLength : float = 1 - (postRegionLength + preRegionLength)\n",
    "barrierWidth : float = intraRegionLength / barrierCount\n",
    "constantPotentialLengthRatios : List[float] = [postRegionLength] \\\n",
    "        + ([barrierWidth] * barrierCount) \\\n",
    "        + [preRegionLength]\n",
    "print(\"Point Count: \", pointCount)\n",
    "print(\"Post Region Length: \", postRegionLength)\n",
    "print(\"Intra Region Length: \", intraRegionLength)\n",
    "print(\"Pre Region Length: \", preRegionLength)\n",
    "print(\"Barrier Length: \", barrierWidth)\n",
    "print(\"Total Length: \", intraRegionLength + postRegionLength + preRegionLength)\n",
    "print(\"Total Length Ratios: \", np.sum(constantPotentialLengthRatios))\n",
    "frameCount : int = 650\n",
    "backend = \"numpy\""
   ]
  },
  {
   "cell_type": "code",
   "execution_count": null,
   "id": "801d7cb7-16e7-4c41-97a3-412503ee2fdf",
   "metadata": {},
   "outputs": [],
   "source": []
  },
  {
   "cell_type": "code",
   "execution_count": 12,
   "id": "f158a1d1-bd32-4430-b6a9-a0d31387957a",
   "metadata": {},
   "outputs": [],
   "source": [
    "wavePacketFunction = lambda position : makeWavePacket(\n",
    "            position, \n",
    "            packetStartX * length, \n",
    "            packetStartY * length, \n",
    "            spatialStep, \n",
    "            packetStandardDeviation, \n",
    "            packetWaveNumber, \n",
    "            DimensionIndex.Y, \n",
    "            math\n",
    "        )"
   ]
  },
  {
   "cell_type": "code",
   "execution_count": null,
   "id": "534d56f6-bca2-49af-85a8-0eb48184cb67",
   "metadata": {},
   "outputs": [],
   "source": []
  },
  {
   "cell_type": "code",
   "execution_count": null,
   "id": "74eb44d2-101a-4678-af9e-7f8a7fa3acd4",
   "metadata": {},
   "outputs": [],
   "source": []
  },
  {
   "cell_type": "code",
   "execution_count": null,
   "id": "e35bf11f-bea6-4891-a624-8466f1bcf552",
   "metadata": {},
   "outputs": [],
   "source": []
  },
  {
   "cell_type": "code",
   "execution_count": 13,
   "id": "a9c618a2-7f5a-450e-b011-d64ef7663ea3",
   "metadata": {},
   "outputs": [],
   "source": [
    "potentials : List[List[float]] = [\n",
    "        #[0, 1, 1, 1, 0], \n",
    "        [0, 1, 2 / 3, 1 / 3, 0], \n",
    "        [0, 1, 1, 1, 0], \n",
    "        #[0, 1 / 3, 2 / 3, 1, 0], \n",
    "        #[0, 2 / 3, 1 / 3, 1, 0], \n",
    "        #[0, 1, 1 / 3, 2 / 3, 0], \n",
    "        #[0, 0, 0, 0, 0]\n",
    "    ]"
   ]
  },
  {
   "cell_type": "code",
   "execution_count": 14,
   "id": "588dd44a-dd55-49f2-a3a2-3cc540a37674",
   "metadata": {},
   "outputs": [],
   "source": [
    "boxHeight : float = .2\n",
    "boxYPosition : float = 0.0\n",
    "totalLength : float = 0.0\n",
    "constantBoxes : List[Rectangle2D] = []\n",
    "for boxLength in constantPotentialLengthRatios: \n",
    "    constantBoxes.append(Rectangle2D(totalLength, boxYPosition, boxLength, boxHeight))\n",
    "    totalLength += boxLength"
   ]
  },
  {
   "cell_type": "code",
   "execution_count": 15,
   "id": "b169e4f0-87f4-426d-956b-9f00f682f6a2",
   "metadata": {},
   "outputs": [
    {
     "data": {
      "text/plain": [
       "[Rectangle2D(x=0.0, y=0.0, width=0.3, height=0.2),\n",
       " Rectangle2D(x=0.3, y=0.0, width=0.13333333333333333, height=0.2),\n",
       " Rectangle2D(x=0.43333333333333335, y=0.0, width=0.13333333333333333, height=0.2),\n",
       " Rectangle2D(x=0.5666666666666667, y=0.0, width=0.13333333333333333, height=0.2),\n",
       " Rectangle2D(x=0.7, y=0.0, width=0.3, height=0.2)]"
      ]
     },
     "execution_count": 15,
     "metadata": {},
     "output_type": "execute_result"
    }
   ],
   "source": [
    "constantBoxes "
   ]
  },
  {
   "cell_type": "code",
   "execution_count": 16,
   "id": "b992a6c4-d973-44e8-9cb7-eac09a515c6d",
   "metadata": {},
   "outputs": [],
   "source": [
    "testGrid : MeshGrid = makeLinspaceGrid(pointCount, length, 2, False, float, math)"
   ]
  },
  {
   "cell_type": "code",
   "execution_count": 17,
   "id": "9d01765b-6938-41b6-8150-c6a93a8a64f3",
   "metadata": {},
   "outputs": [
    {
     "data": {
      "text/plain": [
       "1"
      ]
     },
     "execution_count": 17,
     "metadata": {},
     "output_type": "execute_result"
    }
   ],
   "source": [
    "length"
   ]
  },
  {
   "cell_type": "code",
   "execution_count": 18,
   "id": "307b4aa8-6239-4f7c-9bc9-f664ab263355",
   "metadata": {},
   "outputs": [
    {
     "name": "stdout",
     "output_type": "stream",
     "text": [
      "1.0\n"
     ]
    }
   ],
   "source": [
    "print(math.max(testGrid.x))"
   ]
  },
  {
   "cell_type": "code",
   "execution_count": 31,
   "id": "18e8f506-8359-4395-ae85-f1776320fff5",
   "metadata": {},
   "outputs": [
    {
     "data": {
      "text/plain": [
       "[]"
      ]
     },
     "execution_count": 31,
     "metadata": {},
     "output_type": "execute_result"
    },
    {
     "data": {
      "application/vnd.jupyter.widget-view+json": {
       "model_id": "e462de898f5346e59de5e5154679c37e",
       "version_major": 2,
       "version_minor": 0
      },
      "image/png": "[encoded data removed]",
      "text/html": [
       "\n",
       "            <div style=\"display: inline-block;\">\n",
       "                <div class=\"jupyter-widgets widget-label\" style=\"text-align: center;\">\n",
       "                    Figure\n",
       "                </div>\n",
       "                <img src='data:image/png;base64,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' width=640.0/>\n",
       "            </div>\n",
       "        "
      ],
      "text/plain": [
       "Canvas(toolbar=Toolbar(toolitems=[('Home', 'Reset original view', 'home', 'home'), ('Back', 'Back to previous …"
      ]
     },
     "metadata": {},
     "output_type": "display_data"
    }
   ],
   "source": [
    "potential = axisAlignedBlocks(testGrid, constantBoxes, potentials[0], potentialHeight, math)\n",
    "plt.figure()\n",
    "plt.imshow(potential)\n",
    "plt.plot()"
   ]
  },
  {
   "cell_type": "code",
   "execution_count": 32,
   "id": "badbf57d-1627-410e-8f28-d9c51a65900c",
   "metadata": {},
   "outputs": [
    {
     "data": {
      "text/plain": [
       "{0.0: 36, 66.66666666666666: 8, 133.33333333333331: 8, 200.0: 8}"
      ]
     },
     "execution_count": 32,
     "metadata": {},
     "output_type": "execute_result"
    }
   ],
   "source": [
    "uniqueValues = {}\n",
    "for value in potential[0]: \n",
    "    if value in uniqueValues: \n",
    "        uniqueValues[value] += 1\n",
    "    else: \n",
    "        uniqueValues[value] = 1\n",
    "uniqueValues"
   ]
  },
  {
   "cell_type": "code",
   "execution_count": null,
   "id": "92f5fd37-5500-4fb8-8a1e-643655121533",
   "metadata": {},
   "outputs": [],
   "source": []
  },
  {
   "cell_type": "code",
   "execution_count": null,
   "id": "6b1f2292-9701-4512-ad46-1764114ec8e0",
   "metadata": {},
   "outputs": [],
   "source": [
    "#assert(((barrierWidth * pointCount) % barrierCount) == 0)"
   ]
  },
  {
   "cell_type": "code",
   "execution_count": 20,
   "id": "388cc0ff-35a5-405b-b7e8-f740abf43347",
   "metadata": {},
   "outputs": [
    {
     "name": "stdout",
     "output_type": "stream",
     "text": [
      "[0, 1, 0.6666666666666666, 0.3333333333333333, 0]\n",
      "[0, 0.3333333333333333, 0.6666666666666666, 1, 0]\n"
     ]
    }
   ],
   "source": [
    "print(potentials[0])\n",
    "potentials[0].reverse()\n",
    "print(potentials[0])"
   ]
  },
  {
   "cell_type": "code",
   "execution_count": 21,
   "id": "5f08f234-17f0-43cd-977b-92196e55c444",
   "metadata": {},
   "outputs": [],
   "source": [
    "profiles : List[SimulationProfile] = constantSimulationProfiles(\n",
    "        wavePacketFunction, \n",
    "        spatialStep, \n",
    "        temporalStep, \n",
    "        length, \n",
    "        constantBoxes, \n",
    "        potentials, \n",
    "        potentialHeight, \n",
    "        pointCount, \n",
    "        True, \n",
    "        edgeBound = True, \n",
    "        constantPotentialFunction = axisAlignedBlocks\n",
    "    )"
   ]
  },
  {
   "cell_type": "code",
   "execution_count": null,
   "id": "23fa7f2c-1cf6-4a2c-b64d-aa924106d604",
   "metadata": {},
   "outputs": [],
   "source": []
  },
  {
   "cell_type": "code",
   "execution_count": 22,
   "id": "f71aedf2-77ef-4338-9e0d-fa727733acce",
   "metadata": {},
   "outputs": [
    {
     "data": {
      "text/plain": [
       "[0.3, 0.13333333333333333, 0.13333333333333333, 0.13333333333333333, 0.3]"
      ]
     },
     "execution_count": 22,
     "metadata": {},
     "output_type": "execute_result"
    }
   ],
   "source": [
    "constantPotentialLengthRatios"
   ]
  },
  {
   "cell_type": "code",
   "execution_count": null,
   "id": "1b93128f-6f5a-464b-bccc-42a43a67c5d7",
   "metadata": {},
   "outputs": [],
   "source": []
  },
  {
   "cell_type": "code",
   "execution_count": 23,
   "id": "8e3dc6f5-9c5f-4a21-9037-38b141b2d6b9",
   "metadata": {
    "tags": []
   },
   "outputs": [
    {
     "name": "stdout",
     "output_type": "stream",
     "text": [
      "[====================================================================================================]\n",
      "[----------------------------------------------------------------------------------------------------]\n",
      "Total Time:  9.101977553014876\n",
      "Frames Per Second:  87.33234864365188\n",
      "Saving Video of Post\n",
      "Saving Video of 3rdStair\n",
      "Saving Video of 2ndStair\n",
      "Saving Video of 1stStair\n",
      "Saving Video of Pre\n",
      "[====================================================================================================]\n",
      "[----------------------------------------------------------------------------------------------------]\n",
      "Total Time:  6.451822021976113\n",
      "Frames Per Second:  85.1293786294307\n",
      "Saving Video of Post\n",
      "Saving Video of 3rdStair\n",
      "Saving Video of 2ndStair\n",
      "Saving Video of 1stStair\n",
      "Saving Video of Pre\n",
      "[====================================================================================================]\n",
      "[----------------------------------------------------------------------------------------------------]\n",
      "Total Time:  6.2206225259869825\n",
      "Frames Per Second:  88.58634508420123\n",
      "Saving Video of Post\n",
      "Saving Video of 3rdStair\n",
      "Saving Video of 2ndStair\n",
      "Saving Video of 1stStair\n",
      "Saving Video of Pre\n"
     ]
    }
   ],
   "source": [
    "allData, simulations,  _ = recordConstantRegionSimulations(\n",
    "        profiles, \n",
    "        frameCount, \n",
    "        caseName, \n",
    "        constantPotentialLengthRatios, \n",
    "        False, \n",
    "        constantRegionLabels = [\"Post\", \"3rdStair\", \"2ndStair\", \"1stStair\", \"Pre\"], \n",
    "        showBar = True, \n",
    "        showFPS = True, \n",
    "        showTotalTime = True\n",
    "    )"
   ]
  },
  {
   "cell_type": "code",
   "execution_count": 24,
   "id": "2555c902-f42c-4612-b9de-fec6c7f4b479",
   "metadata": {},
   "outputs": [],
   "source": [
    "pd.DataFrame(allData).to_csv(str(Path.cwd() / caseName / (caseName + \".csv\")))"
   ]
  },
  {
   "cell_type": "code",
   "execution_count": null,
   "id": "6db51e96-793f-46f9-8318-ecc4708c0e92",
   "metadata": {},
   "outputs": [],
   "source": []
  },
  {
   "cell_type": "code",
   "execution_count": null,
   "id": "c5abaeaf-c0fa-4bbd-8bd6-760fef1b6d38",
   "metadata": {},
   "outputs": [],
   "source": []
  },
  {
   "cell_type": "code",
   "execution_count": null,
   "id": "07a279ff-1ad7-4699-a816-a6b620e108cb",
   "metadata": {},
   "outputs": [],
   "source": []
  },
  {
   "cell_type": "code",
   "execution_count": null,
   "id": "6a7020f4-e4fb-4539-a7f5-8c70fb0a8328",
   "metadata": {},
   "outputs": [],
   "source": []
  },
  {
   "cell_type": "code",
   "execution_count": null,
   "id": "13c3d6fa-73b8-44f6-9f9f-13d51b222411",
   "metadata": {},
   "outputs": [],
   "source": []
  },
  {
   "cell_type": "code",
   "execution_count": null,
   "id": "aa6f7c85-2c14-4f0e-912f-720bc3cac58d",
   "metadata": {},
   "outputs": [],
   "source": []
  },
  {
   "cell_type": "code",
   "execution_count": null,
   "id": "0301eb83-d9b1-4329-9adb-e2a9a969d7cb",
   "metadata": {},
   "outputs": [],
   "source": []
  },
  {
   "cell_type": "code",
   "execution_count": null,
   "id": "a1d662fd-7433-4e8a-883d-b604cb6f14b5",
   "metadata": {},
   "outputs": [],
   "source": []
  }
 ],
 "metadata": {
  "kernelspec": {
   "display_name": "Python 3 (ipykernel)",
   "language": "python",
   "name": "python3"
  },
  "language_info": {
   "codemirror_mode": {
    "name": "ipython",
    "version": 3
   },
   "file_extension": ".py",
   "mimetype": "text/x-python",
   "name": "python",
   "nbconvert_exporter": "python",
   "pygments_lexer": "ipython3",
   "version": "3.10.8"
  }
 },
 "nbformat": 4,
 "nbformat_minor": 5
}
