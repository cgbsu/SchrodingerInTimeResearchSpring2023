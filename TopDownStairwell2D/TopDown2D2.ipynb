{
 "cells": [
  {
   "cell_type": "code",
   "execution_count": 1,
   "id": "df4329a4-ad5e-4816-8011-1ceb7b865644",
   "metadata": {},
   "outputs": [],
   "source": [
    "%matplotlib widget"
   ]
  },
  {
   "cell_type": "code",
   "execution_count": 2,
   "id": "9a374f44-e92a-4154-ba76-cf3a0c680900",
   "metadata": {},
   "outputs": [],
   "source": [
    "from functools import partial"
   ]
  },
  {
   "cell_type": "code",
   "execution_count": 3,
   "id": "cf6c7a59-133a-4874-9420-a262a3c9fe25",
   "metadata": {},
   "outputs": [],
   "source": [
    "from libschrodinger import *"
   ]
  },
  {
   "cell_type": "code",
   "execution_count": null,
   "id": "05eb3792-7b98-4750-a00f-3bf1202ab66b",
   "metadata": {},
   "outputs": [],
   "source": []
  },
  {
   "cell_type": "code",
   "execution_count": null,
   "id": "3e2b1a21-6c06-4807-95cf-e01bbf8d3ac7",
   "metadata": {},
   "outputs": [],
   "source": []
  },
  {
   "cell_type": "code",
   "execution_count": 4,
   "id": "1d6992dd-60eb-4133-b81c-b856977c126a",
   "metadata": {},
   "outputs": [],
   "source": [
    "import numpy as np"
   ]
  },
  {
   "cell_type": "code",
   "execution_count": 5,
   "id": "21e2b4de-716e-4538-a449-773ba81c9616",
   "metadata": {},
   "outputs": [],
   "source": [
    "import pandas as pd"
   ]
  },
  {
   "cell_type": "code",
   "execution_count": 6,
   "id": "79eb77a0-ef23-4c2b-b3f1-5be02b97169e",
   "metadata": {},
   "outputs": [],
   "source": [
    "from pathlib import Path"
   ]
  },
  {
   "cell_type": "code",
   "execution_count": 7,
   "id": "aab3ff36-19b0-45fa-a4b6-aa2aaf9cfd3b",
   "metadata": {},
   "outputs": [],
   "source": [
    "from typing import Dict"
   ]
  },
  {
   "cell_type": "code",
   "execution_count": null,
   "id": "cf42cc62-b295-4ac5-809a-85bdd59570e5",
   "metadata": {},
   "outputs": [],
   "source": []
  },
  {
   "cell_type": "code",
   "execution_count": 8,
   "id": "aad5f901-c59e-4c05-9566-2880829f0011",
   "metadata": {},
   "outputs": [],
   "source": [
    "caseName : str = \"top_down_stair_2d_2\""
   ]
  },
  {
   "cell_type": "code",
   "execution_count": null,
   "id": "5e06748d-05a2-4c95-b51a-f2329f04c603",
   "metadata": {},
   "outputs": [],
   "source": []
  },
  {
   "cell_type": "code",
   "execution_count": 9,
   "id": "6d98a8fe-d452-4992-971e-3ad99963a5c7",
   "metadata": {},
   "outputs": [
    {
     "name": "stdout",
     "output_type": "stream",
     "text": [
      "Default Packet Start X:  0.85\n",
      "Point Count:  60\n",
      "Post Region Length:  0.3\n",
      "Intra Region Length:  0.4\n",
      "Pre Region Length:  0.3\n",
      "Barrier Length:  0.13333333333333333\n",
      "Total Length:  1.0\n",
      "Total Length Ratios:  1.0\n",
      "Barrier Pixels:  24\n"
     ]
    }
   ],
   "source": [
    "math = np\n",
    "spatialStep : float = .02\n",
    "length : float = 1\n",
    "temporalStep : float = (spatialStep ** 2) / 4\n",
    "courantNumber : float = 1.0\n",
    "minimumPointCount : int = int(length / spatialStep)\n",
    "pointCount : int = 60\n",
    "assert(pointCount >= minimumPointCount)\n",
    "potentialHeight : float = 200\n",
    "preRegionLength = .3\n",
    "preRegionScalar = 2\n",
    "packetStandardDeviation : float = preRegionLength / preRegionScalar\n",
    "defaultPacketStartX : float = 1 - ((preRegionScalar / 2) * packetStandardDeviation)\n",
    "print(\"Default Packet Start X: \", defaultPacketStartX)\n",
    "packetStartX : float = .5\n",
    "packetStartY : float = .7\n",
    "packetWaveNumber : float = 3 * np.pi\n",
    "barrierCount : int = 3\n",
    "postRegionLength = .3\n",
    "intraRegionLength : float = 1 - (postRegionLength + preRegionLength)\n",
    "barrierWidth : float = intraRegionLength / barrierCount\n",
    "constantPotentialLengthRatios : List[float] = [postRegionLength] \\\n",
    "        + ([barrierWidth] * barrierCount) \\\n",
    "        + [preRegionLength]\n",
    "print(\"Point Count: \", pointCount)\n",
    "print(\"Post Region Length: \", postRegionLength)\n",
    "print(\"Intra Region Length: \", intraRegionLength)\n",
    "print(\"Pre Region Length: \", preRegionLength)\n",
    "print(\"Barrier Length: \", barrierWidth)\n",
    "print(\"Total Length: \", intraRegionLength + postRegionLength + preRegionLength)\n",
    "print(\"Total Length Ratios: \", np.sum(constantPotentialLengthRatios))\n",
    "barrierPixels : float = (barrierWidth * barrierCount * pointCount)\n",
    "assert((barrierPixels - int(barrierPixels) < math.finfo(float).eps))\n",
    "barrierPixels : int = int(barrierPixels)\n",
    "print(\"Barrier Pixels: \", barrierPixels)\n",
    "frameCount : int = 650\n",
    "backend = \"numpy\""
   ]
  },
  {
   "cell_type": "code",
   "execution_count": null,
   "id": "801d7cb7-16e7-4c41-97a3-412503ee2fdf",
   "metadata": {},
   "outputs": [],
   "source": []
  },
  {
   "cell_type": "code",
   "execution_count": 10,
   "id": "f158a1d1-bd32-4430-b6a9-a0d31387957a",
   "metadata": {},
   "outputs": [],
   "source": [
    "wavePacketFunction = lambda position : makeWavePacket(\n",
    "            position, \n",
    "            packetStartX * length, \n",
    "            packetStartY * length, \n",
    "            spatialStep, \n",
    "            packetStandardDeviation, \n",
    "            packetWaveNumber, \n",
    "            DimensionIndex.Y, \n",
    "            math\n",
    "        )"
   ]
  },
  {
   "cell_type": "code",
   "execution_count": null,
   "id": "534d56f6-bca2-49af-85a8-0eb48184cb67",
   "metadata": {},
   "outputs": [],
   "source": []
  },
  {
   "cell_type": "code",
   "execution_count": 11,
   "id": "a9c618a2-7f5a-450e-b011-d64ef7663ea3",
   "metadata": {},
   "outputs": [],
   "source": [
    "potentials : List[List[float]] = [\n",
    "        #[0, 1, 1, 1, 0], \n",
    "        [0, 1, 2 / 3, 1 / 3, 0], \n",
    "        [0, 1, 1, 1, 0], \n",
    "        #[0, 1 / 3, 2 / 3, 1, 0], \n",
    "        #[0, 2 / 3, 1 / 3, 1, 0], \n",
    "        #[0, 1, 1 / 3, 2 / 3, 0], \n",
    "        #[0, 0, 0, 0, 0]\n",
    "    ]"
   ]
  },
  {
   "cell_type": "code",
   "execution_count": 12,
   "id": "588dd44a-dd55-49f2-a3a2-3cc540a37674",
   "metadata": {},
   "outputs": [],
   "source": [
    "boxHeight : float = .2\n",
    "boxYPosition : float = 0.0\n",
    "totalLength : float = 0.0\n",
    "constantBoxes : List[Rectangle2D] = []\n",
    "for boxLength in constantPotentialLengthRatios: \n",
    "    constantBoxes.append(Rectangle2D(totalLength, boxYPosition, boxLength, boxHeight))\n",
    "    totalLength += boxLength"
   ]
  },
  {
   "cell_type": "code",
   "execution_count": 13,
   "id": "b169e4f0-87f4-426d-956b-9f00f682f6a2",
   "metadata": {},
   "outputs": [
    {
     "data": {
      "text/plain": [
       "[Rectangle2D(x=0.0, y=0.0, width=0.3, height=0.2),\n",
       " Rectangle2D(x=0.3, y=0.0, width=0.13333333333333333, height=0.2),\n",
       " Rectangle2D(x=0.43333333333333335, y=0.0, width=0.13333333333333333, height=0.2),\n",
       " Rectangle2D(x=0.5666666666666667, y=0.0, width=0.13333333333333333, height=0.2),\n",
       " Rectangle2D(x=0.7, y=0.0, width=0.3, height=0.2)]"
      ]
     },
     "execution_count": 13,
     "metadata": {},
     "output_type": "execute_result"
    }
   ],
   "source": [
    "constantBoxes "
   ]
  },
  {
   "cell_type": "code",
   "execution_count": null,
   "id": "6b1f2292-9701-4512-ad46-1764114ec8e0",
   "metadata": {},
   "outputs": [],
   "source": []
  },
  {
   "cell_type": "code",
   "execution_count": 14,
   "id": "388cc0ff-35a5-405b-b7e8-f740abf43347",
   "metadata": {},
   "outputs": [
    {
     "name": "stdout",
     "output_type": "stream",
     "text": [
      "[0, 1, 0.6666666666666666, 0.3333333333333333, 0]\n",
      "[0, 0.3333333333333333, 0.6666666666666666, 1, 0]\n"
     ]
    }
   ],
   "source": [
    "print(potentials[0])\n",
    "potentials[0].reverse()\n",
    "print(potentials[0])"
   ]
  },
  {
   "cell_type": "code",
   "execution_count": 15,
   "id": "5f08f234-17f0-43cd-977b-92196e55c444",
   "metadata": {},
   "outputs": [],
   "source": [
    "profiles : List[SimulationProfile] = constantSimulationProfiles(\n",
    "        wavePacketFunction, \n",
    "        spatialStep, \n",
    "        temporalStep, \n",
    "        length, \n",
    "        constantBoxes, \n",
    "        potentials, \n",
    "        potentialHeight, \n",
    "        pointCount, \n",
    "        True, \n",
    "        edgeBound = True, \n",
    "        constantPotentialFunction = axisAlignedBlocks\n",
    "    )"
   ]
  },
  {
   "cell_type": "code",
   "execution_count": null,
   "id": "23fa7f2c-1cf6-4a2c-b64d-aa924106d604",
   "metadata": {},
   "outputs": [],
   "source": []
  },
  {
   "cell_type": "code",
   "execution_count": 16,
   "id": "f71aedf2-77ef-4338-9e0d-fa727733acce",
   "metadata": {},
   "outputs": [
    {
     "data": {
      "text/plain": [
       "[0.3, 0.13333333333333333, 0.13333333333333333, 0.13333333333333333, 0.3]"
      ]
     },
     "execution_count": 16,
     "metadata": {},
     "output_type": "execute_result"
    }
   ],
   "source": [
    "constantPotentialLengthRatios"
   ]
  },
  {
   "cell_type": "code",
   "execution_count": null,
   "id": "1b93128f-6f5a-464b-bccc-42a43a67c5d7",
   "metadata": {},
   "outputs": [],
   "source": []
  },
  {
   "cell_type": "code",
   "execution_count": 17,
   "id": "8e3dc6f5-9c5f-4a21-9037-38b141b2d6b9",
   "metadata": {
    "tags": []
   },
   "outputs": [
    {
     "name": "stdout",
     "output_type": "stream",
     "text": [
      "[====================================================================================================]\n",
      "[----------------------------------------------------------------------------------------------------]\n",
      "Total Time:  9.400301226007286\n",
      "Frames Per Second:  77.28348544470406\n",
      "Saving Video of Post\n",
      "Saving Video of 3rdStair\n",
      "Saving Video of 2ndStair\n",
      "Saving Video of 1stStair\n",
      "Saving Video of Pre\n",
      "[====================================================================================================]\n",
      "[----------------------------------------------------------------------------------------------------]\n",
      "Total Time:  6.205621962988516\n",
      "Frames Per Second:  87.64791067566301\n",
      "Saving Video of Post\n",
      "Saving Video of 3rdStair\n",
      "Saving Video of 2ndStair\n",
      "Saving Video of 1stStair\n",
      "Saving Video of Pre\n",
      "[====================================================================================================]\n",
      "[----------------------------------------------------------------------------------------------------]\n",
      "Total Time:  6.207337122003082\n",
      "Frames Per Second:  88.79428794431827\n",
      "Saving Video of Post\n",
      "Saving Video of 3rdStair\n",
      "Saving Video of 2ndStair\n",
      "Saving Video of 1stStair\n",
      "Saving Video of Pre\n"
     ]
    }
   ],
   "source": [
    "allData, simulations,  _ = recordConstantRegionSimulations(\n",
    "        profiles, \n",
    "        frameCount, \n",
    "        caseName, \n",
    "        constantPotentialLengthRatios, \n",
    "        False, \n",
    "        constantRegionLabels = [\"Post\", \"3rdStair\", \"2ndStair\", \"1stStair\", \"Pre\"], \n",
    "        showBar = True, \n",
    "        showFPS = True, \n",
    "        showTotalTime = True\n",
    "    )"
   ]
  },
  {
   "cell_type": "code",
   "execution_count": 18,
   "id": "2555c902-f42c-4612-b9de-fec6c7f4b479",
   "metadata": {},
   "outputs": [],
   "source": [
    "pd.DataFrame(allData).to_csv(str(Path.cwd() / caseName / (caseName + \".csv\")))"
   ]
  },
  {
   "cell_type": "code",
   "execution_count": null,
   "id": "6db51e96-793f-46f9-8318-ecc4708c0e92",
   "metadata": {},
   "outputs": [],
   "source": []
  },
  {
   "cell_type": "code",
   "execution_count": null,
   "id": "c5abaeaf-c0fa-4bbd-8bd6-760fef1b6d38",
   "metadata": {},
   "outputs": [],
   "source": []
  },
  {
   "cell_type": "code",
   "execution_count": null,
   "id": "07a279ff-1ad7-4699-a816-a6b620e108cb",
   "metadata": {},
   "outputs": [],
   "source": []
  },
  {
   "cell_type": "code",
   "execution_count": null,
   "id": "6a7020f4-e4fb-4539-a7f5-8c70fb0a8328",
   "metadata": {},
   "outputs": [],
   "source": []
  },
  {
   "cell_type": "code",
   "execution_count": null,
   "id": "13c3d6fa-73b8-44f6-9f9f-13d51b222411",
   "metadata": {},
   "outputs": [],
   "source": []
  },
  {
   "cell_type": "code",
   "execution_count": null,
   "id": "aa6f7c85-2c14-4f0e-912f-720bc3cac58d",
   "metadata": {},
   "outputs": [],
   "source": []
  },
  {
   "cell_type": "code",
   "execution_count": null,
   "id": "0301eb83-d9b1-4329-9adb-e2a9a969d7cb",
   "metadata": {},
   "outputs": [],
   "source": []
  },
  {
   "cell_type": "code",
   "execution_count": null,
   "id": "a1d662fd-7433-4e8a-883d-b604cb6f14b5",
   "metadata": {},
   "outputs": [],
   "source": []
  }
 ],
 "metadata": {
  "kernelspec": {
   "display_name": "Python 3 (ipykernel)",
   "language": "python",
   "name": "python3"
  },
  "language_info": {
   "codemirror_mode": {
    "name": "ipython",
    "version": 3
   },
   "file_extension": ".py",
   "mimetype": "text/x-python",
   "name": "python",
   "nbconvert_exporter": "python",
   "pygments_lexer": "ipython3",
   "version": "3.10.8"
  }
 },
 "nbformat": 4,
 "nbformat_minor": 5
}
