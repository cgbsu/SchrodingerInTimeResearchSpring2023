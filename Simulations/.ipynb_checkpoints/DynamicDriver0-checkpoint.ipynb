{
 "cells": [
  {
   "cell_type": "code",
   "execution_count": 1,
   "id": "df4329a4-ad5e-4816-8011-1ceb7b865644",
   "metadata": {},
   "outputs": [],
   "source": [
    "%matplotlib widget"
   ]
  },
  {
   "cell_type": "code",
   "execution_count": 2,
   "id": "cf6c7a59-133a-4874-9420-a262a3c9fe25",
   "metadata": {},
   "outputs": [],
   "source": [
    "from libschrodinger.crank_nicolson_2d import *"
   ]
  },
  {
   "cell_type": "code",
   "execution_count": 3,
   "id": "1d6992dd-60eb-4133-b81c-b856977c126a",
   "metadata": {},
   "outputs": [],
   "source": [
    "import numpy as np"
   ]
  },
  {
   "cell_type": "code",
   "execution_count": 4,
   "id": "aad5f901-c59e-4c05-9566-2880829f0011",
   "metadata": {},
   "outputs": [],
   "source": [
    "caseName : str = \"DynamicStairwell0\""
   ]
  },
  {
   "cell_type": "code",
   "execution_count": 5,
   "id": "d8aed580-5d0d-48c6-b4fb-dab8810208db",
   "metadata": {},
   "outputs": [],
   "source": [
    "def tunnelCase(position, where, width, potential = 1): \n",
    "    return np.where(\n",
    "            (position.x > where) & (position.x < (where + width)), \n",
    "            potential, \n",
    "            0, \n",
    "        )"
   ]
  },
  {
   "cell_type": "code",
   "execution_count": 6,
   "id": "0eed4492-a1f2-4a31-895c-8208f70e6db6",
   "metadata": {},
   "outputs": [],
   "source": [
    "def hydrogenAtom(position, potential, bottom = 1): \n",
    "    return potential / np.sqrt(\n",
    "            (position.x / 2) ** 2 \\\n",
    "            + (position.y / 2) ** 2 \\\n",
    "            + bottom ** 2 \\\n",
    "        )"
   ]
  },
  {
   "cell_type": "code",
   "execution_count": 7,
   "id": "59f1f8d4-5cbd-4996-bd44-570850050d96",
   "metadata": {},
   "outputs": [],
   "source": [
    "def doubleSlit(position, where, width, slitHeight, gapHeight, potential = 1, math=np): \n",
    "    totalY = math.max(position.y)\n",
    "    return math.where(\n",
    "            (position.x > where) & (position.x < (where + width)) \n",
    "                    & ( \\\n",
    "                            (position.y > ((totalY / 2) + (gapHeight + slitHeight))) \\\n",
    "                            | (position.y < ((totalY / 2) - (gapHeight + slitHeight))) \\\n",
    "                            | ( \\\n",
    "                               (position.y > ((totalY / 2) - gapHeight)) \\\n",
    "                               & (position.y < ((totalY / 2) + gapHeight)) \\\n",
    "                              )\n",
    "                      ), \n",
    "            potential, \n",
    "            0, \n",
    "        )"
   ]
  },
  {
   "cell_type": "code",
   "execution_count": 8,
   "id": "d7055a0c-6136-4835-88f7-d0e080b4d05c",
   "metadata": {},
   "outputs": [],
   "source": [
    "def constantPotentials(position, lengthRatios, potentialRatios, basePotential, math = np, epsilon = 1e-16): \n",
    "    regionCount = len(lengthRatios)\n",
    "    assert regionCount == len(potentialRatios)\n",
    "    assert (math.sum(lengthRatios) - 1.0) < epsilon\n",
    "    potential = position.x * 0.0\n",
    "    basePosition = math.min(position.x)\n",
    "    xExtent = math.abs(math.max(position.x) - basePosition)\n",
    "    for ii in range(regionCount): \n",
    "        regionEnd = basePosition + (xExtent * lengthRatios[ii])\n",
    "        potential = math.where(\n",
    "                (position.x >= basePosition) & (position.x < regionEnd), \n",
    "                potentialRatios[ii] * basePotential, \n",
    "                potential\n",
    "            )\n",
    "        basePosition = regionEnd\n",
    "    return potential"
   ]
  },
  {
   "cell_type": "code",
   "execution_count": 9,
   "id": "6d98a8fe-d452-4992-971e-3ad99963a5c7",
   "metadata": {},
   "outputs": [
    {
     "name": "stdout",
     "output_type": "stream",
     "text": [
      "Point Count:  160\n"
     ]
    }
   ],
   "source": [
    "math = np\n",
    "spatialStep : float = .05\n",
    "length : float = 8\n",
    "temporalStep : float = (spatialStep ** 2) / 4\n",
    "courantNumber : float = 1.0\n",
    "pointCount : int = int(length / spatialStep)\n",
    "potentialHeight : float = 200\n",
    "print(\"Point Count: \", pointCount)\n",
    "packetStartX : float = .8\n",
    "packetStartY : float = .5\n",
    "packetStandardDeviation : float = .5\n",
    "packetWaveNumber : float = 15 * np.pi\n",
    "stairWidth : float = packetStandardDeviation * 2 * .1\n",
    "barrierWidth : float = stairWidth\n",
    "stairCount : int = 3\n",
    "stairwellStart : float = (packetStartX - stairCount * stairWidth) / 2\n",
    "barrierIndex = 2\n",
    "barrierStart : float = stairwellStart + barrierIndex * stairWidth\n",
    "remaningLength : float = 1 - (stairwellStart + stairCount * stairWidth)\n",
    "constantStairwellLengthRatios : List[float] = [stairwellStart, stairWidth, stairWidth, stairWidth, remaningLength]\n",
    "constantStairwellPotentialRatios : List[float] = [0, 1/3, 2/3, 1, 0]\n",
    "frameCount : int = 500\n",
    "backend = \"numpy\""
   ]
  },
  {
   "cell_type": "code",
   "execution_count": null,
   "id": "f158a1d1-bd32-4430-b6a9-a0d31387957a",
   "metadata": {},
   "outputs": [],
   "source": []
  },
  {
   "cell_type": "code",
   "execution_count": 10,
   "id": "d6505c64-437d-4b75-ae30-605ef95b7e71",
   "metadata": {
    "tags": []
   },
   "outputs": [],
   "source": [
    "def dynamicPotentials(position, time, totalTime, delay, lengthRatios, potentialRatios, potentialHeight, math):\n",
    "        timeScalar = 0.0 if time < delay else math.sin(((time - delay) / (totalTime - delay)) * np.pi)\n",
    "        return constantPotentials(\n",
    "                position, \n",
    "                lengthRatios, \n",
    "                potentialRatios, \n",
    "                potentialHeight * timeScalar, \n",
    "                math = math\n",
    "            ) \n"
   ]
  },
  {
   "cell_type": "code",
   "execution_count": null,
   "id": "46233ae6-ffdd-4114-baca-edb03b7caa45",
   "metadata": {},
   "outputs": [
    {
     "name": "stdout",
     "output_type": "stream",
     "text": [
      "[]----------------------------------------------------------------------------------------------"
     ]
    }
   ],
   "source": [
    "assert (temporalStep / spatialStep) <= courantNumber\n",
    "profile = SimulationProfile(\n",
    "        makeLinspaceGrid(pointCount, length, 2, False, float, math), \n",
    "        lambda position : makeWavePacket(\n",
    "                position, \n",
    "                packetStartX * length, \n",
    "                packetStartY * length, \n",
    "                spatialStep, \n",
    "                packetStandardDeviation, \n",
    "                packetWaveNumber, \n",
    "                math\n",
    "            ), \n",
    "        lambda position, time : dynamicPotentials(\n",
    "                    position, \n",
    "                    time, \n",
    "                    temporalStep * frameCount, \n",
    "                    temporalStep * frameCount / 3, \n",
    "                    math.array(constantStairwellLengthRatios), \n",
    "                    math.array(constantStairwellPotentialRatios), \n",
    "                    potentialHeight, \n",
    "                    math\n",
    "            ), \n",
    "        temporalStep, \n",
    "        spatialStep, \n",
    "        False, \n",
    "        True, \n",
    "        False, \n",
    "        False\n",
    "    )\n",
    "simulator = Simulator(profile)\n",
    "simulator.simulate(frameCount, True, True, True)"
   ]
  },
  {
   "cell_type": "code",
   "execution_count": null,
   "id": "2037ef67-cf5f-4f5f-a97c-8ff9106c7fb7",
   "metadata": {},
   "outputs": [],
   "source": [
    "probabilities, probabilityDecibles = simulator.processProbabilities()"
   ]
  },
  {
   "cell_type": "code",
   "execution_count": null,
   "id": "6db51e96-793f-46f9-8318-ecc4708c0e92",
   "metadata": {},
   "outputs": [],
   "source": []
  },
  {
   "cell_type": "code",
   "execution_count": null,
   "id": "695e8ee6-562c-4736-935b-2d65eac9f2bf",
   "metadata": {},
   "outputs": [],
   "source": [
    "potentialAnimation = animateImages(\n",
    "        length, \n",
    "        simulator.potentials, \n",
    "        10, \n",
    "        0, \n",
    "        potentialHeight, \n",
    "        colorMap = \"hot\"\n",
    "    )"
   ]
  },
  {
   "cell_type": "code",
   "execution_count": null,
   "id": "3d69fa61-73e5-4f2f-a773-5c54f0899c1b",
   "metadata": {},
   "outputs": [],
   "source": [
    "waveAnimation = animateImages(\n",
    "        length, \n",
    "        simulator.probabilities, \n",
    "        10, \n",
    "        0, \n",
    "        math.max(simulator.probabilities), \n",
    "        constantStairwellLengthRatios, \n",
    "        constantStairwellPotentialRatios, \n",
    "        colorMap = \"hot\"\n",
    "    )"
   ]
  },
  {
   "cell_type": "code",
   "execution_count": null,
   "id": "cdee3510-e2fc-4d4c-8a5d-d6fb9c25acbb",
   "metadata": {},
   "outputs": [],
   "source": [
    "postBarrierProbabilities, postBarrierCutFrames = totalProbabilityInRegion(\n",
    "        probabilities, \n",
    "        pointCount, \n",
    "        spatialStep, \n",
    "        0, \n",
    "        0, \n",
    "        barrierStart, \n",
    "        1\n",
    "    )"
   ]
  },
  {
   "cell_type": "code",
   "execution_count": null,
   "id": "cba979f4-eea3-4351-b4de-cd0cdea890ec",
   "metadata": {},
   "outputs": [],
   "source": [
    "preBarrierProbabilities, preBarrierCutFrames = totalProbabilityInRegion(\n",
    "        probabilities, \n",
    "        pointCount, \n",
    "        spatialStep, \n",
    "        barrierStart + barrierWidth, \n",
    "        0, \n",
    "        1 - (barrierStart + barrierWidth), \n",
    "        1\n",
    "    )"
   ]
  },
  {
   "cell_type": "code",
   "execution_count": null,
   "id": "553e973e-77f8-4efa-9ec0-88121021cc3d",
   "metadata": {},
   "outputs": [],
   "source": [
    "intraBarrierProbabilities, intraBarrierCutFrames = totalProbabilityInRegion(\n",
    "        probabilities, \n",
    "        pointCount, \n",
    "        spatialStep, \n",
    "        barrierStart, \n",
    "        0, \n",
    "        barrierWidth, \n",
    "        1\n",
    "    )"
   ]
  },
  {
   "cell_type": "code",
   "execution_count": null,
   "id": "8fd4fd33-8a2f-420f-9daf-7aac5597f92b",
   "metadata": {},
   "outputs": [],
   "source": [
    "cutAnimationPostBarrier = animateImages(length * barrierStart, postBarrierCutFrames, interval = 50)"
   ]
  },
  {
   "cell_type": "code",
   "execution_count": null,
   "id": "2a47d0ca-1300-441d-969f-6ab0852c1b82",
   "metadata": {},
   "outputs": [],
   "source": [
    "cutAnimationPreBarrier = animateImages(length * (1 - (barrierStart + barrierWidth)), preBarrierCutFrames, interval = 50)"
   ]
  },
  {
   "cell_type": "code",
   "execution_count": null,
   "id": "db800f8b-ff4d-4506-a274-280b85f77652",
   "metadata": {},
   "outputs": [],
   "source": [
    "cutAnimationIntraBarrier = animateImages(length * barrierWidth, intraBarrierCutFrames, interval = 50)"
   ]
  },
  {
   "cell_type": "code",
   "execution_count": null,
   "id": "f06c4e3e-025b-49fa-a247-f2db95797814",
   "metadata": {},
   "outputs": [],
   "source": [
    "plt.figure()\n",
    "time = np.arange(len(postBarrierProbabilities))\n",
    "plt.plot(time, postBarrierProbabilities)\n",
    "plt.plot(time, preBarrierProbabilities)\n",
    "plt.plot(time, intraBarrierProbabilities)\n",
    "plt.plot(time, postBarrierProbabilities + intraBarrierProbabilities + preBarrierProbabilities)\n",
    "plt.legend([\n",
    "        \"Post-Barrier Probabilities\", \n",
    "        \"Pre-Barrier Probabilities\", \n",
    "        \"Intra-Barrier Probabilities\", \n",
    "        \"Total Probability\"\n",
    "    ])\n",
    "plt.xlabel(\"Time\")\n",
    "plt.ylabel(\"Probability\")\n",
    "plt.suptitle(caseName + \" Mesured by Quantum Tunneling Regions\")\n",
    "plt.title(\"Total Probability in Different Regions\")"
   ]
  },
  {
   "cell_type": "code",
   "execution_count": null,
   "id": "c5abaeaf-c0fa-4bbd-8bd6-760fef1b6d38",
   "metadata": {},
   "outputs": [],
   "source": [
    "import pandas as pd"
   ]
  },
  {
   "cell_type": "code",
   "execution_count": null,
   "id": "281e2de0-2586-4628-909d-24083e7973f0",
   "metadata": {},
   "outputs": [],
   "source": [
    "frame = pd.DataFrame({\n",
    "        \"Post-Barrier-Probabilities\" : postBarrierProbabilities, \n",
    "        \"Pre-Barrier-Probabilities\" : preBarrierProbabilities, \n",
    "        \"Intra-Barrier-Probabilities\" : intraBarrierProbabilities, \n",
    "        \"Total-Probability\" :  postBarrierProbabilities + intraBarrierProbabilities + preBarrierProbabilities, \n",
    "        \"Time\" : time, \n",
    "        \"spatialStep\" : spatialStep, \n",
    "        \"temporalStep\" : temporalStep, \n",
    "        \"courantNumber\" : courantNumber, \n",
    "        \"pointCount\" : pointCount, \n",
    "        \"barrierStart\" : barrierStart, \n",
    "        \"barrierWidth\" : barrierWidth, \n",
    "        \"potentialHeight\" : potentialHeight, \n",
    "        \"packetStartX\" : packetStartX, \n",
    "        \"packetStartY\" : packetStartY, \n",
    "        \"packetStandardDeviation\" : packetStandardDeviation, \n",
    "        \"packetWaveNumber\" : packetWaveNumber, \n",
    "        \"constantStairwellLengthRatios\" : str(constantStairwellLengthRatios), \n",
    "        \"constantStairwellPotentialRatios\" : str(constantStairwellPotentialRatios), \n",
    "        \"length\" : length, \n",
    "        \"backend\" : backend, \n",
    "    })"
   ]
  },
  {
   "cell_type": "code",
   "execution_count": null,
   "id": "07a279ff-1ad7-4699-a816-a6b620e108cb",
   "metadata": {},
   "outputs": [],
   "source": []
  },
  {
   "cell_type": "code",
   "execution_count": null,
   "id": "8cb84888-c8d1-4895-9522-87349664e235",
   "metadata": {},
   "outputs": [],
   "source": [
    "frame.to_csv(caseName + \".csv\")"
   ]
  },
  {
   "cell_type": "code",
   "execution_count": null,
   "id": "8a78676b-4457-4bd5-a885-440de4f2113c",
   "metadata": {},
   "outputs": [],
   "source": [
    "waveAnimation.save(caseName + \".mp4\")"
   ]
  },
  {
   "cell_type": "code",
   "execution_count": null,
   "id": "2f2597fb-5a58-4bed-9444-f90140c7597d",
   "metadata": {},
   "outputs": [],
   "source": [
    "potentialAnimation.save(caseName + \"Potential.mp4\")"
   ]
  },
  {
   "cell_type": "code",
   "execution_count": null,
   "id": "aedfaea4-8113-41f5-94c1-5034da45f45d",
   "metadata": {},
   "outputs": [],
   "source": []
  },
  {
   "cell_type": "code",
   "execution_count": null,
   "id": "e7e4b27d-16e4-47c4-89b4-f6b1dcfc1611",
   "metadata": {},
   "outputs": [],
   "source": [
    "unknownStepMatrix = simulator.createNextStepMatrix(simulator.potentials[-1])"
   ]
  },
  {
   "cell_type": "code",
   "execution_count": null,
   "id": "ce6aefb5-6da8-47a4-8815-4d109992fe51",
   "metadata": {},
   "outputs": [],
   "source": [
    "unknownStepMatrix.todense()"
   ]
  },
  {
   "cell_type": "code",
   "execution_count": null,
   "id": "99d5d573-5ffd-4a6c-bf38-d6e8e051c79e",
   "metadata": {},
   "outputs": [],
   "source": [
    "knownStepMatrix = simulator.createCurrentStepMatrix(simulator.potentials[-1])"
   ]
  },
  {
   "cell_type": "code",
   "execution_count": null,
   "id": "524874c7-fe5a-424f-8633-ee4fe8cddb3a",
   "metadata": {},
   "outputs": [],
   "source": [
    "knownStepMatrix.todense()"
   ]
  },
  {
   "cell_type": "code",
   "execution_count": null,
   "id": "6a7020f4-e4fb-4539-a7f5-8c70fb0a8328",
   "metadata": {},
   "outputs": [],
   "source": []
  }
 ],
 "metadata": {
  "kernelspec": {
   "display_name": "Python 3 (ipykernel)",
   "language": "python",
   "name": "python3"
  },
  "language_info": {
   "codemirror_mode": {
    "name": "ipython",
    "version": 3
   },
   "file_extension": ".py",
   "mimetype": "text/x-python",
   "name": "python",
   "nbconvert_exporter": "python",
   "pygments_lexer": "ipython3",
   "version": "3.10.8"
  }
 },
 "nbformat": 4,
 "nbformat_minor": 5
}
