{
 "cells": [
  {
   "cell_type": "code",
   "execution_count": 1,
   "id": "df4329a4-ad5e-4816-8011-1ceb7b865644",
   "metadata": {},
   "outputs": [],
   "source": [
    "%matplotlib widget"
   ]
  },
  {
   "cell_type": "code",
   "execution_count": 2,
   "id": "9a374f44-e92a-4154-ba76-cf3a0c680900",
   "metadata": {},
   "outputs": [],
   "source": [
    "from functools import partial"
   ]
  },
  {
   "cell_type": "code",
   "execution_count": 3,
   "id": "cf6c7a59-133a-4874-9420-a262a3c9fe25",
   "metadata": {},
   "outputs": [
    {
     "ename": "ModuleNotFoundError",
     "evalue": "No module named 'cupyx.scipy.sparse.linalg'",
     "output_type": "error",
     "traceback": [
      "\u001b[0;31m---------------------------------------------------------------------------\u001b[0m",
      "\u001b[0;31mModuleNotFoundError\u001b[0m                       Traceback (most recent call last)",
      "Cell \u001b[0;32mIn[3], line 1\u001b[0m\n\u001b[0;32m----> 1\u001b[0m \u001b[38;5;28;01mfrom\u001b[39;00m \u001b[38;5;21;01mlibschrodinger\u001b[39;00m\u001b[38;5;21;01m.\u001b[39;00m\u001b[38;5;21;01mcrank_nicolson_2d\u001b[39;00m \u001b[38;5;28;01mimport\u001b[39;00m \u001b[38;5;241m*\u001b[39m\n",
      "File \u001b[0;32m/home/jovyan/work/SchrodingerInTime2D/StarkWells/libschrodinger/__init__.py:18\u001b[0m\n\u001b[1;32m      1\u001b[0m \u001b[38;5;66;03m#from enum import Enum\u001b[39;00m\n\u001b[1;32m      2\u001b[0m \u001b[38;5;66;03m#from dataclasses import dataclass\u001b[39;00m\n\u001b[1;32m      3\u001b[0m \u001b[38;5;66;03m#import numpy as np\u001b[39;00m\n\u001b[0;32m   (...)\u001b[0m\n\u001b[1;32m     14\u001b[0m \u001b[38;5;66;03m#from time import monotonic\u001b[39;00m\n\u001b[1;32m     15\u001b[0m \u001b[38;5;66;03m#import sys\u001b[39;00m\n\u001b[1;32m     17\u001b[0m \u001b[38;5;28;01mfrom\u001b[39;00m \u001b[38;5;21;01mlibschrodinger\u001b[39;00m\u001b[38;5;21;01m.\u001b[39;00m\u001b[38;5;21;01mperformence_profiling\u001b[39;00m \u001b[38;5;28;01mimport\u001b[39;00m \u001b[38;5;241m*\u001b[39m\n\u001b[0;32m---> 18\u001b[0m \u001b[38;5;28;01mfrom\u001b[39;00m \u001b[38;5;21;01mlibschrodinger\u001b[39;00m\u001b[38;5;21;01m.\u001b[39;00m\u001b[38;5;21;01mlinear_algebra_utilities\u001b[39;00m \u001b[38;5;28;01mimport\u001b[39;00m \u001b[38;5;241m*\u001b[39m\n\u001b[1;32m     19\u001b[0m \u001b[38;5;28;01mfrom\u001b[39;00m \u001b[38;5;21;01mlibschrodinger\u001b[39;00m\u001b[38;5;21;01m.\u001b[39;00m\u001b[38;5;21;01mmesh_grid\u001b[39;00m \u001b[38;5;28;01mimport\u001b[39;00m \u001b[38;5;241m*\u001b[39m\n\u001b[1;32m     20\u001b[0m \u001b[38;5;28;01mfrom\u001b[39;00m \u001b[38;5;21;01mlibschrodinger\u001b[39;00m\u001b[38;5;21;01m.\u001b[39;00m\u001b[38;5;21;01mprofiles\u001b[39;00m \u001b[38;5;28;01mimport\u001b[39;00m \u001b[38;5;241m*\u001b[39m\n",
      "File \u001b[0;32m/home/jovyan/work/SchrodingerInTime2D/StarkWells/libschrodinger/linear_algebra_utilities.py:1\u001b[0m\n\u001b[0;32m----> 1\u001b[0m \u001b[38;5;28;01mfrom\u001b[39;00m \u001b[38;5;21;01mlibschrodinger\u001b[39;00m\u001b[38;5;21;01m.\u001b[39;00m\u001b[38;5;21;01mcomputational_profile\u001b[39;00m \u001b[38;5;28;01mimport\u001b[39;00m \u001b[38;5;241m*\u001b[39m\n\u001b[1;32m      2\u001b[0m \u001b[38;5;28;01mfrom\u001b[39;00m \u001b[38;5;21;01mlibschrodinger\u001b[39;00m\u001b[38;5;21;01m.\u001b[39;00m\u001b[38;5;21;01mlinear_algebra_utilities\u001b[39;00m \u001b[38;5;28;01mimport\u001b[39;00m \u001b[38;5;241m*\u001b[39m\n\u001b[1;32m      3\u001b[0m \u001b[38;5;28;01mimport\u001b[39;00m \u001b[38;5;21;01mnumpy\u001b[39;00m \u001b[38;5;28;01mas\u001b[39;00m \u001b[38;5;21;01mnp\u001b[39;00m\n",
      "File \u001b[0;32m/home/jovyan/work/SchrodingerInTime2D/StarkWells/libschrodinger/computational_profile.py:6\u001b[0m\n\u001b[1;32m      4\u001b[0m \u001b[38;5;28;01mimport\u001b[39;00m \u001b[38;5;21;01mcupyx\u001b[39;00m\u001b[38;5;21;01m.\u001b[39;00m\u001b[38;5;21;01mscipy\u001b[39;00m\u001b[38;5;21;01m.\u001b[39;00m\u001b[38;5;21;01msparse\u001b[39;00m \u001b[38;5;28;01mas\u001b[39;00m \u001b[38;5;21;01mcpsparse\u001b[39;00m\n\u001b[1;32m      5\u001b[0m \u001b[38;5;28;01mimport\u001b[39;00m \u001b[38;5;21;01mscipy\u001b[39;00m\u001b[38;5;21;01m.\u001b[39;00m\u001b[38;5;21;01msparse\u001b[39;00m\u001b[38;5;21;01m.\u001b[39;00m\u001b[38;5;21;01mlinalg\u001b[39;00m \u001b[38;5;28;01mas\u001b[39;00m \u001b[38;5;21;01mspla\u001b[39;00m\n\u001b[0;32m----> 6\u001b[0m \u001b[38;5;28;01mimport\u001b[39;00m \u001b[38;5;21;01mcupyx\u001b[39;00m\u001b[38;5;21;01m.\u001b[39;00m\u001b[38;5;21;01mscipy\u001b[39;00m\u001b[38;5;21;01m.\u001b[39;00m\u001b[38;5;21;01msparse\u001b[39;00m\u001b[38;5;21;01m.\u001b[39;00m\u001b[38;5;21;01mlinalg\u001b[39;00m \u001b[38;5;28;01mas\u001b[39;00m \u001b[38;5;21;01mcpla\u001b[39;00m\n\u001b[1;32m      8\u001b[0m \u001b[38;5;28;01mclass\u001b[39;00m \u001b[38;5;21;01mComputationalProfile\u001b[39;00m: \n\u001b[1;32m      9\u001b[0m     \u001b[38;5;28;01mdef\u001b[39;00m \u001b[38;5;21m__init__\u001b[39m(\u001b[38;5;28mself\u001b[39m, gpuAccelerated : \u001b[38;5;28mbool\u001b[39m):\n",
      "\u001b[0;31mModuleNotFoundError\u001b[0m: No module named 'cupyx.scipy.sparse.linalg'"
     ]
    }
   ],
   "source": [
    "from libschrodinger.crank_nicolson_2d import *"
   ]
  },
  {
   "cell_type": "code",
   "execution_count": null,
   "id": "3e2b1a21-6c06-4807-95cf-e01bbf8d3ac7",
   "metadata": {},
   "outputs": [],
   "source": [
    "from libschrodinger.potentials import *"
   ]
  },
  {
   "cell_type": "code",
   "execution_count": null,
   "id": "a44c371c-7152-4bfa-9027-910600155c42",
   "metadata": {},
   "outputs": [],
   "source": [
    "from libschrodinger.campaigns import *"
   ]
  },
  {
   "cell_type": "code",
   "execution_count": null,
   "id": "1d6992dd-60eb-4133-b81c-b856977c126a",
   "metadata": {},
   "outputs": [],
   "source": [
    "import numpy as np"
   ]
  },
  {
   "cell_type": "code",
   "execution_count": null,
   "id": "21e2b4de-716e-4538-a449-773ba81c9616",
   "metadata": {},
   "outputs": [],
   "source": [
    "import pandas as pd"
   ]
  },
  {
   "cell_type": "code",
   "execution_count": null,
   "id": "79eb77a0-ef23-4c2b-b3f1-5be02b97169e",
   "metadata": {},
   "outputs": [],
   "source": [
    "from pathlib import Path"
   ]
  },
  {
   "cell_type": "code",
   "execution_count": null,
   "id": "aab3ff36-19b0-45fa-a4b6-aa2aaf9cfd3b",
   "metadata": {},
   "outputs": [],
   "source": [
    "from typing import *"
   ]
  },
  {
   "cell_type": "code",
   "execution_count": null,
   "id": "34fe89ef-0b73-4188-9282-ff4e122cae1f",
   "metadata": {},
   "outputs": [],
   "source": [
    "from scipy import special"
   ]
  },
  {
   "cell_type": "code",
   "execution_count": null,
   "id": "a12f1ac4-d2fc-41e4-9626-6cc67f990ab5",
   "metadata": {},
   "outputs": [],
   "source": [
    "import cupy as cp"
   ]
  },
  {
   "cell_type": "code",
   "execution_count": null,
   "id": "aad5f901-c59e-4c05-9566-2880829f0011",
   "metadata": {},
   "outputs": [],
   "source": [
    "caseName : str = \"stark_well_0\""
   ]
  },
  {
   "cell_type": "code",
   "execution_count": null,
   "id": "e056fbfd-e468-41ec-b136-8d79b6c6148b",
   "metadata": {},
   "outputs": [],
   "source": []
  },
  {
   "cell_type": "code",
   "execution_count": null,
   "id": "ca455133-852f-4f95-a8ad-416327edee72",
   "metadata": {},
   "outputs": [],
   "source": [
    "class PropigationDirection(Enum): \n",
    "    Forward : float = 1\n",
    "    Backward : float = -1"
   ]
  },
  {
   "cell_type": "code",
   "execution_count": null,
   "id": "0f5c46ed-9fa7-422a-a1ea-b1ebf5084b7a",
   "metadata": {},
   "outputs": [],
   "source": []
  },
  {
   "cell_type": "code",
   "execution_count": null,
   "id": "8606102d-8d96-482e-92be-d91192e27fa6",
   "metadata": {},
   "outputs": [],
   "source": []
  },
  {
   "cell_type": "code",
   "execution_count": null,
   "id": "d80f25a4-ce80-4a44-a69b-5a9f1b5dfa18",
   "metadata": {},
   "outputs": [],
   "source": [
    "math = cp\n",
    "spatialStep : float = .002\n",
    "length : float = 1\n",
    "temporalStep : float = (spatialStep ** 2) / 4\n",
    "courantNumber : float = 1.0\n",
    "pointCount : int = int(length / spatialStep)\n",
    "potentialHeight : float = 200\n",
    "preRegionLength = 3 / 11\n",
    "preRegionScalar = 4\n",
    "packetStandardDeviation : float = preRegionLength / preRegionScalar\n",
    "packetStartX : float = preRegionLength / 2.0 #1 - ((preRegionScalar / 2) * packetStandardDeviation)\n",
    "packetStartY : float = .5\n",
    "#angularFrequency : float = 50.0\n",
    "packetWaveNumber : float = -20 * np.pi\n",
    "frameCount : int = 200 #650\n",
    "print(\"Point Count: \", pointCount)\n",
    "print(\"Pre Region Length: \", preRegionLength)\n",
    "backend = \"numpy\"\n",
    "if math == cp: \n",
    "    backend = \"cupy\""
   ]
  },
  {
   "cell_type": "code",
   "execution_count": null,
   "id": "6664ef4d-8433-410e-8f4c-77f59fbdf31c",
   "metadata": {},
   "outputs": [],
   "source": [
    "def grid_axis_slice(grid, index, axis_index : DimensionIndex | int): \n",
    "    axis_index : int = axis_index.value if isinstance(axis_index, Enum) == True else axis_index\n",
    "    slices = [slice(None)] * len(grid.shape)\n",
    "    slices[axis_index] = index\n",
    "    return grid[tuple(slices)]"
   ]
  },
  {
   "cell_type": "code",
   "execution_count": null,
   "id": "8476680f-076a-4299-80f0-b50b22771e28",
   "metadata": {},
   "outputs": [],
   "source": []
  },
  {
   "cell_type": "code",
   "execution_count": null,
   "id": "99368a59-adb5-43e8-b64a-6557333e301b",
   "metadata": {},
   "outputs": [],
   "source": [
    "def closestInGrid(grid : np.array, value, math = np): \n",
    "    return np.where(np.isclose(\n",
    "            grid, \n",
    "            value, \n",
    "            atol = math.abs(math.max(grid) / len(grid)) / 2.0\n",
    "        ))"
   ]
  },
  {
   "cell_type": "code",
   "execution_count": null,
   "id": "a17909a8-6234-4688-a3f0-b9ec3727189e",
   "metadata": {},
   "outputs": [],
   "source": []
  },
  {
   "cell_type": "code",
   "execution_count": null,
   "id": "567da6f2-e666-44fe-801f-08737a668136",
   "metadata": {},
   "outputs": [],
   "source": [
    "def makeStarkWells(\n",
    "            position : MeshGrid, \n",
    "            lengthRatios : Sequence[float], \n",
    "            potentialRatios : Sequence[float | int], \n",
    "            basePotential : float, \n",
    "            math, \n",
    "            slope : float, \n",
    "            offset : float, \n",
    "            offsets : Optional[Sequence[float | int] | Dict[int, float | int]] = None, \n",
    "            slopes : Optional[Sequence[float | int] | Dict[int, float | int]] = None , \n",
    "            dimension_index : DimensionIndex = DimensionIndex.X\n",
    "        ): \n",
    "    axis = position.gridDimensionalComponents[dimension_index.value]\n",
    "    line = (axis * slope) + offset\n",
    "    start = math.min(axis)\n",
    "    end = math.max(axis)\n",
    "    length = math.abs(end - start)\n",
    "    currentPosition = start\n",
    "    potential = line\n",
    "    offsets = offsets if offsets != None else [offset] * len(lengthRatios)\n",
    "    slopes = slopes if slopes != None else [slope] * len(lengthRatios)\n",
    "    override = lambda index, values, default : values[index] if isinstance(values, Sequence) == True \\\n",
    "            else (values[index] if index in values else default)\n",
    "    for regionIndex, lengthRatio in enumerate(lengthRatios): \n",
    "        currentLength = lengthRatio * length\n",
    "        currentOffset : float | int = override(regionIndex, offsets, offset)\n",
    "        currentSlope : float | int = override(regionIndex, slopes, slope)\n",
    "        currentOffset = currentOffset if currentOffset != None \\\n",
    "                else potential[closestInGrid(axis, currentPosition, math)]\n",
    "        upperBound = (axis <= end)\n",
    "        if (regionIndex + 1) < len(lengthRatios): \n",
    "            upperBound = (axis <= (currentPosition + currentLength))\n",
    "        lowerBound = (axis >= start)\n",
    "        if regionIndex != 0: \n",
    "            lowerBound = (axis > currentPosition)\n",
    "        potential = math.where(\n",
    "                lowerBound & upperBound, \n",
    "                axis * currentSlope \\\n",
    "                        + (potentialRatios[regionIndex] * basePotential) \\\n",
    "                        + currentOffset, \n",
    "                potential\n",
    "            )\n",
    "        currentPosition += currentLength\n",
    "    return potential"
   ]
  },
  {
   "cell_type": "code",
   "execution_count": null,
   "id": "b96aaed7-1fad-40ba-95e2-3536989516d9",
   "metadata": {},
   "outputs": [],
   "source": []
  },
  {
   "cell_type": "code",
   "execution_count": null,
   "id": "9bef73ce-f5a6-4aba-ac8b-802980064124",
   "metadata": {},
   "outputs": [],
   "source": [
    "def starkPlateaus(\n",
    "            length : float | int, \n",
    "            plateauLengths : int, \n",
    "            lengthCount : int, \n",
    "            firstSlope : float | int, \n",
    "            firstOffset : float | int\n",
    "        ) -> Tuple[List[float | int], Dict[int, float | int], Dict[int, float | int]]: \n",
    "    plateauLength : float | int = length * (plateauLengths / lengthCount)\n",
    "    firstOffset : float | int = plateauLength * firstSlope + firstOffset\n",
    "    beginPlateauSlopes : Dict[int, float | int] = {\n",
    "            lengthIndex : 0 \\\n",
    "            for lengthIndex in range(plateauLengths)\n",
    "        }\n",
    "    beginPlateauOffsets : Dict[int, float | int] = {\n",
    "            lengthIndex : firstOffset \\\n",
    "            for lengthIndex in range(plateauLengths)\n",
    "        }\n",
    "    endPlateauSlopes : Dict[int, float | int] = {\n",
    "            lengthIndex : 0 \\\n",
    "            for lengthIndex in range(lengthCount - plateauLengths, lengthCount)\n",
    "        }\n",
    "    endPlateauOffsets : Dict[int, float | int] = {\n",
    "            lengthIndex : None \\\n",
    "            for lengthIndex in range(lengthCount - plateauLengths, lengthCount)\n",
    "        }\n",
    "    plateauSlopeOverrides = beginPlateauSlopes | endPlateauSlopes\n",
    "    plateauOffsetOverrides = beginPlateauOffsets | endPlateauOffsets\n",
    "    return [0] * lengthCount, [1.0 / lengthCount] * lengthCount, plateauSlopeOverrides, plateauOffsetOverrides"
   ]
  },
  {
   "cell_type": "code",
   "execution_count": null,
   "id": "116b0cf7-509b-47e8-99d1-20b947a791d5",
   "metadata": {},
   "outputs": [],
   "source": []
  },
  {
   "cell_type": "code",
   "execution_count": null,
   "id": "a4f29693-e7ea-4e06-bd71-5dee4218eef6",
   "metadata": {},
   "outputs": [],
   "source": [
    "testGrid = makeLinspaceGrid(\n",
    "            pointCount, \n",
    "            length, \n",
    "            2\n",
    "        )"
   ]
  },
  {
   "cell_type": "code",
   "execution_count": null,
   "id": "5af67a16-ad9c-4746-aa7b-03d31bbe71d0",
   "metadata": {},
   "outputs": [],
   "source": []
  },
  {
   "cell_type": "code",
   "execution_count": null,
   "id": "da8fc5dd-fc1f-41f7-9563-8c0c95469cbd",
   "metadata": {},
   "outputs": [],
   "source": [
    "slope = (1.0 / 2.0) * potentialHeight\n",
    "offset = 0\n",
    "lengthCount = 11\n",
    "plateauLengthCount = 3\n",
    "plateauParameters = starkPlateaus(length, plateauLengthCount, lengthCount, slope, offset)\n",
    "potentialRatios = plateauParameters[0]\n",
    "lengthRatios = plateauParameters[1]\n",
    "slopeOverrides = plateauParameters[2]\n",
    "offsetOverrides = plateauParameters[3]\n",
    "potentialRatios = potentialRatios[:plateauLengthCount] \\\n",
    "        + [0, 1, 0, 1, 0] \\\n",
    "        + potentialRatios[lengthCount - plateauLengthCount:]\n",
    "potentialFunction = partial(\n",
    "        makeStarkWells, \n",
    "        slope = slope, \n",
    "        offset = offset, \n",
    "        slopes = slopeOverrides, \n",
    "        offsets = offsetOverrides, \n",
    "        dimension_index = DimensionIndex.X\n",
    "    )\n",
    "#position, \n",
    "#lengthRatios, \n",
    "#potentialRatios, \n",
    "#basePotential, \n",
    "#math\n",
    "potentialFunction"
   ]
  },
  {
   "cell_type": "code",
   "execution_count": null,
   "id": "73dadf4b-f95c-4714-804d-f414d7027c0b",
   "metadata": {},
   "outputs": [],
   "source": [
    "potentialRatios "
   ]
  },
  {
   "cell_type": "code",
   "execution_count": null,
   "id": "c107b8e1-0a83-4f75-a5f9-8ac62e47cc65",
   "metadata": {},
   "outputs": [],
   "source": [
    "#testp = potentialFunction(testGrid, lengthRatios, potentialRatios, potentialHeight, math)"
   ]
  },
  {
   "cell_type": "code",
   "execution_count": null,
   "id": "ae1b19fa-c724-411a-96e3-3db16851a05d",
   "metadata": {},
   "outputs": [],
   "source": [
    "#%matplotlib inline\n",
    "#plt.plot(testGrid.x[0], testp[0, :])"
   ]
  },
  {
   "cell_type": "code",
   "execution_count": null,
   "id": "f06ad3f7-cb95-4c1d-8e40-b04eab1367bd",
   "metadata": {},
   "outputs": [],
   "source": [
    "#plt.imshow(testp)"
   ]
  },
  {
   "cell_type": "code",
   "execution_count": null,
   "id": "a4664dea-e7b1-4d87-81af-fd454ed57329",
   "metadata": {},
   "outputs": [],
   "source": [
    "len(lengthRatios)"
   ]
  },
  {
   "cell_type": "code",
   "execution_count": null,
   "id": "03ffcea4-97d1-4402-adc4-5f7985d8e92a",
   "metadata": {},
   "outputs": [],
   "source": []
  },
  {
   "cell_type": "code",
   "execution_count": null,
   "id": "801d7cb7-16e7-4c41-97a3-412503ee2fdf",
   "metadata": {},
   "outputs": [],
   "source": [
    "wavePacketFunction = lambda position : makeWavePacket(\n",
    "            position, \n",
    "            packetStartX * length, \n",
    "            packetStartY * length, \n",
    "            spatialStep, \n",
    "            packetStandardDeviation, \n",
    "            packetWaveNumber\n",
    "        )"
   ]
  },
  {
   "cell_type": "code",
   "execution_count": null,
   "id": "a9c618a2-7f5a-450e-b011-d64ef7663ea3",
   "metadata": {},
   "outputs": [],
   "source": [
    "potentials : List[List[float]] = [\n",
    "        potentialRatios\n",
    "    ]"
   ]
  },
  {
   "cell_type": "code",
   "execution_count": null,
   "id": "5f08f234-17f0-43cd-977b-92196e55c444",
   "metadata": {},
   "outputs": [],
   "source": [
    "profiles : List[SimulationProfile] = constantSimulationProfiles(\n",
    "        wavePacketFunction, \n",
    "        spatialStep, \n",
    "        temporalStep, \n",
    "        length, \n",
    "        lengthRatios, \n",
    "        potentials, \n",
    "        potentialHeight, \n",
    "        pointCount, \n",
    "        False, \n",
    "        gpuAccelerated = False, \n",
    "        edgeBound = True, \n",
    "        constantPotentialFunction = potentialFunction\n",
    "    )"
   ]
  },
  {
   "cell_type": "code",
   "execution_count": null,
   "id": "f71aedf2-77ef-4338-9e0d-fa727733acce",
   "metadata": {},
   "outputs": [],
   "source": []
  },
  {
   "cell_type": "code",
   "execution_count": null,
   "id": "8e3dc6f5-9c5f-4a21-9037-38b141b2d6b9",
   "metadata": {},
   "outputs": [],
   "source": [
    "results = recordConstantRegionSimulations(\n",
    "        profiles, \n",
    "        frameCount, \n",
    "        caseName, \n",
    "        lengthRatios, \n",
    "        True, \n",
    "        constantRegionLabels = [\"BP0\", \"BP1\", \"BP2\", \"SL0\", \"B0\", \"SL1\", \"B1\", \"SL2\", \"EP0\", \"EP1\", \"EP2\"], \n",
    "        showBar = True, \n",
    "        showFPS = True, \n",
    "        showTotalTime = True, \n",
    "        discardSimulations = False, \n",
    "        recordAllRegionVideos = False\n",
    "    )\n"
   ]
  },
  {
   "cell_type": "code",
   "execution_count": null,
   "id": "dd04c10f-5777-484d-af73-6652c3d5d03e",
   "metadata": {},
   "outputs": [],
   "source": []
  },
  {
   "cell_type": "code",
   "execution_count": null,
   "id": "a1c10212-e7e2-49eb-9b91-ef00edc68725",
   "metadata": {},
   "outputs": [],
   "source": [
    "allData, simulations, idk = results"
   ]
  },
  {
   "cell_type": "code",
   "execution_count": null,
   "id": "add67677-6f02-4c86-be5c-35f6c0c90532",
   "metadata": {},
   "outputs": [],
   "source": [
    "allData[\"packetStartX\"] = packetStartX\n",
    "allData[\"packetStartY\"] = packetStartY\n",
    "allData[\"initialWaveNumber\"] = \"NULL\"#packetWaveNumber\n",
    "allData[\"standardDeviation\"] = packetStandardDeviation"
   ]
  },
  {
   "cell_type": "code",
   "execution_count": null,
   "id": "2555c902-f42c-4612-b9de-fec6c7f4b479",
   "metadata": {},
   "outputs": [],
   "source": [
    "pd.DataFrame(allData).to_csv(str(Path.cwd() / caseName / (caseName + \".csv\")))"
   ]
  },
  {
   "cell_type": "code",
   "execution_count": null,
   "id": "6db51e96-793f-46f9-8318-ecc4708c0e92",
   "metadata": {},
   "outputs": [],
   "source": []
  },
  {
   "cell_type": "code",
   "execution_count": null,
   "id": "e1996cdd-cdfe-4265-9058-246e88776ed3",
   "metadata": {},
   "outputs": [],
   "source": []
  }
 ],
 "metadata": {
  "kernelspec": {
   "display_name": "Python 3 (ipykernel)",
   "language": "python",
   "name": "python3"
  },
  "language_info": {
   "codemirror_mode": {
    "name": "ipython",
    "version": 3
   },
   "file_extension": ".py",
   "mimetype": "text/x-python",
   "name": "python",
   "nbconvert_exporter": "python",
   "pygments_lexer": "ipython3",
   "version": "3.10.8"
  }
 },
 "nbformat": 4,
 "nbformat_minor": 5
}
