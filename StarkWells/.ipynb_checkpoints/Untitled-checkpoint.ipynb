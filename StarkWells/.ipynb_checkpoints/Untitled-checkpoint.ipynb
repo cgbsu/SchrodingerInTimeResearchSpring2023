{
 "cells": [
  {
   "cell_type": "code",
   "execution_count": 9,
   "id": "0026717c-4c26-4574-a087-f8eba443bdf9",
   "metadata": {},
   "outputs": [],
   "source": [
    "import cupy as cp"
   ]
  },
  {
   "cell_type": "code",
   "execution_count": 11,
   "id": "a8a734c5-7330-4b36-bf2a-9134ad649645",
   "metadata": {},
   "outputs": [
    {
     "name": "stdout",
     "output_type": "stream",
     "text": [
      "Help on package cupy:\n",
      "\n",
      "NAME\n",
      "    cupy\n",
      "\n",
      "PACKAGE CONTENTS\n",
      "    cudnn\n",
      "    cusolver\n",
      "    cutensor\n",
      "\n",
      "FILE\n",
      "    (built-in)\n",
      "\n",
      "\n"
     ]
    }
   ],
   "source": [
    "help(cp)"
   ]
  },
  {
   "cell_type": "code",
   "execution_count": 12,
   "id": "c6536242-9787-4a59-9848-3f9bcdad3e36",
   "metadata": {},
   "outputs": [
    {
     "ename": "AttributeError",
     "evalue": "module 'cupy' has no attribute 'array'",
     "output_type": "error",
     "traceback": [
      "\u001b[0;31m---------------------------------------------------------------------------\u001b[0m",
      "\u001b[0;31mAttributeError\u001b[0m                            Traceback (most recent call last)",
      "Cell \u001b[0;32mIn[12], line 1\u001b[0m\n\u001b[0;32m----> 1\u001b[0m \u001b[43mcp\u001b[49m\u001b[38;5;241;43m.\u001b[39;49m\u001b[43marray\u001b[49m([\u001b[38;5;241m1\u001b[39m,\u001b[38;5;241m2\u001b[39m,\u001b[38;5;241m3\u001b[39m,\u001b[38;5;241m4\u001b[39m])\n",
      "\u001b[0;31mAttributeError\u001b[0m: module 'cupy' has no attribute 'array'"
     ]
    }
   ],
   "source": [
    "cp.array([1,2,3,4])"
   ]
  },
  {
   "cell_type": "code",
   "execution_count": null,
   "id": "3bcdd4dd-b615-4770-9aff-ac33665bc8fc",
   "metadata": {},
   "outputs": [],
   "source": []
  }
 ],
 "metadata": {
  "kernelspec": {
   "display_name": "Python 3 (ipykernel)",
   "language": "python",
   "name": "python3"
  },
  "language_info": {
   "codemirror_mode": {
    "name": "ipython",
    "version": 3
   },
   "file_extension": ".py",
   "mimetype": "text/x-python",
   "name": "python",
   "nbconvert_exporter": "python",
   "pygments_lexer": "ipython3",
   "version": "3.10.8"
  }
 },
 "nbformat": 4,
 "nbformat_minor": 5
}
