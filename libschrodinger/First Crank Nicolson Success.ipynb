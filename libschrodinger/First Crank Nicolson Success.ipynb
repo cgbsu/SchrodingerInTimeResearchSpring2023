{
 "cells": [
  {
   "cell_type": "code",
   "execution_count": 1,
   "id": "cf6c7a59-133a-4874-9420-a262a3c9fe25",
   "metadata": {},
   "outputs": [],
   "source": [
    "from crank_nicolson_2d import *"
   ]
  },
  {
   "cell_type": "code",
   "execution_count": null,
   "id": "1d6992dd-60eb-4133-b81c-b856977c126a",
   "metadata": {},
   "outputs": [],
   "source": []
  },
  {
   "cell_type": "code",
   "execution_count": 5,
   "id": "3f1191ab-adcc-4c6c-a8ed-20b625bfb7d3",
   "metadata": {},
   "outputs": [
    {
     "name": "stdout",
     "output_type": "stream",
     "text": [
      "[[ 0.        +0.j          0.        +0.j          0.        +0.j\n",
      "  ...  0.        +0.j          0.        +0.j\n",
      "   0.        +0.j        ]\n",
      " [ 0.        +0.j          0.57116432-0.81880701j -0.34392962-0.93456789j\n",
      "  ...  0.05480067-0.14891111j -0.08387349-0.12023896j\n",
      "   0.        +0.j        ]\n",
      " [ 0.        +0.j          0.56973879-0.8167634j  -0.34307123-0.93223536j\n",
      "  ...  0.05466389-0.14853946j -0.08366416-0.11993886j\n",
      "   0.        +0.j        ]\n",
      " ...\n",
      " [ 0.        +0.j          0.09078039-0.13014052j -0.05466389-0.14853946j\n",
      "  ...  0.00870997-0.02366781j -0.01333078-0.01911068j\n",
      "   0.        +0.j        ]\n",
      " [ 0.        +0.j          0.08387349-0.12023896j -0.05050487-0.13723804j\n",
      "  ...  0.00804729-0.02186708j -0.01231653-0.01765667j\n",
      "   0.        +0.j        ]\n",
      " [ 0.        +0.j          0.        +0.j          0.        +0.j\n",
      "  ...  0.        +0.j          0.        +0.j\n",
      "   0.        +0.j        ]]\n"
     ]
    },
    {
     "data": {
      "text/plain": [
       "<matplotlib.image.AxesImage at 0x7fb55d0fabf0>"
      ]
     },
     "execution_count": 5,
     "metadata": {},
     "output_type": "execute_result"
    },
    {
     "data": {
      "image/png": "[encoded data removed]",
      "text/plain": [
       "<Figure size 640x480 with 1 Axes>"
      ]
     },
     "metadata": {},
     "output_type": "display_data"
    }
   ],
   "source": [
    "\n",
    "pointCount : int = 50\n",
    "profile = SimulationProfile(\n",
    "        makeLinspaceGrid(pointCount, 1, 2), \n",
    "        lambda position : makeWavePacket(position, 0, 0), \n",
    "        lambda position, time : np.sqrt(position.x ** 2 + position.y ** 2), \n",
    "        .01, \n",
    "        .01\n",
    "    )\n",
    "simulator = Simulator(profile)\n",
    "simulator.simulate(1)\n",
    "probabilities, probabilityDecibles = simulator.processProbabilities()\n",
    "print(simulator.waveFunctions[0])\n",
    "#plt.imshow(simulator.waveFunctions[-1])\n",
    "plt.imshow(simulator.probabilities[-1])\n"
   ]
  },
  {
   "cell_type": "code",
   "execution_count": null,
   "id": "087e4e1e-bee6-4ee7-91be-a788ed422933",
   "metadata": {},
   "outputs": [],
   "source": []
  }
 ],
 "metadata": {
  "kernelspec": {
   "display_name": "Python 3 (ipykernel)",
   "language": "python",
   "name": "python3"
  },
  "language_info": {
   "codemirror_mode": {
    "name": "ipython",
    "version": 3
   },
   "file_extension": ".py",
   "mimetype": "text/x-python",
   "name": "python",
   "nbconvert_exporter": "python",
   "pygments_lexer": "ipython3",
   "version": "3.10.8"
  }
 },
 "nbformat": 4,
 "nbformat_minor": 5
}
