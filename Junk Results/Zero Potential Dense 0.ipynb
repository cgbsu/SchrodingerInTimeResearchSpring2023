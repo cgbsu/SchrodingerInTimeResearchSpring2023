{
 "cells": [
  {
   "cell_type": "code",
   "execution_count": 1,
   "id": "df4329a4-ad5e-4816-8011-1ceb7b865644",
   "metadata": {},
   "outputs": [],
   "source": [
    "%matplotlib widget"
   ]
  },
  {
   "cell_type": "code",
   "execution_count": 2,
   "id": "cf6c7a59-133a-4874-9420-a262a3c9fe25",
   "metadata": {},
   "outputs": [],
   "source": [
    "from crank_nicolson_2d import *"
   ]
  },
  {
   "cell_type": "code",
   "execution_count": 3,
   "id": "1d6992dd-60eb-4133-b81c-b856977c126a",
   "metadata": {},
   "outputs": [],
   "source": [
    "import numpy as np"
   ]
  },
  {
   "cell_type": "code",
   "execution_count": null,
   "id": "aad5f901-c59e-4c05-9566-2880829f0011",
   "metadata": {},
   "outputs": [],
   "source": []
  },
  {
   "cell_type": "code",
   "execution_count": 4,
   "id": "d8aed580-5d0d-48c6-b4fb-dab8810208db",
   "metadata": {},
   "outputs": [],
   "source": [
    "def tunnelCase(position, where, width, potential = 1): \n",
    "    return np.where(\n",
    "            (position.x > where) & (position.x < (where + width)), \n",
    "            potential, \n",
    "            0, \n",
    "        )"
   ]
  },
  {
   "cell_type": "code",
   "execution_count": 5,
   "id": "0eed4492-a1f2-4a31-895c-8208f70e6db6",
   "metadata": {},
   "outputs": [],
   "source": [
    "def hydrogenAtom(position, potential, bottom = 1): \n",
    "    return potential / np.sqrt(\n",
    "            (position.x / 2) ** 2 \\\n",
    "            + (position.y / 2) ** 2 \\\n",
    "            + bottom ** 2 \\\n",
    "        )"
   ]
  },
  {
   "cell_type": "code",
   "execution_count": null,
   "id": "3f1191ab-adcc-4c6c-a8ed-20b625bfb7d3",
   "metadata": {},
   "outputs": [],
   "source": [
    "pointCount : int = 50\n",
    "spatialStep : float = .01\n",
    "temporalStep : float = (spatialStep ** 2) / 4\n",
    "profile = SimulationProfile(\n",
    "        makeLinspaceGrid(pointCount, 1, 2), \n",
    "        lambda position : makeWavePacket(position, .45, 0.5, .05), \n",
    "        lambda position, time : 0 * position.x, \n",
    "        temporalStep, \n",
    "        spatialStep\n",
    "    )\n",
    "simulator = Simulator(profile)\n",
    "simulator.simulate(100)\n",
    "probabilities, probabilityDecibles = simulator.processProbabilities()"
   ]
  },
  {
   "cell_type": "code",
   "execution_count": null,
   "id": "10fb7d88-f359-43bc-90a9-bebde7042c5b",
   "metadata": {},
   "outputs": [],
   "source": []
  },
  {
   "cell_type": "code",
   "execution_count": null,
   "id": "695e8ee6-562c-4736-935b-2d65eac9f2bf",
   "metadata": {},
   "outputs": [],
   "source": [
    "potentialAnimation = animateImages(pointCount, simulator.potentials)"
   ]
  },
  {
   "cell_type": "code",
   "execution_count": null,
   "id": "3d69fa61-73e5-4f2f-a773-5c54f0899c1b",
   "metadata": {
    "tags": []
   },
   "outputs": [],
   "source": [
    "waveAnimation = animateImages(pointCount, simulator.probabilities)"
   ]
  },
  {
   "cell_type": "code",
   "execution_count": null,
   "id": "8d0bc938-c1ed-429e-96ce-cad89c26033a",
   "metadata": {},
   "outputs": [],
   "source": []
  },
  {
   "cell_type": "code",
   "execution_count": null,
   "id": "8a78676b-4457-4bd5-a885-440de4f2113c",
   "metadata": {},
   "outputs": [],
   "source": [
    "#waveAnimation.save(\"zero_potential_dense_0.mp4\")"
   ]
  },
  {
   "cell_type": "code",
   "execution_count": null,
   "id": "2f2597fb-5a58-4bed-9444-f90140c7597d",
   "metadata": {},
   "outputs": [],
   "source": []
  }
 ],
 "metadata": {
  "kernelspec": {
   "display_name": "Python 3 (ipykernel)",
   "language": "python",
   "name": "python3"
  },
  "language_info": {
   "codemirror_mode": {
    "name": "ipython",
    "version": 3
   },
   "file_extension": ".py",
   "mimetype": "text/x-python",
   "name": "python",
   "nbconvert_exporter": "python",
   "pygments_lexer": "ipython3",
   "version": "3.10.8"
  }
 },
 "nbformat": 4,
 "nbformat_minor": 5
}
