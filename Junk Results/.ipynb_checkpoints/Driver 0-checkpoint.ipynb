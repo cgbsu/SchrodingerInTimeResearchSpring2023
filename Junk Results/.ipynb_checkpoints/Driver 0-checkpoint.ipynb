{
 "cells": [
  {
   "cell_type": "code",
   "execution_count": 1,
   "id": "df4329a4-ad5e-4816-8011-1ceb7b865644",
   "metadata": {},
   "outputs": [],
   "source": [
    "%matplotlib widget"
   ]
  },
  {
   "cell_type": "code",
   "execution_count": 2,
   "id": "cf6c7a59-133a-4874-9420-a262a3c9fe25",
   "metadata": {},
   "outputs": [],
   "source": [
    "from libschrodinger.crank_nicolson_2d import *"
   ]
  },
  {
   "cell_type": "code",
   "execution_count": 3,
   "id": "1d6992dd-60eb-4133-b81c-b856977c126a",
   "metadata": {},
   "outputs": [],
   "source": [
    "import numpy as np"
   ]
  },
  {
   "cell_type": "code",
   "execution_count": null,
   "id": "aad5f901-c59e-4c05-9566-2880829f0011",
   "metadata": {},
   "outputs": [],
   "source": []
  },
  {
   "cell_type": "code",
   "execution_count": 4,
   "id": "d8aed580-5d0d-48c6-b4fb-dab8810208db",
   "metadata": {},
   "outputs": [],
   "source": [
    "def tunnelCase(position, where, width, potential = 1): \n",
    "    return np.where(\n",
    "            (position.x > where) & (position.x < (where + width)), \n",
    "            potential, \n",
    "            0, \n",
    "        )"
   ]
  },
  {
   "cell_type": "code",
   "execution_count": 5,
   "id": "0eed4492-a1f2-4a31-895c-8208f70e6db6",
   "metadata": {},
   "outputs": [],
   "source": [
    "def hydrogenAtom(position, potential, bottom = 1): \n",
    "    return potential / np.sqrt(\n",
    "            (position.x / 2) ** 2 \\\n",
    "            + (position.y / 2) ** 2 \\\n",
    "            + bottom ** 2 \\\n",
    "        )"
   ]
  },
  {
   "cell_type": "code",
   "execution_count": 6,
   "id": "59f1f8d4-5cbd-4996-bd44-570850050d96",
   "metadata": {},
   "outputs": [],
   "source": [
    "def doubleSlit(position, where, width, slitHeight, gapHeight, potential = 1, math=np): \n",
    "    totalY = math.max(position.y)\n",
    "    return math.where(\n",
    "            (position.x > where) & (position.x < (where + width)) \n",
    "                    & ( \\\n",
    "                            (position.y > ((totalY / 2) + (gapHeight + slitHeight))) \\\n",
    "                            | (position.y < ((totalY / 2) - (gapHeight + slitHeight))) \\\n",
    "                            | ( \\\n",
    "                               (position.y > ((totalY / 2) - gapHeight)) \\\n",
    "                               & (position.y < ((totalY / 2) + gapHeight)) \\\n",
    "                              )\n",
    "                      ), \n",
    "            potential, \n",
    "            0, \n",
    "        )"
   ]
  },
  {
   "cell_type": "code",
   "execution_count": 7,
   "id": "d7055a0c-6136-4835-88f7-d0e080b4d05c",
   "metadata": {},
   "outputs": [],
   "source": [
    "def constantPotentials(position, lengthRatios, potentialRatios, basePotential, math = np, epsilon = 1e-16): \n",
    "    regionCount = len(lengthRatios)\n",
    "    assert regionCount == len(potentialRatios)\n",
    "    assert (math.sum(lengthRatios) - 1.0) < epsilon\n",
    "    potential = position.x * 0.0\n",
    "    basePosition = math.min(position.x)\n",
    "    xExtent = math.abs(math.max(position.x) - basePosition)\n",
    "    for ii in range(regionCount): \n",
    "        regionEnd = basePosition + (xExtent * lengthRatios[ii])\n",
    "        potential = math.where(\n",
    "                (position.x >= basePosition) & (position.x < regionEnd), \n",
    "                potentialRatios[ii] * basePotential, \n",
    "                potential\n",
    "            )\n",
    "        basePosition = regionEnd\n",
    "    return potential"
   ]
  },
  {
   "cell_type": "code",
   "execution_count": null,
   "id": "909df963-701e-41cb-9560-91d6d47eedcd",
   "metadata": {},
   "outputs": [],
   "source": []
  },
  {
   "cell_type": "code",
   "execution_count": 8,
   "id": "6d98a8fe-d452-4992-971e-3ad99963a5c7",
   "metadata": {},
   "outputs": [
    {
     "name": "stdout",
     "output_type": "stream",
     "text": [
      "Point Count:  100\n"
     ]
    }
   ],
   "source": [
    "spatialStep : float = 1e-2\n",
    "temporalStep : float = (spatialStep ** 2) / 4\n",
    "courantNumber : float = 1.0\n",
    "pointCount : int = int(1 / spatialStep)\n",
    "potentialHeight : float = 20000\n",
    "print(\"Point Count: \", pointCount)\n",
    "packetStartX : float = .8\n",
    "packetStartY : float = .5\n",
    "packetStandardDeviation : float = .05\n",
    "packetWaveNumber : float = 15 * np.pi\n",
    "stairWidth : float = packetStandardDeviation * 2\n",
    "barrierWidth : float = stairWidth\n",
    "stairCount : int = 3\n",
    "stairwellStart : float = (packetStartX - stairCount * stairWidth) / 2\n",
    "barrierStart : float = stairwellStart + stairWidth\n",
    "constantStairwellLengthRatios : List[float] = [barrierStart, stairWidth, stairWidth, stairWidth, stairwellStart]\n",
    "constantStairwellPotentialRatios : List[float] = [0, 0, 0, 1, 0]\n",
    "frameCount : int = 500\n",
    "backend = \"numpy\""
   ]
  },
  {
   "cell_type": "code",
   "execution_count": null,
   "id": "f158a1d1-bd32-4430-b6a9-a0d31387957a",
   "metadata": {},
   "outputs": [],
   "source": []
  },
  {
   "cell_type": "code",
   "execution_count": 9,
   "id": "d6505c64-437d-4b75-ae30-605ef95b7e71",
   "metadata": {
    "tags": []
   },
   "outputs": [],
   "source": [
    "def dynamicPotentials(position, time, totalTime, delay, lengthRatios, potentialRatios, potentialHeight):\n",
    "        timeScalar = 0.0 if time < delay else np.sin(((time - delay) / (totalTime - delay)) * np.pi)\n",
    "        return constantPotentials(\n",
    "                position, \n",
    "                lengthRatios, \n",
    "                potentialRatios, \n",
    "                potentialHeight * timeScalar\n",
    "            ) \n"
   ]
  },
  {
   "cell_type": "code",
   "execution_count": 10,
   "id": "46233ae6-ffdd-4114-baca-edb03b7caa45",
   "metadata": {},
   "outputs": [
    {
     "ename": "KeyboardInterrupt",
     "evalue": "",
     "output_type": "error",
     "traceback": [
      "\u001b[0;31m---------------------------------------------------------------------------\u001b[0m",
      "\u001b[0;31mKeyboardInterrupt\u001b[0m                         Traceback (most recent call last)",
      "Cell \u001b[0;32mIn[10], line 28\u001b[0m\n\u001b[1;32m      2\u001b[0m profile \u001b[38;5;241m=\u001b[39m SimulationProfile(\n\u001b[1;32m      3\u001b[0m         makeLinspaceGrid(pointCount, \u001b[38;5;241m1\u001b[39m, \u001b[38;5;241m2\u001b[39m, \u001b[38;5;28;01mFalse\u001b[39;00m, \u001b[38;5;28mfloat\u001b[39m, np), \n\u001b[1;32m      4\u001b[0m         \u001b[38;5;28;01mlambda\u001b[39;00m position : makeWavePacket(\n\u001b[0;32m   (...)\u001b[0m\n\u001b[1;32m     25\u001b[0m         \u001b[38;5;28;01mTrue\u001b[39;00m\n\u001b[1;32m     26\u001b[0m     )\n\u001b[1;32m     27\u001b[0m simulator \u001b[38;5;241m=\u001b[39m Simulator(profile)\n\u001b[0;32m---> 28\u001b[0m \u001b[43msimulator\u001b[49m\u001b[38;5;241;43m.\u001b[39;49m\u001b[43msimulate\u001b[49m\u001b[43m(\u001b[49m\u001b[43mframeCount\u001b[49m\u001b[43m,\u001b[49m\u001b[43m \u001b[49m\u001b[38;5;28;43;01mFalse\u001b[39;49;00m\u001b[43m)\u001b[49m\n\u001b[1;32m     29\u001b[0m probabilities, probabilityDecibles \u001b[38;5;241m=\u001b[39m simulator\u001b[38;5;241m.\u001b[39mprocessProbabilities()\n",
      "File \u001b[0;32m/home/jovyan/work/SchrodingerInTime3D/libschrodinger/crank_nicolson_2d.py:322\u001b[0m, in \u001b[0;36mSimulator.simulate\u001b[0;34m(self, timePoints, printProgress)\u001b[0m\n\u001b[1;32m    320\u001b[0m knownStepMatrix \u001b[38;5;241m=\u001b[39m createCurrentStepMatrix(\u001b[38;5;28mself\u001b[39m, \u001b[38;5;28mself\u001b[39m\u001b[38;5;241m.\u001b[39mpotentials[\u001b[38;5;241m-\u001b[39m\u001b[38;5;241m2\u001b[39m])\n\u001b[1;32m    321\u001b[0m unknownStepMatrix \u001b[38;5;241m=\u001b[39m createNextStepMatrix(\u001b[38;5;28mself\u001b[39m, \u001b[38;5;28mself\u001b[39m\u001b[38;5;241m.\u001b[39mpotentials[\u001b[38;5;241m-\u001b[39m\u001b[38;5;241m1\u001b[39m])\n\u001b[0;32m--> 322\u001b[0m \u001b[38;5;28;43mself\u001b[39;49m\u001b[38;5;241;43m.\u001b[39;49m\u001b[43mcompute\u001b[49m\u001b[43m(\u001b[49m\u001b[43mtime\u001b[49m\u001b[43m,\u001b[49m\u001b[43m \u001b[49m\u001b[43munknownStepMatrix\u001b[49m\u001b[43m,\u001b[49m\u001b[43m \u001b[49m\u001b[43mknownStepMatrix\u001b[49m\u001b[43m)\u001b[49m\n\u001b[1;32m    323\u001b[0m time \u001b[38;5;241m=\u001b[39m (ii \u001b[38;5;241m+\u001b[39m \u001b[38;5;241m1\u001b[39m) \u001b[38;5;241m*\u001b[39m timeStep\n\u001b[1;32m    324\u001b[0m \u001b[38;5;28;01mif\u001b[39;00m printProgress \u001b[38;5;241m==\u001b[39m \u001b[38;5;28;01mTrue\u001b[39;00m: \n",
      "File \u001b[0;32m/home/jovyan/work/SchrodingerInTime3D/libschrodinger/crank_nicolson_2d.py:304\u001b[0m, in \u001b[0;36mSimulator.compute\u001b[0;34m(self, time, unknownStepMatrix, knownStepMatrix)\u001b[0m\n\u001b[1;32m    302\u001b[0m independantTerms \u001b[38;5;241m=\u001b[39m knownStepMatrix \u001b[38;5;241m@\u001b[39m waveFunctionVector \n\u001b[1;32m    303\u001b[0m \u001b[38;5;66;03m#independantTerms = math.matmul(knownStepMatrix, waveFunctionVector)\u001b[39;00m\n\u001b[0;32m--> 304\u001b[0m nextWaveFunction \u001b[38;5;241m=\u001b[39m \u001b[38;5;28;43mself\u001b[39;49m\u001b[38;5;241;43m.\u001b[39;49m\u001b[43mlinalg\u001b[49m\u001b[38;5;241;43m.\u001b[39;49m\u001b[43mspsolve\u001b[49m\u001b[43m(\u001b[49m\n\u001b[1;32m    305\u001b[0m \u001b[43m            \u001b[49m\u001b[43msparse\u001b[49m\u001b[38;5;241;43m.\u001b[39;49m\u001b[43mcsr_matrix\u001b[49m\u001b[43m(\u001b[49m\u001b[43munknownStepMatrix\u001b[49m\u001b[43m)\u001b[49m\u001b[43m,\u001b[49m\u001b[43m \u001b[49m\n\u001b[1;32m    306\u001b[0m \u001b[43m            \u001b[49m\u001b[43mindependantTerms\u001b[49m\n\u001b[1;32m    307\u001b[0m \u001b[43m    \u001b[49m\u001b[43m)\u001b[49m\u001b[38;5;241m.\u001b[39mreshape(\u001b[38;5;28mtuple\u001b[39m([\u001b[38;5;28mself\u001b[39m\u001b[38;5;241m.\u001b[39mgrid\u001b[38;5;241m.\u001b[39mpointCount \u001b[38;5;241m-\u001b[39m \u001b[38;5;241m2\u001b[39m] \u001b[38;5;241m*\u001b[39m \u001b[38;5;28mself\u001b[39m\u001b[38;5;241m.\u001b[39mdimensions),)\n\u001b[1;32m    308\u001b[0m \u001b[38;5;28mself\u001b[39m\u001b[38;5;241m.\u001b[39mwaveFunctions\u001b[38;5;241m.\u001b[39mappend(math\u001b[38;5;241m.\u001b[39mpad(nextWaveFunction, \u001b[38;5;241m1\u001b[39m))\n\u001b[1;32m    309\u001b[0m \u001b[38;5;28;01mreturn\u001b[39;00m \u001b[38;5;28mself\u001b[39m\u001b[38;5;241m.\u001b[39mwaveFunctions[\u001b[38;5;241m-\u001b[39m\u001b[38;5;241m1\u001b[39m], \u001b[38;5;28mself\u001b[39m\u001b[38;5;241m.\u001b[39mpotentials[\u001b[38;5;241m-\u001b[39m\u001b[38;5;241m1\u001b[39m]\n",
      "File \u001b[0;32m/opt/conda/lib/python3.10/site-packages/scipy/sparse/linalg/_dsolve/linsolve.py:273\u001b[0m, in \u001b[0;36mspsolve\u001b[0;34m(A, b, permc_spec, use_umfpack)\u001b[0m\n\u001b[1;32m    270\u001b[0m     flag \u001b[38;5;241m=\u001b[39m \u001b[38;5;241m0\u001b[39m  \u001b[38;5;66;03m# CSR format\u001b[39;00m\n\u001b[1;32m    272\u001b[0m options \u001b[38;5;241m=\u001b[39m \u001b[38;5;28mdict\u001b[39m(ColPerm\u001b[38;5;241m=\u001b[39mpermc_spec)\n\u001b[0;32m--> 273\u001b[0m x, info \u001b[38;5;241m=\u001b[39m \u001b[43m_superlu\u001b[49m\u001b[38;5;241;43m.\u001b[39;49m\u001b[43mgssv\u001b[49m\u001b[43m(\u001b[49m\u001b[43mN\u001b[49m\u001b[43m,\u001b[49m\u001b[43m \u001b[49m\u001b[43mA\u001b[49m\u001b[38;5;241;43m.\u001b[39;49m\u001b[43mnnz\u001b[49m\u001b[43m,\u001b[49m\u001b[43m \u001b[49m\u001b[43mA\u001b[49m\u001b[38;5;241;43m.\u001b[39;49m\u001b[43mdata\u001b[49m\u001b[43m,\u001b[49m\u001b[43m \u001b[49m\u001b[43mA\u001b[49m\u001b[38;5;241;43m.\u001b[39;49m\u001b[43mindices\u001b[49m\u001b[43m,\u001b[49m\u001b[43m \u001b[49m\u001b[43mA\u001b[49m\u001b[38;5;241;43m.\u001b[39;49m\u001b[43mindptr\u001b[49m\u001b[43m,\u001b[49m\n\u001b[1;32m    274\u001b[0m \u001b[43m                        \u001b[49m\u001b[43mb\u001b[49m\u001b[43m,\u001b[49m\u001b[43m \u001b[49m\u001b[43mflag\u001b[49m\u001b[43m,\u001b[49m\u001b[43m \u001b[49m\u001b[43moptions\u001b[49m\u001b[38;5;241;43m=\u001b[39;49m\u001b[43moptions\u001b[49m\u001b[43m)\u001b[49m\n\u001b[1;32m    275\u001b[0m \u001b[38;5;28;01mif\u001b[39;00m info \u001b[38;5;241m!=\u001b[39m \u001b[38;5;241m0\u001b[39m:\n\u001b[1;32m    276\u001b[0m     warn(\u001b[38;5;124m\"\u001b[39m\u001b[38;5;124mMatrix is exactly singular\u001b[39m\u001b[38;5;124m\"\u001b[39m, MatrixRankWarning)\n",
      "\u001b[0;31mKeyboardInterrupt\u001b[0m: "
     ]
    }
   ],
   "source": [
    "assert (temporalStep / spatialStep) <= courantNumber\n",
    "profile = SimulationProfile(\n",
    "        makeLinspaceGrid(pointCount, 1, 2, False, float, np), \n",
    "        lambda position : makeWavePacket(\n",
    "                position, \n",
    "                packetStartX, \n",
    "                packetStartY, \n",
    "                spatialStep, \n",
    "                packetStandardDeviation, \n",
    "                packetWaveNumber, \n",
    "                np\n",
    "            ), \n",
    "        lambda position, time : dynamicPotentials(\n",
    "                    position, \n",
    "                    time, \n",
    "                    temporalStep * frameCount, \n",
    "                    temporalStep * frameCount / 2.5, \n",
    "                    constantStairwellLengthRatios, \n",
    "                    constantStairwellPotentialRatios, \n",
    "                    potentialHeight\n",
    "            ), \n",
    "        temporalStep, \n",
    "        spatialStep, \n",
    "        False, \n",
    "        True\n",
    "    )\n",
    "simulator = Simulator(profile)\n",
    "simulator.simulate(frameCount, False)\n",
    "probabilities, probabilityDecibles = simulator.processProbabilities()"
   ]
  },
  {
   "cell_type": "code",
   "execution_count": null,
   "id": "2037ef67-cf5f-4f5f-a97c-8ff9106c7fb7",
   "metadata": {},
   "outputs": [],
   "source": []
  },
  {
   "cell_type": "code",
   "execution_count": null,
   "id": "6db51e96-793f-46f9-8318-ecc4708c0e92",
   "metadata": {},
   "outputs": [],
   "source": []
  },
  {
   "cell_type": "code",
   "execution_count": null,
   "id": "695e8ee6-562c-4736-935b-2d65eac9f2bf",
   "metadata": {},
   "outputs": [],
   "source": [
    "potentialAnimation = animateImages(pointCount, simulator.potentials, 10, 0, potentialHeight)"
   ]
  },
  {
   "cell_type": "code",
   "execution_count": null,
   "id": "3d69fa61-73e5-4f2f-a773-5c54f0899c1b",
   "metadata": {},
   "outputs": [],
   "source": [
    "waveAnimation = animateImages(pointCount, simulator.probabilities, interval = 10)"
   ]
  },
  {
   "cell_type": "code",
   "execution_count": null,
   "id": "cdee3510-e2fc-4d4c-8a5d-d6fb9c25acbb",
   "metadata": {},
   "outputs": [],
   "source": [
    "postBarrierProbabilities, postBarrierCutFrames = totalProbabilityInRegion(\n",
    "        probabilities, \n",
    "        pointCount, \n",
    "        spatialStep, \n",
    "        0, \n",
    "        0, \n",
    "        barrierStart, \n",
    "        1\n",
    "    )"
   ]
  },
  {
   "cell_type": "code",
   "execution_count": null,
   "id": "cba979f4-eea3-4351-b4de-cd0cdea890ec",
   "metadata": {},
   "outputs": [],
   "source": [
    "preBarrierProbabilities, preBarrierCutFrames = totalProbabilityInRegion(\n",
    "        probabilities, \n",
    "        pointCount, \n",
    "        spatialStep, \n",
    "        barrierStart + barrierWidth, \n",
    "        0, \n",
    "        1 - (barrierStart + barrierWidth), \n",
    "        1\n",
    "    )"
   ]
  },
  {
   "cell_type": "code",
   "execution_count": null,
   "id": "553e973e-77f8-4efa-9ec0-88121021cc3d",
   "metadata": {},
   "outputs": [],
   "source": [
    "intraBarrierProbabilities, intraBarrierCutFrames = totalProbabilityInRegion(\n",
    "        probabilities, \n",
    "        pointCount, \n",
    "        spatialStep, \n",
    "        barrierStart, \n",
    "        0, \n",
    "        barrierWidth, \n",
    "        1\n",
    "    )"
   ]
  },
  {
   "cell_type": "code",
   "execution_count": null,
   "id": "8fd4fd33-8a2f-420f-9daf-7aac5597f92b",
   "metadata": {},
   "outputs": [],
   "source": [
    "cutAnimationPostBarrier = animateImages(pointCount, postBarrierCutFrames, interval = 50)"
   ]
  },
  {
   "cell_type": "code",
   "execution_count": null,
   "id": "2a47d0ca-1300-441d-969f-6ab0852c1b82",
   "metadata": {},
   "outputs": [],
   "source": [
    "cutAnimationPreBarrier = animateImages(pointCount, preBarrierCutFrames, interval = 50)"
   ]
  },
  {
   "cell_type": "code",
   "execution_count": null,
   "id": "db800f8b-ff4d-4506-a274-280b85f77652",
   "metadata": {},
   "outputs": [],
   "source": [
    "cutAnimationIntraBarrier = animateImages(pointCount, intraBarrierCutFrames, interval = 50)"
   ]
  },
  {
   "cell_type": "code",
   "execution_count": null,
   "id": "f06c4e3e-025b-49fa-a247-f2db95797814",
   "metadata": {},
   "outputs": [],
   "source": [
    "plt.figure()\n",
    "time = np.arange(len(postBarrierProbabilities))\n",
    "plt.plot(time, postBarrierProbabilities)\n",
    "plt.plot(time, preBarrierProbabilities)\n",
    "plt.plot(time, intraBarrierProbabilities)\n",
    "plt.plot(time, postBarrierProbabilities + intraBarrierProbabilities + preBarrierProbabilities)\n",
    "plt.legend([\n",
    "        \"Post-Barrier Probabilities\", \n",
    "        \"Pre-Barrier Probabilities\", \n",
    "        \"Intra-Barrier Probabilities\", \n",
    "        \"Total Probability\"\n",
    "    ])\n",
    "plt.xlabel(\"Time\")\n",
    "plt.ylabel(\"Probability\")\n",
    "plt.title(\"Stairwell Measured by Quantum Tunneling Regions: Total Probability in Different Regions\")"
   ]
  },
  {
   "cell_type": "code",
   "execution_count": null,
   "id": "c5abaeaf-c0fa-4bbd-8bd6-760fef1b6d38",
   "metadata": {},
   "outputs": [],
   "source": [
    "import pandas as pd"
   ]
  },
  {
   "cell_type": "code",
   "execution_count": null,
   "id": "281e2de0-2586-4628-909d-24083e7973f0",
   "metadata": {},
   "outputs": [],
   "source": [
    "frame = pd.DataFrame({\n",
    "        \"Post-Barrier-Probabilities\" : postBarrierProbabilities, \n",
    "        \"Pre-Barrier-Probabilities\" : preBarrierProbabilities, \n",
    "        \"Intra-Barrier-Probabilities\" : intraBarrierProbabilities, \n",
    "        \"Total-Probability\" :  postBarrierProbabilities + intraBarrierProbabilities + preBarrierProbabilities, \n",
    "        \"Time\" : time, \n",
    "        \"spatialStep\" : spatialStep, \n",
    "        \"temporalStep\" : temporalStep, \n",
    "        \"courantNumber\" : courantNumber, \n",
    "        \"pointCount\" : pointCount, \n",
    "        \"barrierStart\" : barrierStart, \n",
    "        \"barrierWidth\" : barrierWidth, \n",
    "        \"potentialHeight\" : potentialHeight, \n",
    "        \"packetStartX\" : packetStartX, \n",
    "        \"packetStartY\" : packetStartY, \n",
    "        \"packetStandardDeviation\" : packetStandardDeviation, \n",
    "        \"packetWaveNumber\" : packetWaveNumber, \n",
    "        \"constantStairwellLengthRatios\" : str(constantStairwellLengthRatios), \n",
    "        \"constantStairwellPotentialRatios\" : str(constantStairwellPotentialRatios), \n",
    "        \"backend\" : backend, \n",
    "    })"
   ]
  },
  {
   "cell_type": "code",
   "execution_count": null,
   "id": "07a279ff-1ad7-4699-a816-a6b620e108cb",
   "metadata": {},
   "outputs": [],
   "source": []
  },
  {
   "cell_type": "code",
   "execution_count": null,
   "id": "8cb84888-c8d1-4895-9522-87349664e235",
   "metadata": {},
   "outputs": [],
   "source": [
    "frame.to_csv(\"Driver0.csv\")"
   ]
  },
  {
   "cell_type": "code",
   "execution_count": null,
   "id": "8a78676b-4457-4bd5-a885-440de4f2113c",
   "metadata": {},
   "outputs": [],
   "source": [
    "waveAnimation.save(\"Driver0.mp4\")"
   ]
  },
  {
   "cell_type": "code",
   "execution_count": null,
   "id": "2f2597fb-5a58-4bed-9444-f90140c7597d",
   "metadata": {},
   "outputs": [],
   "source": [
    "waveAnimation.save(\"DriverPotential0.mp4\")"
   ]
  },
  {
   "cell_type": "code",
   "execution_count": null,
   "id": "aedfaea4-8113-41f5-94c1-5034da45f45d",
   "metadata": {},
   "outputs": [],
   "source": []
  }
 ],
 "metadata": {
  "kernelspec": {
   "display_name": "Python 3 (ipykernel)",
   "language": "python",
   "name": "python3"
  },
  "language_info": {
   "codemirror_mode": {
    "name": "ipython",
    "version": 3
   },
   "file_extension": ".py",
   "mimetype": "text/x-python",
   "name": "python",
   "nbconvert_exporter": "python",
   "pygments_lexer": "ipython3",
   "version": "3.10.8"
  }
 },
 "nbformat": 4,
 "nbformat_minor": 5
}
