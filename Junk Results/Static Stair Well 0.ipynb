{
 "cells": [
  {
   "cell_type": "code",
   "execution_count": 2,
   "id": "df4329a4-ad5e-4816-8011-1ceb7b865644",
   "metadata": {},
   "outputs": [],
   "source": [
    "%matplotlib widget"
   ]
  },
  {
   "cell_type": "code",
   "execution_count": 3,
   "id": "cf6c7a59-133a-4874-9420-a262a3c9fe25",
   "metadata": {},
   "outputs": [],
   "source": [
    "from crank_nicolson_2d import *"
   ]
  },
  {
   "cell_type": "code",
   "execution_count": 4,
   "id": "1d6992dd-60eb-4133-b81c-b856977c126a",
   "metadata": {},
   "outputs": [],
   "source": [
    "import numpy as np"
   ]
  },
  {
   "cell_type": "code",
   "execution_count": null,
   "id": "aad5f901-c59e-4c05-9566-2880829f0011",
   "metadata": {},
   "outputs": [],
   "source": []
  },
  {
   "cell_type": "code",
   "execution_count": 5,
   "id": "d8aed580-5d0d-48c6-b4fb-dab8810208db",
   "metadata": {},
   "outputs": [],
   "source": [
    "def tunnelCase(position, where, width, potential = 1): \n",
    "    return np.where(\n",
    "            (position.x > where) & (position.x < (where + width)), \n",
    "            potential, \n",
    "            0, \n",
    "        )"
   ]
  },
  {
   "cell_type": "code",
   "execution_count": 6,
   "id": "0eed4492-a1f2-4a31-895c-8208f70e6db6",
   "metadata": {},
   "outputs": [],
   "source": [
    "def hydrogenAtom(position, potential, bottom = 1): \n",
    "    return potential / np.sqrt(\n",
    "            (position.x / 2) ** 2 \\\n",
    "            + (position.y / 2) ** 2 \\\n",
    "            + bottom ** 2 \\\n",
    "        )"
   ]
  },
  {
   "cell_type": "code",
   "execution_count": 7,
   "id": "59f1f8d4-5cbd-4996-bd44-570850050d96",
   "metadata": {},
   "outputs": [],
   "source": [
    "def doubleSlit(position, where, width, slitHeight, gapHeight, potential = 1, math=np): \n",
    "    totalY = math.max(position.y)\n",
    "    return math.where(\n",
    "            (position.x > where) & (position.x < (where + width)) \n",
    "                    & ( \\\n",
    "                            (position.y > ((totalY / 2) + (gapHeight + slitHeight))) \\\n",
    "                            | (position.y < ((totalY / 2) - (gapHeight + slitHeight))) \\\n",
    "                            | ( \\\n",
    "                               (position.y > ((totalY / 2) - gapHeight)) \\\n",
    "                               & (position.y < ((totalY / 2) + gapHeight)) \\\n",
    "                              )\n",
    "                      ), \n",
    "            potential, \n",
    "            0, \n",
    "        )"
   ]
  },
  {
   "cell_type": "code",
   "execution_count": 27,
   "id": "d7055a0c-6136-4835-88f7-d0e080b4d05c",
   "metadata": {},
   "outputs": [],
   "source": [
    "def constantPotentials(position, lengthRatios, potentialRatios, basePotential, math = np, epsilon = 1e-16): \n",
    "    regionCount = len(lengthRatios)\n",
    "    assert regionCount == len(potentialRatios)\n",
    "    assert (math.sum(lengthRatios) - 1.0) < epsilon\n",
    "    potential = position.x * 0.0\n",
    "    basePosition = math.max(position.x)\n",
    "    xExtent = math.abs(basePosition - math.min(position.x))\n",
    "    for ii in range(regionCount): \n",
    "        regionEnd = basePosition + (xExtent * lengthRatios[ii])\n",
    "        potential = math.where(\n",
    "                (position.x >= basePosition) & (position.x < regionEnd), \n",
    "                potentialRatios[ii] * basePotential, \n",
    "                potential\n",
    "            )\n",
    "        basePosition = regionEnd\n",
    "    return potential"
   ]
  },
  {
   "cell_type": "code",
   "execution_count": null,
   "id": "909df963-701e-41cb-9560-91d6d47eedcd",
   "metadata": {},
   "outputs": [],
   "source": []
  },
  {
   "cell_type": "code",
   "execution_count": 28,
   "id": "6d98a8fe-d452-4992-971e-3ad99963a5c7",
   "metadata": {},
   "outputs": [
    {
     "name": "stdout",
     "output_type": "stream",
     "text": [
      "Point Count:  100\n"
     ]
    }
   ],
   "source": [
    "spatialStep : float = 1e-2\n",
    "temporalStep : float = (spatialStep ** 2) / 4\n",
    "courantNumber : float = 1.0\n",
    "pointCount : int = int(1 / spatialStep)\n",
    "barrierStart : float = .5\n",
    "barrierWidth : float = .1\n",
    "potentialHeight : float = 20000\n",
    "print(\"Point Count: \", pointCount)\n",
    "packetStartX : float = .8\n",
    "packetStartY : float = .5\n",
    "packetStandardDeviation : float = .05\n",
    "packetWaveNumber : float = 15 * np.pi\n",
    "constantStairwellLengthRatios : List[float] = [2 / 7, 1 / 7, 1 / 7, 1 / 7, 2 / 7]\n",
    "constantStairwellPotentialRatios : List[float] = [0, 1 / 3, 2 / 3, 1, 0]\n",
    "backend = \"numpy\""
   ]
  },
  {
   "cell_type": "code",
   "execution_count": 29,
   "id": "46233ae6-ffdd-4114-baca-edb03b7caa45",
   "metadata": {},
   "outputs": [
    {
     "ename": "KeyboardInterrupt",
     "evalue": "",
     "output_type": "error",
     "traceback": [
      "\u001b[0;31m---------------------------------------------------------------------------\u001b[0m",
      "\u001b[0;31mKeyboardInterrupt\u001b[0m                         Traceback (most recent call last)",
      "Cell \u001b[0;32mIn[29], line 25\u001b[0m\n\u001b[1;32m      2\u001b[0m profile \u001b[38;5;241m=\u001b[39m SimulationProfile(\n\u001b[1;32m      3\u001b[0m         makeLinspaceGrid(pointCount, \u001b[38;5;241m1\u001b[39m, \u001b[38;5;241m2\u001b[39m, \u001b[38;5;28;01mFalse\u001b[39;00m, \u001b[38;5;28mfloat\u001b[39m, np), \n\u001b[1;32m      4\u001b[0m         \u001b[38;5;28;01mlambda\u001b[39;00m position : makeWavePacket(\n\u001b[0;32m   (...)\u001b[0m\n\u001b[1;32m     22\u001b[0m         \u001b[38;5;28;01mTrue\u001b[39;00m\n\u001b[1;32m     23\u001b[0m     )\n\u001b[1;32m     24\u001b[0m simulator \u001b[38;5;241m=\u001b[39m Simulator(profile)\n\u001b[0;32m---> 25\u001b[0m \u001b[43msimulator\u001b[49m\u001b[38;5;241;43m.\u001b[39;49m\u001b[43msimulate\u001b[49m\u001b[43m(\u001b[49m\u001b[38;5;241;43m500\u001b[39;49m\u001b[43m,\u001b[49m\u001b[43m \u001b[49m\u001b[38;5;28;43;01mFalse\u001b[39;49;00m\u001b[43m)\u001b[49m\n\u001b[1;32m     26\u001b[0m probabilities, probabilityDecibles \u001b[38;5;241m=\u001b[39m simulator\u001b[38;5;241m.\u001b[39mprocessProbabilities()\n",
      "File \u001b[0;32m/home/jovyan/work/SchrodingerInTime3D/libschrodinger/crank_nicolson_2d.py:322\u001b[0m, in \u001b[0;36mSimulator.simulate\u001b[0;34m(self, timePoints, printProgress)\u001b[0m\n\u001b[1;32m    320\u001b[0m knownStepMatrix \u001b[38;5;241m=\u001b[39m createCurrentStepMatrix(\u001b[38;5;28mself\u001b[39m, \u001b[38;5;28mself\u001b[39m\u001b[38;5;241m.\u001b[39mpotentials[\u001b[38;5;241m-\u001b[39m\u001b[38;5;241m2\u001b[39m])\n\u001b[1;32m    321\u001b[0m unknownStepMatrix \u001b[38;5;241m=\u001b[39m createNextStepMatrix(\u001b[38;5;28mself\u001b[39m, \u001b[38;5;28mself\u001b[39m\u001b[38;5;241m.\u001b[39mpotentials[\u001b[38;5;241m-\u001b[39m\u001b[38;5;241m1\u001b[39m])\n\u001b[0;32m--> 322\u001b[0m \u001b[38;5;28;43mself\u001b[39;49m\u001b[38;5;241;43m.\u001b[39;49m\u001b[43mcompute\u001b[49m\u001b[43m(\u001b[49m\u001b[43mtime\u001b[49m\u001b[43m,\u001b[49m\u001b[43m \u001b[49m\u001b[43munknownStepMatrix\u001b[49m\u001b[43m,\u001b[49m\u001b[43m \u001b[49m\u001b[43mknownStepMatrix\u001b[49m\u001b[43m)\u001b[49m\n\u001b[1;32m    323\u001b[0m time \u001b[38;5;241m=\u001b[39m (ii \u001b[38;5;241m+\u001b[39m \u001b[38;5;241m1\u001b[39m) \u001b[38;5;241m*\u001b[39m timeStep\n\u001b[1;32m    324\u001b[0m \u001b[38;5;28;01mif\u001b[39;00m printProgress \u001b[38;5;241m==\u001b[39m \u001b[38;5;28;01mTrue\u001b[39;00m: \n",
      "File \u001b[0;32m/home/jovyan/work/SchrodingerInTime3D/libschrodinger/crank_nicolson_2d.py:304\u001b[0m, in \u001b[0;36mSimulator.compute\u001b[0;34m(self, time, unknownStepMatrix, knownStepMatrix)\u001b[0m\n\u001b[1;32m    302\u001b[0m independantTerms \u001b[38;5;241m=\u001b[39m knownStepMatrix \u001b[38;5;241m@\u001b[39m waveFunctionVector \n\u001b[1;32m    303\u001b[0m \u001b[38;5;66;03m#independantTerms = math.matmul(knownStepMatrix, waveFunctionVector)\u001b[39;00m\n\u001b[0;32m--> 304\u001b[0m nextWaveFunction \u001b[38;5;241m=\u001b[39m \u001b[38;5;28;43mself\u001b[39;49m\u001b[38;5;241;43m.\u001b[39;49m\u001b[43mlinalg\u001b[49m\u001b[38;5;241;43m.\u001b[39;49m\u001b[43mspsolve\u001b[49m\u001b[43m(\u001b[49m\n\u001b[1;32m    305\u001b[0m \u001b[43m            \u001b[49m\u001b[43msparse\u001b[49m\u001b[38;5;241;43m.\u001b[39;49m\u001b[43mcsr_matrix\u001b[49m\u001b[43m(\u001b[49m\u001b[43munknownStepMatrix\u001b[49m\u001b[43m)\u001b[49m\u001b[43m,\u001b[49m\u001b[43m \u001b[49m\n\u001b[1;32m    306\u001b[0m \u001b[43m            \u001b[49m\u001b[43mindependantTerms\u001b[49m\n\u001b[1;32m    307\u001b[0m \u001b[43m    \u001b[49m\u001b[43m)\u001b[49m\u001b[38;5;241m.\u001b[39mreshape(\u001b[38;5;28mtuple\u001b[39m([\u001b[38;5;28mself\u001b[39m\u001b[38;5;241m.\u001b[39mgrid\u001b[38;5;241m.\u001b[39mpointCount \u001b[38;5;241m-\u001b[39m \u001b[38;5;241m2\u001b[39m] \u001b[38;5;241m*\u001b[39m \u001b[38;5;28mself\u001b[39m\u001b[38;5;241m.\u001b[39mdimensions),)\n\u001b[1;32m    308\u001b[0m \u001b[38;5;28mself\u001b[39m\u001b[38;5;241m.\u001b[39mwaveFunctions\u001b[38;5;241m.\u001b[39mappend(math\u001b[38;5;241m.\u001b[39mpad(nextWaveFunction, \u001b[38;5;241m1\u001b[39m))\n\u001b[1;32m    309\u001b[0m \u001b[38;5;28;01mreturn\u001b[39;00m \u001b[38;5;28mself\u001b[39m\u001b[38;5;241m.\u001b[39mwaveFunctions[\u001b[38;5;241m-\u001b[39m\u001b[38;5;241m1\u001b[39m], \u001b[38;5;28mself\u001b[39m\u001b[38;5;241m.\u001b[39mpotentials[\u001b[38;5;241m-\u001b[39m\u001b[38;5;241m1\u001b[39m]\n",
      "File \u001b[0;32m/opt/conda/lib/python3.10/site-packages/scipy/sparse/linalg/_dsolve/linsolve.py:273\u001b[0m, in \u001b[0;36mspsolve\u001b[0;34m(A, b, permc_spec, use_umfpack)\u001b[0m\n\u001b[1;32m    270\u001b[0m     flag \u001b[38;5;241m=\u001b[39m \u001b[38;5;241m0\u001b[39m  \u001b[38;5;66;03m# CSR format\u001b[39;00m\n\u001b[1;32m    272\u001b[0m options \u001b[38;5;241m=\u001b[39m \u001b[38;5;28mdict\u001b[39m(ColPerm\u001b[38;5;241m=\u001b[39mpermc_spec)\n\u001b[0;32m--> 273\u001b[0m x, info \u001b[38;5;241m=\u001b[39m \u001b[43m_superlu\u001b[49m\u001b[38;5;241;43m.\u001b[39;49m\u001b[43mgssv\u001b[49m\u001b[43m(\u001b[49m\u001b[43mN\u001b[49m\u001b[43m,\u001b[49m\u001b[43m \u001b[49m\u001b[43mA\u001b[49m\u001b[38;5;241;43m.\u001b[39;49m\u001b[43mnnz\u001b[49m\u001b[43m,\u001b[49m\u001b[43m \u001b[49m\u001b[43mA\u001b[49m\u001b[38;5;241;43m.\u001b[39;49m\u001b[43mdata\u001b[49m\u001b[43m,\u001b[49m\u001b[43m \u001b[49m\u001b[43mA\u001b[49m\u001b[38;5;241;43m.\u001b[39;49m\u001b[43mindices\u001b[49m\u001b[43m,\u001b[49m\u001b[43m \u001b[49m\u001b[43mA\u001b[49m\u001b[38;5;241;43m.\u001b[39;49m\u001b[43mindptr\u001b[49m\u001b[43m,\u001b[49m\n\u001b[1;32m    274\u001b[0m \u001b[43m                        \u001b[49m\u001b[43mb\u001b[49m\u001b[43m,\u001b[49m\u001b[43m \u001b[49m\u001b[43mflag\u001b[49m\u001b[43m,\u001b[49m\u001b[43m \u001b[49m\u001b[43moptions\u001b[49m\u001b[38;5;241;43m=\u001b[39;49m\u001b[43moptions\u001b[49m\u001b[43m)\u001b[49m\n\u001b[1;32m    275\u001b[0m \u001b[38;5;28;01mif\u001b[39;00m info \u001b[38;5;241m!=\u001b[39m \u001b[38;5;241m0\u001b[39m:\n\u001b[1;32m    276\u001b[0m     warn(\u001b[38;5;124m\"\u001b[39m\u001b[38;5;124mMatrix is exactly singular\u001b[39m\u001b[38;5;124m\"\u001b[39m, MatrixRankWarning)\n",
      "\u001b[0;31mKeyboardInterrupt\u001b[0m: "
     ]
    }
   ],
   "source": [
    "assert (temporalStep / spatialStep) <= courantNumber\n",
    "profile = SimulationProfile(\n",
    "        makeLinspaceGrid(pointCount, 1, 2, False, float, np), \n",
    "        lambda position : makeWavePacket(\n",
    "                position, \n",
    "                packetStartX, \n",
    "                packetStartY, \n",
    "                spatialStep, \n",
    "                packetStandardDeviation, \n",
    "                packetWaveNumber, \n",
    "                np\n",
    "            ), \n",
    "        lambda position, time : constantPotentials(\n",
    "                position, \n",
    "                constantStairwellLengthRatios, \n",
    "                constantStairwellPotentialRatios, \n",
    "                potentialHeight\n",
    "            ), \n",
    "        temporalStep, \n",
    "        spatialStep, \n",
    "        False, \n",
    "        True\n",
    "    )\n",
    "simulator = Simulator(profile)\n",
    "simulator.simulate(500, False)\n",
    "probabilities, probabilityDecibles = simulator.processProbabilities()"
   ]
  },
  {
   "cell_type": "code",
   "execution_count": null,
   "id": "10fb7d88-f359-43bc-90a9-bebde7042c5b",
   "metadata": {},
   "outputs": [],
   "source": []
  },
  {
   "cell_type": "code",
   "execution_count": 17,
   "id": "695e8ee6-562c-4736-935b-2d65eac9f2bf",
   "metadata": {},
   "outputs": [
    {
     "data": {
      "application/vnd.jupyter.widget-view+json": {
       "model_id": "2d9c45036bb94ebdad79b644866d584a",
       "version_major": 2,
       "version_minor": 0
      },
      "image/png": "[encoded data removed]",
      "text/html": [
       "\n",
       "            <div style=\"display: inline-block;\">\n",
       "                <div class=\"jupyter-widgets widget-label\" style=\"text-align: center;\">\n",
       "                    Figure\n",
       "                </div>\n",
       "                <img src='data:image/png;base64,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' width=640.0/>\n",
       "            </div>\n",
       "        "
      ],
      "text/plain": [
       "Canvas(toolbar=Toolbar(toolitems=[('Home', 'Reset original view', 'home', 'home'), ('Back', 'Back to previous …"
      ]
     },
     "metadata": {},
     "output_type": "display_data"
    }
   ],
   "source": [
    "potentialAnimation = animateImages(pointCount, simulator.potentials)"
   ]
  },
  {
   "cell_type": "code",
   "execution_count": 18,
   "id": "3d69fa61-73e5-4f2f-a773-5c54f0899c1b",
   "metadata": {},
   "outputs": [
    {
     "data": {
      "application/vnd.jupyter.widget-view+json": {
       "model_id": "d9eb365232504bec98d18af107b14168",
       "version_major": 2,
       "version_minor": 0
      },
      "image/png": "[encoded data removed]",
      "text/html": [
       "\n",
       "            <div style=\"display: inline-block;\">\n",
       "                <div class=\"jupyter-widgets widget-label\" style=\"text-align: center;\">\n",
       "                    Figure\n",
       "                </div>\n",
       "                <img src='data:image/png;base64,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' width=640.0/>\n",
       "            </div>\n",
       "        "
      ],
      "text/plain": [
       "Canvas(toolbar=Toolbar(toolitems=[('Home', 'Reset original view', 'home', 'home'), ('Back', 'Back to previous …"
      ]
     },
     "metadata": {},
     "output_type": "display_data"
    }
   ],
   "source": [
    "waveAnimation = animateImages(pointCount, simulator.probabilities, interval = 50)"
   ]
  },
  {
   "cell_type": "code",
   "execution_count": 19,
   "id": "cdee3510-e2fc-4d4c-8a5d-d6fb9c25acbb",
   "metadata": {},
   "outputs": [],
   "source": [
    "postBarrierProbabilities, postBarrierCutFrames = totalProbabilityInRegion(\n",
    "        probabilities, \n",
    "        pointCount, \n",
    "        spatialStep, \n",
    "        0, \n",
    "        0, \n",
    "        barrierStart, \n",
    "        1\n",
    "    )"
   ]
  },
  {
   "cell_type": "code",
   "execution_count": 20,
   "id": "cba979f4-eea3-4351-b4de-cd0cdea890ec",
   "metadata": {},
   "outputs": [],
   "source": [
    "preBarrierProbabilities, preBarrierCutFrames = totalProbabilityInRegion(\n",
    "        probabilities, \n",
    "        pointCount, \n",
    "        spatialStep, \n",
    "        barrierStart + barrierWidth, \n",
    "        0, \n",
    "        1 - (barrierStart + barrierWidth), \n",
    "        1\n",
    "    )"
   ]
  },
  {
   "cell_type": "code",
   "execution_count": 21,
   "id": "553e973e-77f8-4efa-9ec0-88121021cc3d",
   "metadata": {},
   "outputs": [],
   "source": [
    "intraBarrierProbabilities, intraBarrierCutFrames = totalProbabilityInRegion(\n",
    "        probabilities, \n",
    "        pointCount, \n",
    "        spatialStep, \n",
    "        barrierStart, \n",
    "        0, \n",
    "        barrierWidth, \n",
    "        1\n",
    "    )"
   ]
  },
  {
   "cell_type": "code",
   "execution_count": null,
   "id": "8fd4fd33-8a2f-420f-9daf-7aac5597f92b",
   "metadata": {},
   "outputs": [],
   "source": [
    "cutAnimationPostBarrier = animateImages(pointCount, postBarrierCutFrames, interval = 50)"
   ]
  },
  {
   "cell_type": "code",
   "execution_count": null,
   "id": "2a47d0ca-1300-441d-969f-6ab0852c1b82",
   "metadata": {},
   "outputs": [],
   "source": [
    "cutAnimationPreBarrier = animateImages(pointCount, preBarrierCutFrames, interval = 50)"
   ]
  },
  {
   "cell_type": "code",
   "execution_count": null,
   "id": "db800f8b-ff4d-4506-a274-280b85f77652",
   "metadata": {},
   "outputs": [],
   "source": [
    "cutAnimationIntraBarrier = animateImages(pointCount, intraBarrierCutFrames, interval = 50)"
   ]
  },
  {
   "cell_type": "code",
   "execution_count": null,
   "id": "f06c4e3e-025b-49fa-a247-f2db95797814",
   "metadata": {},
   "outputs": [],
   "source": [
    "plt.figure()\n",
    "time = np.arange(len(postBarrierProbabilities)) * temporalStep\n",
    "plt.plot(time, postBarrierProbabilities)\n",
    "plt.plot(time, preBarrierProbabilities)\n",
    "plt.plot(time, intraBarrierProbabilities)\n",
    "plt.plot(time, postBarrierProbabilities + intraBarrierProbabilities + preBarrierProbabilities)\n",
    "plt.legend([\n",
    "        \"Post-Barrier Probabilities\", \n",
    "        \"Pre-Barrier Probabilities\", \n",
    "        \"Intra-Barrier Probabilities\", \n",
    "        \"Total Probability\"\n",
    "    ])\n",
    "plt.xlabel(\"Time\")\n",
    "plt.ylabel(\"Probability\")\n",
    "plt.title(\"Quantum Tunneling: Total Probability in Different Regions\")"
   ]
  },
  {
   "cell_type": "code",
   "execution_count": null,
   "id": "c5abaeaf-c0fa-4bbd-8bd6-760fef1b6d38",
   "metadata": {},
   "outputs": [],
   "source": [
    "import pandas as pd"
   ]
  },
  {
   "cell_type": "code",
   "execution_count": null,
   "id": "281e2de0-2586-4628-909d-24083e7973f0",
   "metadata": {},
   "outputs": [],
   "source": [
    "frame = pd.DataFrame({\n",
    "        \"Post-Barrier-Probabilities\" : postBarrierProbabilities, \n",
    "        \"Pre-Barrier-Probabilities\" : preBarrierProbabilities, \n",
    "        \"Intra-Barrier-Probabilities\" : intraBarrierProbabilities, \n",
    "        \"Total-Probability\" :  postBarrierProbabilities + intraBarrierProbabilities + preBarrierProbabilities, \n",
    "        \"Time\" : time, \n",
    "        \"spatialStep\" : spatialStep, \n",
    "        \"temporalStep\" : temporalStep, \n",
    "        \"courantNumber\" : courantNumber, \n",
    "        \"pointCount\" : pointCount, \n",
    "        \"barrierStart\" : barrierStart, \n",
    "        \"barrierWidth\" : barrierWidth, \n",
    "        \"potentialHeight\" : potentialHeight, \n",
    "        \"packetStartX\" : packetStartX, \n",
    "        \"packetStartY\" : packetStartY, \n",
    "        \"packetStandardDeviation\" : packetStandardDeviation, \n",
    "        \"packetWaveNumber\" : packetWaveNumber, \n",
    "        \"backend\" : backend, \n",
    "    })"
   ]
  },
  {
   "cell_type": "code",
   "execution_count": null,
   "id": "07a279ff-1ad7-4699-a816-a6b620e108cb",
   "metadata": {},
   "outputs": [],
   "source": []
  },
  {
   "cell_type": "code",
   "execution_count": 23,
   "id": "8cb84888-c8d1-4895-9522-87349664e235",
   "metadata": {},
   "outputs": [],
   "source": [
    "#frame.to_csv(\"QuantumTunneling0.csv\")"
   ]
  },
  {
   "cell_type": "code",
   "execution_count": null,
   "id": "8a78676b-4457-4bd5-a885-440de4f2113c",
   "metadata": {},
   "outputs": [],
   "source": [
    "#waveAnimation.save(\"med_res_tunneling_0_unscaled.mp4\")"
   ]
  },
  {
   "cell_type": "code",
   "execution_count": null,
   "id": "2f2597fb-5a58-4bed-9444-f90140c7597d",
   "metadata": {},
   "outputs": [],
   "source": []
  }
 ],
 "metadata": {
  "kernelspec": {
   "display_name": "Python 3 (ipykernel)",
   "language": "python",
   "name": "python3"
  },
  "language_info": {
   "codemirror_mode": {
    "name": "ipython",
    "version": 3
   },
   "file_extension": ".py",
   "mimetype": "text/x-python",
   "name": "python",
   "nbconvert_exporter": "python",
   "pygments_lexer": "ipython3",
   "version": "3.10.8"
  }
 },
 "nbformat": 4,
 "nbformat_minor": 5
}
