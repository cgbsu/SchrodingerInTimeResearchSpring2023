{
 "cells": [
  {
   "cell_type": "code",
   "execution_count": 1,
   "id": "df4329a4-ad5e-4816-8011-1ceb7b865644",
   "metadata": {},
   "outputs": [],
   "source": [
    "%matplotlib widget"
   ]
  },
  {
   "cell_type": "code",
   "execution_count": 2,
   "id": "9a374f44-e92a-4154-ba76-cf3a0c680900",
   "metadata": {},
   "outputs": [],
   "source": [
    "from functools import partial"
   ]
  },
  {
   "cell_type": "code",
   "execution_count": 3,
   "id": "cf6c7a59-133a-4874-9420-a262a3c9fe25",
   "metadata": {},
   "outputs": [],
   "source": [
    "from libschrodinger.crank_nicolson_2d import *"
   ]
  },
  {
   "cell_type": "code",
   "execution_count": 4,
   "id": "3e2b1a21-6c06-4807-95cf-e01bbf8d3ac7",
   "metadata": {},
   "outputs": [],
   "source": [
    "from libschrodinger.potentials import *"
   ]
  },
  {
   "cell_type": "code",
   "execution_count": 5,
   "id": "b642f06a-8527-40d6-a333-78905408cae7",
   "metadata": {},
   "outputs": [],
   "source": [
    "from libschrodinger.campaigns import *"
   ]
  },
  {
   "cell_type": "code",
   "execution_count": 6,
   "id": "1d6992dd-60eb-4133-b81c-b856977c126a",
   "metadata": {},
   "outputs": [],
   "source": [
    "import numpy as np"
   ]
  },
  {
   "cell_type": "code",
   "execution_count": 7,
   "id": "21e2b4de-716e-4538-a449-773ba81c9616",
   "metadata": {},
   "outputs": [],
   "source": [
    "import pandas as pd"
   ]
  },
  {
   "cell_type": "code",
   "execution_count": 8,
   "id": "79eb77a0-ef23-4c2b-b3f1-5be02b97169e",
   "metadata": {},
   "outputs": [],
   "source": [
    "from pathlib import Path"
   ]
  },
  {
   "cell_type": "code",
   "execution_count": 9,
   "id": "aab3ff36-19b0-45fa-a4b6-aa2aaf9cfd3b",
   "metadata": {},
   "outputs": [],
   "source": [
    "from typing import Dict"
   ]
  },
  {
   "cell_type": "code",
   "execution_count": 10,
   "id": "aad5f901-c59e-4c05-9566-2880829f0011",
   "metadata": {},
   "outputs": [],
   "source": [
    "caseName : str = \"test\""
   ]
  },
  {
   "cell_type": "code",
   "execution_count": 11,
   "id": "6d98a8fe-d452-4992-971e-3ad99963a5c7",
   "metadata": {},
   "outputs": [
    {
     "name": "stdout",
     "output_type": "stream",
     "text": [
      "Point Count:  400\n",
      "Post Region Length:  0.3\n",
      "Intra Region Length:  0.4\n",
      "Pre Region Length:  0.3\n",
      "Barrier Length:  0.13333333333333333\n",
      "Total Length:  1.0\n",
      "Total Length Ratios:  1.0\n"
     ]
    }
   ],
   "source": [
    "math = cp\n",
    "spatialStep : float = .01\n",
    "length : float = 4\n",
    "temporalStep : float = (spatialStep ** 2) / 4\n",
    "courantNumber : float = 1.0\n",
    "pointCount : int = int(length / spatialStep)\n",
    "potentialHeight : float = 1000\n",
    "preRegionLength = .3\n",
    "preRegionScalar = 2\n",
    "packetStandardDeviation : float = preRegionLength / preRegionScalar\n",
    "packetStartX : float = 1 - ((preRegionScalar / 2) * packetStandardDeviation)\n",
    "packetStartY : float = .5\n",
    "packetWaveNumber : float = 13 * np.pi\n",
    "barrierCount : int = 3\n",
    "postRegionLength = .3\n",
    "intraRegionLength : float = 1 - (postRegionLength + preRegionLength)\n",
    "barrierWidth : float = intraRegionLength / barrierCount\n",
    "constantPotentialLengthRatios : List[float] = [postRegionLength] \\\n",
    "        + ([barrierWidth] * barrierCount) \\\n",
    "        + [preRegionLength]\n",
    "print(\"Point Count: \", pointCount)\n",
    "print(\"Post Region Length: \", postRegionLength)\n",
    "print(\"Intra Region Length: \", intraRegionLength)\n",
    "print(\"Pre Region Length: \", preRegionLength)\n",
    "print(\"Barrier Length: \", barrierWidth)\n",
    "print(\"Total Length: \", intraRegionLength + postRegionLength + preRegionLength)\n",
    "print(\"Total Length Ratios: \", np.sum(constantPotentialLengthRatios))\n",
    "frameCount : int = 60\n",
    "backend = \"cupy\""
   ]
  },
  {
   "cell_type": "code",
   "execution_count": null,
   "id": "567da6f2-e666-44fe-801f-08737a668136",
   "metadata": {},
   "outputs": [],
   "source": []
  },
  {
   "cell_type": "code",
   "execution_count": 12,
   "id": "801d7cb7-16e7-4c41-97a3-412503ee2fdf",
   "metadata": {},
   "outputs": [],
   "source": [
    "wavePacketFunction = lambda position : makeWavePacket(\n",
    "            position, \n",
    "            packetStartX * length, \n",
    "            packetStartY * length, \n",
    "            spatialStep, \n",
    "            packetStandardDeviation, \n",
    "            packetWaveNumber, \n",
    "            math\n",
    "        )"
   ]
  },
  {
   "cell_type": "code",
   "execution_count": null,
   "id": "534d56f6-bca2-49af-85a8-0eb48184cb67",
   "metadata": {},
   "outputs": [],
   "source": []
  },
  {
   "cell_type": "code",
   "execution_count": 13,
   "id": "a9c618a2-7f5a-450e-b011-d64ef7663ea3",
   "metadata": {},
   "outputs": [],
   "source": [
    "potentials : List[List[float]] = [\n",
    "        [1, 1, 1, 0, 0]\n",
    "    ]"
   ]
  },
  {
   "cell_type": "code",
   "execution_count": 14,
   "id": "5f08f234-17f0-43cd-977b-92196e55c444",
   "metadata": {},
   "outputs": [],
   "source": [
    "profiles : List[SimulationProfile] = constantSimulationProfiles(\n",
    "        wavePacketFunction, \n",
    "        spatialStep, \n",
    "        temporalStep, \n",
    "        length, \n",
    "        constantPotentialLengthRatios, \n",
    "        potentials, \n",
    "        potentialHeight, \n",
    "        pointCount, \n",
    "        True, \n",
    "        edgeBound = True, \n",
    "        logFunction = performenceLog, \n",
    "        gpuAccelerated = True, \n",
    "        math = cp\n",
    "    )"
   ]
  },
  {
   "cell_type": "code",
   "execution_count": 15,
   "id": "f71aedf2-77ef-4338-9e0d-fa727733acce",
   "metadata": {},
   "outputs": [
    {
     "data": {
      "text/plain": [
       "[0.3, 0.13333333333333333, 0.13333333333333333, 0.13333333333333333, 0.3]"
      ]
     },
     "execution_count": 15,
     "metadata": {},
     "output_type": "execute_result"
    }
   ],
   "source": [
    "constantPotentialLengthRatios"
   ]
  },
  {
   "cell_type": "code",
   "execution_count": 16,
   "id": "8e3dc6f5-9c5f-4a21-9037-38b141b2d6b9",
   "metadata": {},
   "outputs": [
    {
     "name": "stdout",
     "output_type": "stream",
     "text": [
      "[====================================================================================================]\n",
      "[<module 'cupyx.scipy.sparse.linalg' from '/opt/conda/lib/python3.10/site-packages/cupyx/scipy/sparse/linalg/__init__.py'>\n",
      "<function spsolve at 0x7f520e40e9e0>\n"
     ]
    },
    {
     "ename": "CUSOLVERError",
     "evalue": "CUSOLVER_STATUS_ALLOC_FAILED",
     "output_type": "error",
     "traceback": [
      "\u001b[0;31m---------------------------------------------------------------------------\u001b[0m",
      "\u001b[0;31mCUSOLVERError\u001b[0m                             Traceback (most recent call last)",
      "Cell \u001b[0;32mIn[16], line 1\u001b[0m\n\u001b[0;32m----> 1\u001b[0m allData, _, logs \u001b[38;5;241m=\u001b[39m \u001b[43mrecordConstantRegionSimulations\u001b[49m\u001b[43m(\u001b[49m\n\u001b[1;32m      2\u001b[0m \u001b[43m        \u001b[49m\u001b[43mprofiles\u001b[49m\u001b[43m,\u001b[49m\u001b[43m \u001b[49m\n\u001b[1;32m      3\u001b[0m \u001b[43m        \u001b[49m\u001b[43mframeCount\u001b[49m\u001b[43m,\u001b[49m\u001b[43m \u001b[49m\n\u001b[1;32m      4\u001b[0m \u001b[43m        \u001b[49m\u001b[43mcaseName\u001b[49m\u001b[43m,\u001b[49m\u001b[43m \u001b[49m\n\u001b[1;32m      5\u001b[0m \u001b[43m        \u001b[49m\u001b[43mconstantPotentialLengthRatios\u001b[49m\u001b[43m,\u001b[49m\u001b[43m \u001b[49m\n\u001b[1;32m      6\u001b[0m \u001b[43m        \u001b[49m\u001b[38;5;28;43;01mTrue\u001b[39;49;00m\u001b[43m,\u001b[49m\u001b[43m \u001b[49m\n\u001b[1;32m      7\u001b[0m \u001b[43m        \u001b[49m\u001b[43mconstantRegionLabels\u001b[49m\u001b[43m \u001b[49m\u001b[38;5;241;43m=\u001b[39;49m\u001b[43m \u001b[49m\u001b[43m[\u001b[49m\u001b[38;5;124;43m\"\u001b[39;49m\u001b[38;5;124;43mPost\u001b[39;49m\u001b[38;5;124;43m\"\u001b[39;49m\u001b[43m,\u001b[49m\u001b[43m \u001b[49m\u001b[38;5;124;43m\"\u001b[39;49m\u001b[38;5;124;43m3rdStair\u001b[39;49m\u001b[38;5;124;43m\"\u001b[39;49m\u001b[43m,\u001b[49m\u001b[43m \u001b[49m\u001b[38;5;124;43m\"\u001b[39;49m\u001b[38;5;124;43m2ndStair\u001b[39;49m\u001b[38;5;124;43m\"\u001b[39;49m\u001b[43m,\u001b[49m\u001b[43m \u001b[49m\u001b[38;5;124;43m\"\u001b[39;49m\u001b[38;5;124;43m1stStair\u001b[39;49m\u001b[38;5;124;43m\"\u001b[39;49m\u001b[43m,\u001b[49m\u001b[43m \u001b[49m\u001b[38;5;124;43m\"\u001b[39;49m\u001b[38;5;124;43mPre\u001b[39;49m\u001b[38;5;124;43m\"\u001b[39;49m\u001b[43m]\u001b[49m\u001b[43m,\u001b[49m\u001b[43m \u001b[49m\n\u001b[1;32m      8\u001b[0m \u001b[43m        \u001b[49m\u001b[43mshowBar\u001b[49m\u001b[43m \u001b[49m\u001b[38;5;241;43m=\u001b[39;49m\u001b[43m \u001b[49m\u001b[38;5;28;43;01mTrue\u001b[39;49;00m\u001b[43m,\u001b[49m\u001b[43m \u001b[49m\n\u001b[1;32m      9\u001b[0m \u001b[43m        \u001b[49m\u001b[43mshowFPS\u001b[49m\u001b[43m \u001b[49m\u001b[38;5;241;43m=\u001b[39;49m\u001b[43m \u001b[49m\u001b[38;5;28;43;01mTrue\u001b[39;49;00m\u001b[43m,\u001b[49m\u001b[43m \u001b[49m\n\u001b[1;32m     10\u001b[0m \u001b[43m        \u001b[49m\u001b[43mshowTotalTime\u001b[49m\u001b[43m \u001b[49m\u001b[38;5;241;43m=\u001b[39;49m\u001b[43m \u001b[49m\u001b[38;5;28;43;01mTrue\u001b[39;49;00m\u001b[43m,\u001b[49m\u001b[43m \u001b[49m\n\u001b[1;32m     11\u001b[0m \u001b[43m        \u001b[49m\u001b[43mmath\u001b[49m\u001b[43m \u001b[49m\u001b[38;5;241;43m=\u001b[39;49m\u001b[43m \u001b[49m\u001b[43mcp\u001b[49m\n\u001b[1;32m     12\u001b[0m \u001b[43m    \u001b[49m\u001b[43m)\u001b[49m\n",
      "File \u001b[0;32m/home/jovyan/work/SchrodingerInTime3D/TestPushPull/libschrodinger/campaigns.py:185\u001b[0m, in \u001b[0;36mrecordConstantRegionSimulations\u001b[0;34m(profiles, frames, baseName, measurmentRegions, showWhenSimulationDone, discardSimulations, constantRegionLabels, basePath, animationInterval, showBar, showFPS, showTotalTime, math)\u001b[0m\n\u001b[1;32m    183\u001b[0m \u001b[38;5;28;01mfor\u001b[39;00m profile \u001b[38;5;129;01min\u001b[39;00m profiles: \n\u001b[1;32m    184\u001b[0m     simulator \u001b[38;5;241m=\u001b[39m Simulator(profile)\n\u001b[0;32m--> 185\u001b[0m     logs\u001b[38;5;241m.\u001b[39mappend(\u001b[43msimulator\u001b[49m\u001b[38;5;241;43m.\u001b[39;49m\u001b[43msimulate\u001b[49m\u001b[43m(\u001b[49m\u001b[43mframes\u001b[49m\u001b[43m,\u001b[49m\u001b[43m \u001b[49m\u001b[43mshowBar\u001b[49m\u001b[43m,\u001b[49m\u001b[43m \u001b[49m\u001b[43mshowFPS\u001b[49m\u001b[43m,\u001b[49m\u001b[43m \u001b[49m\u001b[43mshowTotalTime\u001b[49m\u001b[43m)\u001b[49m)\n\u001b[1;32m    186\u001b[0m     \u001b[38;5;28;01mif\u001b[39;00m showWhenSimulationDone \u001b[38;5;241m==\u001b[39m \u001b[38;5;28;01mTrue\u001b[39;00m: \n\u001b[1;32m    187\u001b[0m         \u001b[38;5;28mprint\u001b[39m(\u001b[38;5;124m\"\u001b[39m\u001b[38;5;124mSimulation \u001b[39m\u001b[38;5;124m\"\u001b[39m \u001b[38;5;241m+\u001b[39m \u001b[38;5;28mstr\u001b[39m(simulationCount) \u001b[38;5;241m+\u001b[39m \u001b[38;5;124m\"\u001b[39m\u001b[38;5;124m is done, processing probabilities.\u001b[39m\u001b[38;5;124m\"\u001b[39m)\n",
      "File \u001b[0;32m/home/jovyan/work/SchrodingerInTime3D/TestPushPull/libschrodinger/crank_nicolson_2d.py:464\u001b[0m, in \u001b[0;36mSimulator.simulate\u001b[0;34m(self, timePoints, printProgress, showTotalTime, showStepTime, detailedProgress, progressBarLength, log, logFunction)\u001b[0m\n\u001b[1;32m    461\u001b[0m     \u001b[38;5;28mself\u001b[39m\u001b[38;5;241m.\u001b[39mcompute(unknownStepMatrix, knownStepMatrix, log, logFunction)\n\u001b[1;32m    462\u001b[0m     logFunction(log, \u001b[38;5;124m\"\u001b[39m\u001b[38;5;124mComputed and Finished \u001b[39m\u001b[38;5;130;01m\\\"\u001b[39;00m\u001b[38;5;124mStep\u001b[39m\u001b[38;5;130;01m\\\"\u001b[39;00m\u001b[38;5;124m\"\u001b[39m)\n\u001b[0;32m--> 464\u001b[0m \u001b[43mprintWithProgressBar\u001b[49m\u001b[43m(\u001b[49m\n\u001b[1;32m    465\u001b[0m \u001b[43m        \u001b[49m\u001b[43mstep\u001b[49m\u001b[43m,\u001b[49m\u001b[43m \u001b[49m\n\u001b[1;32m    466\u001b[0m \u001b[43m        \u001b[49m\u001b[43mtimePoints\u001b[49m\u001b[43m,\u001b[49m\u001b[43m \u001b[49m\n\u001b[1;32m    467\u001b[0m \u001b[43m        \u001b[49m\u001b[43mprogressBarLength\u001b[49m\u001b[43m,\u001b[49m\u001b[43m \u001b[49m\n\u001b[1;32m    468\u001b[0m \u001b[43m        \u001b[49m\u001b[43mprintProgress\u001b[49m\u001b[43m,\u001b[49m\u001b[43m \u001b[49m\n\u001b[1;32m    469\u001b[0m \u001b[43m        \u001b[49m\u001b[43mshowTotalTime\u001b[49m\u001b[43m,\u001b[49m\u001b[43m \u001b[49m\n\u001b[1;32m    470\u001b[0m \u001b[43m        \u001b[49m\u001b[43mshowStepTime\u001b[49m\u001b[43m,\u001b[49m\u001b[43m \u001b[49m\n\u001b[1;32m    471\u001b[0m \u001b[43m        \u001b[49m\u001b[43mdetailedProgress\u001b[49m\n\u001b[1;32m    472\u001b[0m \u001b[43m    \u001b[49m\u001b[43m)\u001b[49m\n\u001b[1;32m    474\u001b[0m \u001b[38;5;28;01mreturn\u001b[39;00m log\n",
      "File \u001b[0;32m/home/jovyan/work/SchrodingerInTime3D/TestPushPull/libschrodinger/crank_nicolson_2d.py:94\u001b[0m, in \u001b[0;36mprintWithProgressBar\u001b[0;34m(step, timePoints, progressBarLength, printProgress, showTotalTime, showStepTime, detailedProgress)\u001b[0m\n\u001b[1;32m     92\u001b[0m \u001b[38;5;28;01mfor\u001b[39;00m ii \u001b[38;5;129;01min\u001b[39;00m \u001b[38;5;28mrange\u001b[39m(\u001b[38;5;241m1\u001b[39m, timePoints): \n\u001b[1;32m     93\u001b[0m     previousPerformenceTime \u001b[38;5;241m=\u001b[39m monotonic()\n\u001b[0;32m---> 94\u001b[0m     \u001b[43mstep\u001b[49m\u001b[43m(\u001b[49m\u001b[43mii\u001b[49m\u001b[43m)\u001b[49m\n\u001b[1;32m     95\u001b[0m     progress \u001b[38;5;241m=\u001b[39m \u001b[38;5;28mround\u001b[39m((ii \u001b[38;5;241m/\u001b[39m timePoints) \u001b[38;5;241m*\u001b[39m progressBarLength)\n\u001b[1;32m     96\u001b[0m     \u001b[38;5;28;01mif\u001b[39;00m printProgress \u001b[38;5;241m==\u001b[39m \u001b[38;5;28;01mTrue\u001b[39;00m: \n",
      "File \u001b[0;32m/home/jovyan/work/SchrodingerInTime3D/TestPushPull/libschrodinger/crank_nicolson_2d.py:461\u001b[0m, in \u001b[0;36mSimulator.simulate.<locals>.step\u001b[0;34m(stepIndex)\u001b[0m\n\u001b[1;32m    459\u001b[0m unknownStepMatrix \u001b[38;5;241m=\u001b[39m \u001b[38;5;28mself\u001b[39m\u001b[38;5;241m.\u001b[39mcreateNextStepMatrix(\u001b[38;5;28mself\u001b[39m\u001b[38;5;241m.\u001b[39mpotentials[\u001b[38;5;241m-\u001b[39m\u001b[38;5;241m1\u001b[39m])\n\u001b[1;32m    460\u001b[0m logFunction(log, \u001b[38;5;124m\"\u001b[39m\u001b[38;5;124mCreated unknownStepMatrix\u001b[39m\u001b[38;5;124m\"\u001b[39m)\n\u001b[0;32m--> 461\u001b[0m \u001b[38;5;28;43mself\u001b[39;49m\u001b[38;5;241;43m.\u001b[39;49m\u001b[43mcompute\u001b[49m\u001b[43m(\u001b[49m\u001b[43munknownStepMatrix\u001b[49m\u001b[43m,\u001b[49m\u001b[43m \u001b[49m\u001b[43mknownStepMatrix\u001b[49m\u001b[43m,\u001b[49m\u001b[43m \u001b[49m\u001b[43mlog\u001b[49m\u001b[43m,\u001b[49m\u001b[43m \u001b[49m\u001b[43mlogFunction\u001b[49m\u001b[43m)\u001b[49m\n\u001b[1;32m    462\u001b[0m logFunction(log, \u001b[38;5;124m\"\u001b[39m\u001b[38;5;124mComputed and Finished \u001b[39m\u001b[38;5;130;01m\\\"\u001b[39;00m\u001b[38;5;124mStep\u001b[39m\u001b[38;5;130;01m\\\"\u001b[39;00m\u001b[38;5;124m\"\u001b[39m)\n",
      "File \u001b[0;32m/home/jovyan/work/SchrodingerInTime3D/TestPushPull/libschrodinger/crank_nicolson_2d.py:406\u001b[0m, in \u001b[0;36mSimulator.compute\u001b[0;34m(self, unknownStepMatrix, knownStepMatrix, log, logFunction)\u001b[0m\n\u001b[1;32m    404\u001b[0m \u001b[38;5;28mprint\u001b[39m(\u001b[38;5;28mself\u001b[39m\u001b[38;5;241m.\u001b[39mlinalg)\n\u001b[1;32m    405\u001b[0m \u001b[38;5;28mprint\u001b[39m(\u001b[38;5;28mself\u001b[39m\u001b[38;5;241m.\u001b[39mlinalg\u001b[38;5;241m.\u001b[39mspsolve)\n\u001b[0;32m--> 406\u001b[0m nextWaveFunction \u001b[38;5;241m=\u001b[39m \u001b[38;5;28;43mself\u001b[39;49m\u001b[38;5;241;43m.\u001b[39;49m\u001b[43mlinalg\u001b[49m\u001b[38;5;241;43m.\u001b[39;49m\u001b[43mspsolve\u001b[49m\u001b[43m(\u001b[49m\n\u001b[1;32m    407\u001b[0m \u001b[43m            \u001b[49m\u001b[43mcsrUnkownStepMatrix\u001b[49m\u001b[43m,\u001b[49m\u001b[43m \u001b[49m\n\u001b[1;32m    408\u001b[0m \u001b[43m            \u001b[49m\u001b[43mindependantTerms\u001b[49m\n\u001b[1;32m    409\u001b[0m \u001b[43m    \u001b[49m\u001b[43m)\u001b[49m\n\u001b[1;32m    410\u001b[0m logFunction(log, \u001b[38;5;124m\"\u001b[39m\u001b[38;5;124mFine Grain: Solve for nextWaveFunction\u001b[39m\u001b[38;5;124m\"\u001b[39m)\n\u001b[1;32m    411\u001b[0m nextWaveFunction \u001b[38;5;241m=\u001b[39m nextWaveFunction\u001b[38;5;241m.\u001b[39mreshape(\u001b[38;5;28mtuple\u001b[39m([\u001b[38;5;28mself\u001b[39m\u001b[38;5;241m.\u001b[39mgrid\u001b[38;5;241m.\u001b[39mpointCount \u001b[38;5;241m-\u001b[39m \u001b[38;5;241m2\u001b[39m] \u001b[38;5;241m*\u001b[39m \u001b[38;5;28mself\u001b[39m\u001b[38;5;241m.\u001b[39mdimensions),)\n",
      "File \u001b[0;32m/opt/conda/lib/python3.10/site-packages/cupyx/scipy/sparse/linalg/_solve.py:513\u001b[0m, in \u001b[0;36mspsolve\u001b[0;34m(A, b)\u001b[0m\n\u001b[1;32m    510\u001b[0m A\u001b[38;5;241m.\u001b[39msum_duplicates()\n\u001b[1;32m    511\u001b[0m b \u001b[38;5;241m=\u001b[39m b\u001b[38;5;241m.\u001b[39mastype(A\u001b[38;5;241m.\u001b[39mdtype, copy\u001b[38;5;241m=\u001b[39m\u001b[38;5;28;01mFalse\u001b[39;00m)\u001b[38;5;241m.\u001b[39mravel()\n\u001b[0;32m--> 513\u001b[0m \u001b[38;5;28;01mreturn\u001b[39;00m \u001b[43mcupy\u001b[49m\u001b[38;5;241;43m.\u001b[39;49m\u001b[43mcusolver\u001b[49m\u001b[38;5;241;43m.\u001b[39;49m\u001b[43mcsrlsvqr\u001b[49m\u001b[43m(\u001b[49m\u001b[43mA\u001b[49m\u001b[43m,\u001b[49m\u001b[43m \u001b[49m\u001b[43mb\u001b[49m\u001b[43m)\u001b[49m\n",
      "File \u001b[0;32mcupy/cusolver.pyx:858\u001b[0m, in \u001b[0;36mcupy.cusolver.csrlsvqr\u001b[0;34m()\u001b[0m\n",
      "File \u001b[0;32mcupy_backends/cuda/libs/cusolver.pyx:3588\u001b[0m, in \u001b[0;36mcupy_backends.cuda.libs.cusolver.zcsrlsvqr\u001b[0;34m()\u001b[0m\n",
      "File \u001b[0;32mcupy_backends/cuda/libs/cusolver.pyx:3599\u001b[0m, in \u001b[0;36mcupy_backends.cuda.libs.cusolver.zcsrlsvqr\u001b[0;34m()\u001b[0m\n",
      "File \u001b[0;32mcupy_backends/cuda/libs/cusolver.pyx:1079\u001b[0m, in \u001b[0;36mcupy_backends.cuda.libs.cusolver.check_status\u001b[0;34m()\u001b[0m\n",
      "\u001b[0;31mCUSOLVERError\u001b[0m: CUSOLVER_STATUS_ALLOC_FAILED"
     ]
    }
   ],
   "source": [
    "allData, _, logs = recordConstantRegionSimulations(\n",
    "        profiles, \n",
    "        frameCount, \n",
    "        caseName, \n",
    "        constantPotentialLengthRatios, \n",
    "        True, \n",
    "        constantRegionLabels = [\"Post\", \"3rdStair\", \"2ndStair\", \"1stStair\", \"Pre\"], \n",
    "        showBar = True, \n",
    "        showFPS = True, \n",
    "        showTotalTime = True, \n",
    "        math = cp\n",
    "    )"
   ]
  },
  {
   "cell_type": "code",
   "execution_count": null,
   "id": "add67677-6f02-4c86-be5c-35f6c0c90532",
   "metadata": {},
   "outputs": [],
   "source": [
    "allData[\"packetStartX\"] = packetStartX\n",
    "allData[\"packetStartY\"] = packetStartY\n",
    "allData[\"initialWaveNumber\"] = packetWaveNumber\n",
    "allData[\"standardDeviation\"] = packetStandardDeviation"
   ]
  },
  {
   "cell_type": "code",
   "execution_count": null,
   "id": "54b9ecb2-2079-46e6-96cb-aeee8a175124",
   "metadata": {},
   "outputs": [],
   "source": [
    "for key in allData: \n",
    "    allData[key] = asNumPyArray(allData[key])"
   ]
  },
  {
   "cell_type": "code",
   "execution_count": null,
   "id": "2555c902-f42c-4612-b9de-fec6c7f4b479",
   "metadata": {},
   "outputs": [],
   "source": [
    "pd.DataFrame(allData).to_csv(str(Path.cwd() / caseName / (caseName + \".csv\")))"
   ]
  },
  {
   "cell_type": "code",
   "execution_count": null,
   "id": "12333842-de83-4f99-a617-8ae129f10a5b",
   "metadata": {},
   "outputs": [],
   "source": [
    "logKeyList = [\n",
    "    'Starting \"Step\"',\n",
    "    'Created knownStepMatrix',\n",
    "    'Created unknownStepMatrix',\n",
    "    'Started \"Compute\"',\n",
    "    'Reshaped Wave Function',\n",
    "    'Matrix Multiplication',\n",
    "    'Fine Grain: sparse.csr_matrix',\n",
    "    'Fine Grain: Solve for nextWaveFunction',\n",
    "    'Fine Grain: Reshape nextWaveFunction',\n",
    "    'Solved For Independant Terms and Reshaped',\n",
    "    'Appended Wave Function and Finished \"Compute\"',\n",
    "    'Computed and Finished \"Step\"'\n",
    "]"
   ]
  },
  {
   "cell_type": "code",
   "execution_count": null,
   "id": "6db51e96-793f-46f9-8318-ecc4708c0e92",
   "metadata": {},
   "outputs": [],
   "source": [
    "copiedLogs = []\n",
    "logIndex = 0\n",
    "logPath = Path.cwd() / caseName / \"logs\"\n",
    "logPath.mkdir(exist_ok = True)\n",
    "for log in logs: \n",
    "    logCopy = {}\n",
    "    for key in logKeyList: \n",
    "        logCopy[key] = log[key]\n",
    "    copiedLogs.append(logCopy)\n",
    "    pd.DataFrame(logCopy).to_csv(str(logPath / (caseName + \"_log_\" + str(logIndex) + \".csv\")))\n",
    "    logIndex += 1"
   ]
  },
  {
   "cell_type": "code",
   "execution_count": null,
   "id": "c5abaeaf-c0fa-4bbd-8bd6-760fef1b6d38",
   "metadata": {},
   "outputs": [],
   "source": []
  },
  {
   "cell_type": "code",
   "execution_count": null,
   "id": "07a279ff-1ad7-4699-a816-a6b620e108cb",
   "metadata": {},
   "outputs": [],
   "source": [
    "currentLog = copiedLogs[0]\n",
    "plt.figure()\n",
    "for stepLabel in logKeyList: \n",
    "    print(stepLabel)\n",
    "    accelerated = np.array(currentLog[stepLabel])\n",
    "    plt.plot(accelerated[1:] - accelerated[:-1], label=stepLabel)\n",
    "plt.legend()"
   ]
  },
  {
   "cell_type": "code",
   "execution_count": null,
   "id": "87fe8634-5545-4c3a-8fc9-c3f96be0606b",
   "metadata": {},
   "outputs": [],
   "source": []
  },
  {
   "cell_type": "code",
   "execution_count": null,
   "id": "6a7020f4-e4fb-4539-a7f5-8c70fb0a8328",
   "metadata": {},
   "outputs": [],
   "source": [
    "currentLog = copiedLogs[0]\n",
    "plt.figure()\n",
    "plt.title(\"GPU (cupy) Delta Time Between Steps vs. Steps\")\n",
    "for stepLabel, nextLabel in  list(zip(logKeyList[:-1], logKeyList[1:])): \n",
    "    label = stepLabel + \" -> \" + nextLabel\n",
    "    print(label)\n",
    "    acceleratedCurrent = np.array(currentLog[stepLabel])\n",
    "    acceleratedNext = np.array(currentLog[nextLabel])\n",
    "    plt.plot(acceleratedNext - acceleratedCurrent, label=label)\n",
    "plt.legend()"
   ]
  },
  {
   "cell_type": "code",
   "execution_count": null,
   "id": "2046c15e-4f75-4ca8-916e-df99a4e0c0d9",
   "metadata": {},
   "outputs": [],
   "source": []
  },
  {
   "cell_type": "code",
   "execution_count": null,
   "id": "14fbbb54-6350-4091-87d7-77000cd4b63d",
   "metadata": {},
   "outputs": [],
   "source": []
  }
 ],
 "metadata": {
  "kernelspec": {
   "display_name": "Python 3 (ipykernel)",
   "language": "python",
   "name": "python3"
  },
  "language_info": {
   "codemirror_mode": {
    "name": "ipython",
    "version": 3
   },
   "file_extension": ".py",
   "mimetype": "text/x-python",
   "name": "python",
   "nbconvert_exporter": "python",
   "pygments_lexer": "ipython3",
   "version": "3.10.8"
  }
 },
 "nbformat": 4,
 "nbformat_minor": 5
}
