{
 "cells": [
  {
   "cell_type": "code",
   "execution_count": 1,
   "id": "df4329a4-ad5e-4816-8011-1ceb7b865644",
   "metadata": {},
   "outputs": [],
   "source": [
    "#%matplotlib widget"
   ]
  },
  {
   "cell_type": "code",
   "execution_count": 2,
   "id": "cf6c7a59-133a-4874-9420-a262a3c9fe25",
   "metadata": {},
   "outputs": [],
   "source": [
    "from libschrodinger import *"
   ]
  },
  {
   "cell_type": "code",
   "execution_count": 3,
   "id": "1d6992dd-60eb-4133-b81c-b856977c126a",
   "metadata": {},
   "outputs": [],
   "source": [
    "import numpy as np"
   ]
  },
  {
   "cell_type": "code",
   "execution_count": 4,
   "id": "24f1e092-ee2f-4d85-b440-5820089ef330",
   "metadata": {},
   "outputs": [],
   "source": [
    "import cupy as cp"
   ]
  },
  {
   "cell_type": "code",
   "execution_count": 5,
   "id": "aad5f901-c59e-4c05-9566-2880829f0011",
   "metadata": {},
   "outputs": [],
   "source": [
    "caseName : str = \"AttemptPotentialPlate0\""
   ]
  },
  {
   "cell_type": "code",
   "execution_count": 6,
   "id": "5ea86e1e-f08e-45e8-966d-6ca7e1ebffd0",
   "metadata": {},
   "outputs": [],
   "source": [
    "def extentsFromGrid(grid : MeshGrid) -> Tuple[float]: \n",
    "    extents : List[float] = []\n",
    "    for component in grid.gridDimensionalComponents: \n",
    "        extents.append(math.abs(math.max(component) - math.min(component)))\n",
    "    return tuple(extents)"
   ]
  },
  {
   "cell_type": "code",
   "execution_count": 59,
   "id": "6d98a8fe-d452-4992-971e-3ad99963a5c7",
   "metadata": {},
   "outputs": [
    {
     "name": "stdout",
     "output_type": "stream",
     "text": [
      "Point Count:  160\n"
     ]
    }
   ],
   "source": [
    "math = cp\n",
    "spatialStep : float = .05\n",
    "length : float = 8\n",
    "temporalStep : float = (spatialStep ** 2) / 4\n",
    "courantNumber : float = 1.0\n",
    "pointCount : int = int(length / spatialStep)\n",
    "potentialHeight : float = 200\n",
    "print(\"Point Count: \", pointCount)\n",
    "packetStartX : float = 1 / 5\n",
    "packetStartY : float = 1 / 2\n",
    "packetStandardDeviation : float = .5\n",
    "packetWaveNumber : float = -15 * np.pi\n",
    "barrierWidth : float = .6 / length\n",
    "\n",
    "frameCount : int = 1000\n",
    "\n",
    "tolerence = 1e-5"
   ]
  },
  {
   "cell_type": "code",
   "execution_count": 627,
   "id": "7d42e148-b28b-47ea-bf5d-a8af13b61ad3",
   "metadata": {},
   "outputs": [],
   "source": [
    "def platePotential(\n",
    "            position : MeshGrid, \n",
    "            plateAngleInDegrees : float, \n",
    "            platePosition : Tuple[float, float], \n",
    "            size : Tuple[float, float], \n",
    "            potentialHeight : float, \n",
    "            math = np, \n",
    "            old = None\n",
    "        ) -> np.ndarray: \n",
    "    \"\"\"\n",
    "    For a visual/mathematical example/explination of the bounds for where: \n",
    "        https://www.desmos.com/calculator/luwa641qvb \n",
    "        OR \n",
    "        https://www.desmos.com/calculator/exliwxqbhe\n",
    "        WITH OFFSETS\n",
    "        https://www.desmos.com/calculator/1mfsmpm43m\n",
    "    \"\"\"\n",
    "    XDimension : int = DimensionIndex.X.value\n",
    "    YDimension : int = DimensionIndex.Y.value\n",
    "    angle = math.radians(plateAngleInDegrees)\n",
    "    unitVector : np.array = math.array([\n",
    "            math.cos(angle), \n",
    "            math.sin(angle)\n",
    "        ])\n",
    "    xExtent, yExtent = extentsFromGrid(position)\n",
    "    x : float = platePosition[XDimension] * xExtent\n",
    "    y : float = platePosition[YDimension] * yExtent\n",
    "    unitX : float = unitVector[XDimension]\n",
    "    unitY : float = unitVector[YDimension]\n",
    "    unitSlope : float = math.tan(angle)#unitY / unitX\n",
    "    xSize : float = size[XDimension] * xExtent\n",
    "    ySize : float = size[YDimension] * yExtent\n",
    "    old = old if type(old) is not type(None) else 0\n",
    "    offsetXX : float = xSize * math.cos(angle)\n",
    "    offsetXY : float = -xSize * math.sin(angle)\n",
    "    offsetYX : float = ySize * math.cos(angle)\n",
    "    offsetYY : float = -ySize * math.sin(angle)\n",
    "    upperYLine : np.ndarray = unitSlope * (position.x + offsetYX - x) + offsetYY + y\n",
    "    lowerYLine : np.ndarray = unitSlope * (position.x - offsetYY - x) + offsetYX + y\n",
    "    upperXLine : np.ndarray = (-unitSlope * (position.y + offsetXY - y) + offsetXX + x)\n",
    "    lowerXLine : np.ndarray = (-unitSlope * (position.y + offsetXX - y) - offsetXY + x)\n",
    "    potential = math.where(\n",
    "            (position.y >= upperYLine) & (position.y <= lowerYLine) \n",
    "                    & (position.x <= upperXLine) & (position.x >= lowerXLine), \n",
    "            potentialHeight, \n",
    "            old\n",
    "        )\n",
    "    #potential = math.where(\n",
    "    #        (position.x <= upperXLine) & (position.x >= lowerXLine), \n",
    "    #        potentialHeight, \n",
    "    #        old\n",
    "    #    )\n",
    "    return potential\n"
   ]
  },
  {
   "cell_type": "code",
   "execution_count": 628,
   "id": "e9662f92-3a9d-40f0-a16b-adf63089d40f",
   "metadata": {},
   "outputs": [],
   "source": [
    "grid = makeLinspaceGrid(pointCount, length, 2, False, float, math)"
   ]
  },
  {
   "cell_type": "code",
   "execution_count": 666,
   "id": "9368be52-18eb-4eab-8b6d-29f8e8edcbea",
   "metadata": {},
   "outputs": [],
   "source": [
    "potential0 = platePotential(grid, 0, (.05, .5), (.15, .1), potentialHeight, math = cp).get()\n",
    "potential0 = platePotential(grid, 10, (.25, .5), (.15, .1), potentialHeight, math = cp, old = cp.array(potential0)).get()\n",
    "potential0 = platePotential(grid, 20, (.45, .5), (.15, .1), potentialHeight, math = cp, old = cp.array(potential0)).get()\n",
    "potential0 = platePotential(grid, 30, (.65, .5), (.15, .1), potentialHeight, math = cp, old = cp.array(potential0)).get()\n",
    "potential0 = platePotential(grid, 50, (.85, .5), (.15, .1), potentialHeight, math = cp, old = cp.array(potential0))#.get()\n",
    "potential0 = cp.where(grid.y < .5 * length, potentialHeight, potential0).get()"
   ]
  },
  {
   "cell_type": "code",
   "execution_count": 667,
   "id": "f158a1d1-bd32-4430-b6a9-a0d31387957a",
   "metadata": {},
   "outputs": [
    {
     "data": {
      "text/plain": [
       "<matplotlib.colorbar.Colorbar at 0x7f78ad546800>"
      ]
     },
     "execution_count": 667,
     "metadata": {},
     "output_type": "execute_result"
    },
    {
     "data": {
      "image/png": "[encoded data removed]",
      "text/plain": [
       "<Figure size 640x480 with 2 Axes>"
      ]
     },
     "metadata": {},
     "output_type": "display_data"
    }
   ],
   "source": [
    "figure = plt.figure()\n",
    "plt.imshow(potential0, vmin = 0, vmax = potentialHeight, extent = (length, 0, length, 0))\n",
    "plt.colorbar()"
   ]
  },
  {
   "cell_type": "code",
   "execution_count": 655,
   "id": "248a1a50-daf4-4761-9eaa-5eb6258ab356",
   "metadata": {},
   "outputs": [],
   "source": [
    "potential0 = platePotential(grid, 0, (.5, .5), (.1, .1), potentialHeight, math = cp).get()\n",
    "potential0 = platePotential(grid, 10, (.5, .5), (.1, .1), potentialHeight, math = cp, old = cp.array(potential0)).get()\n",
    "potential0 = platePotential(grid, 20, (.5, .5), (.1, .1), potentialHeight, math = cp, old = cp.array(potential0)).get()\n",
    "potential0 = platePotential(grid, 30, (.5, .5), (.1, .1), potentialHeight, math = cp, old = cp.array(potential0)).get()"
   ]
  },
  {
   "cell_type": "code",
   "execution_count": 257,
   "id": "46233ae6-ffdd-4114-baca-edb03b7caa45",
   "metadata": {},
   "outputs": [
    {
     "name": "stdout",
     "output_type": "stream",
     "text": [
      "[====================================================================================================]\n",
      "[------------------------------------------------------------------------------------"
     ]
    },
    {
     "ename": "KeyboardInterrupt",
     "evalue": "",
     "output_type": "error",
     "traceback": [
      "\u001b[0;31m---------------------------------------------------------------------------\u001b[0m",
      "\u001b[0;31mKeyboardInterrupt\u001b[0m                         Traceback (most recent call last)",
      "Cell \u001b[0;32mIn[257], line 32\u001b[0m\n\u001b[1;32m      2\u001b[0m profile \u001b[38;5;241m=\u001b[39m SimulationProfile(\n\u001b[1;32m      3\u001b[0m         grid, \n\u001b[1;32m      4\u001b[0m         \u001b[38;5;28;01mlambda\u001b[39;00m position : makeWavePacket(\n\u001b[0;32m   (...)\u001b[0m\n\u001b[1;32m     29\u001b[0m                     )\n\u001b[1;32m     30\u001b[0m     )\n\u001b[1;32m     31\u001b[0m simulator \u001b[38;5;241m=\u001b[39m Simulator(profile)\n\u001b[0;32m---> 32\u001b[0m log \u001b[38;5;241m=\u001b[39m \u001b[43msimulator\u001b[49m\u001b[38;5;241;43m.\u001b[39;49m\u001b[43msimulate\u001b[49m\u001b[43m(\u001b[49m\u001b[43mframeCount\u001b[49m\u001b[43m,\u001b[49m\u001b[43m \u001b[49m\u001b[38;5;28;43;01mTrue\u001b[39;49;00m\u001b[43m,\u001b[49m\u001b[43m \u001b[49m\u001b[38;5;28;43;01mTrue\u001b[39;49;00m\u001b[43m,\u001b[49m\u001b[43m \u001b[49m\u001b[38;5;28;43;01mTrue\u001b[39;49;00m\u001b[43m)\u001b[49m\n",
      "File \u001b[0;32m/home/jovyan/work/SchrodingerInTime3D/ParticleMirrorTest/libschrodinger/crank_nicolson_2d.py:289\u001b[0m, in \u001b[0;36mSimulator.simulate\u001b[0;34m(self, timePoints, printProgress, showTotalTime, showStepTime, detailedProgress, progressBarLength, log, logFunction, matrixSolveMethod)\u001b[0m\n\u001b[1;32m    286\u001b[0m     \u001b[38;5;28mself\u001b[39m\u001b[38;5;241m.\u001b[39mcompute(unknownStepMatrix, knownStepMatrix, log, logFunction, matrixSolveMethod)\n\u001b[1;32m    287\u001b[0m     logFunction(log, \u001b[38;5;124m\"\u001b[39m\u001b[38;5;124mComputed and Finished \u001b[39m\u001b[38;5;130;01m\\\"\u001b[39;00m\u001b[38;5;124mStep\u001b[39m\u001b[38;5;130;01m\\\"\u001b[39;00m\u001b[38;5;124m\"\u001b[39m)\n\u001b[0;32m--> 289\u001b[0m \u001b[43mprintWithProgressBar\u001b[49m\u001b[43m(\u001b[49m\n\u001b[1;32m    290\u001b[0m \u001b[43m        \u001b[49m\u001b[43mstep\u001b[49m\u001b[43m,\u001b[49m\u001b[43m \u001b[49m\n\u001b[1;32m    291\u001b[0m \u001b[43m        \u001b[49m\u001b[43mtimePoints\u001b[49m\u001b[43m,\u001b[49m\u001b[43m \u001b[49m\n\u001b[1;32m    292\u001b[0m \u001b[43m        \u001b[49m\u001b[43mprogressBarLength\u001b[49m\u001b[43m,\u001b[49m\u001b[43m \u001b[49m\n\u001b[1;32m    293\u001b[0m \u001b[43m        \u001b[49m\u001b[43mprintProgress\u001b[49m\u001b[43m,\u001b[49m\u001b[43m \u001b[49m\n\u001b[1;32m    294\u001b[0m \u001b[43m        \u001b[49m\u001b[43mshowTotalTime\u001b[49m\u001b[43m,\u001b[49m\u001b[43m \u001b[49m\n\u001b[1;32m    295\u001b[0m \u001b[43m        \u001b[49m\u001b[43mshowStepTime\u001b[49m\u001b[43m,\u001b[49m\u001b[43m \u001b[49m\n\u001b[1;32m    296\u001b[0m \u001b[43m        \u001b[49m\u001b[43mdetailedProgress\u001b[49m\n\u001b[1;32m    297\u001b[0m \u001b[43m    \u001b[49m\u001b[43m)\u001b[49m\n\u001b[1;32m    299\u001b[0m \u001b[38;5;28;01mreturn\u001b[39;00m log\n",
      "File \u001b[0;32m/home/jovyan/work/SchrodingerInTime3D/ParticleMirrorTest/libschrodinger/display_output.py:33\u001b[0m, in \u001b[0;36mprintWithProgressBar\u001b[0;34m(step, timePoints, progressBarLength, printProgress, showTotalTime, showStepTime, detailedProgress)\u001b[0m\n\u001b[1;32m     31\u001b[0m \u001b[38;5;28;01mfor\u001b[39;00m ii \u001b[38;5;129;01min\u001b[39;00m \u001b[38;5;28mrange\u001b[39m(\u001b[38;5;241m1\u001b[39m, timePoints): \n\u001b[1;32m     32\u001b[0m     previousPerformenceTime \u001b[38;5;241m=\u001b[39m monotonic()\n\u001b[0;32m---> 33\u001b[0m     \u001b[43mstep\u001b[49m\u001b[43m(\u001b[49m\u001b[43mii\u001b[49m\u001b[43m)\u001b[49m\n\u001b[1;32m     34\u001b[0m     progress \u001b[38;5;241m=\u001b[39m \u001b[38;5;28mround\u001b[39m((ii \u001b[38;5;241m/\u001b[39m timePoints) \u001b[38;5;241m*\u001b[39m progressBarLength)\n\u001b[1;32m     35\u001b[0m     \u001b[38;5;28;01mif\u001b[39;00m printProgress \u001b[38;5;241m==\u001b[39m \u001b[38;5;28;01mTrue\u001b[39;00m: \n",
      "File \u001b[0;32m/home/jovyan/work/SchrodingerInTime3D/ParticleMirrorTest/libschrodinger/crank_nicolson_2d.py:286\u001b[0m, in \u001b[0;36mSimulator.simulate.<locals>.step\u001b[0;34m(stepIndex)\u001b[0m\n\u001b[1;32m    284\u001b[0m unknownStepMatrix \u001b[38;5;241m=\u001b[39m \u001b[38;5;28mself\u001b[39m\u001b[38;5;241m.\u001b[39mcreateNextStepMatrix(\u001b[38;5;28mself\u001b[39m\u001b[38;5;241m.\u001b[39mpotentials[\u001b[38;5;241m-\u001b[39m\u001b[38;5;241m1\u001b[39m])\n\u001b[1;32m    285\u001b[0m logFunction(log, \u001b[38;5;124m\"\u001b[39m\u001b[38;5;124mCreated unknownStepMatrix\u001b[39m\u001b[38;5;124m\"\u001b[39m)\n\u001b[0;32m--> 286\u001b[0m \u001b[38;5;28;43mself\u001b[39;49m\u001b[38;5;241;43m.\u001b[39;49m\u001b[43mcompute\u001b[49m\u001b[43m(\u001b[49m\u001b[43munknownStepMatrix\u001b[49m\u001b[43m,\u001b[49m\u001b[43m \u001b[49m\u001b[43mknownStepMatrix\u001b[49m\u001b[43m,\u001b[49m\u001b[43m \u001b[49m\u001b[43mlog\u001b[49m\u001b[43m,\u001b[49m\u001b[43m \u001b[49m\u001b[43mlogFunction\u001b[49m\u001b[43m,\u001b[49m\u001b[43m \u001b[49m\u001b[43mmatrixSolveMethod\u001b[49m\u001b[43m)\u001b[49m\n\u001b[1;32m    287\u001b[0m logFunction(log, \u001b[38;5;124m\"\u001b[39m\u001b[38;5;124mComputed and Finished \u001b[39m\u001b[38;5;130;01m\\\"\u001b[39;00m\u001b[38;5;124mStep\u001b[39m\u001b[38;5;130;01m\\\"\u001b[39;00m\u001b[38;5;124m\"\u001b[39m)\n",
      "File \u001b[0;32m/home/jovyan/work/SchrodingerInTime3D/ParticleMirrorTest/libschrodinger/crank_nicolson_2d.py:225\u001b[0m, in \u001b[0;36mSimulator.compute\u001b[0;34m(self, unknownStepMatrix, knownStepMatrix, log, logFunction, matrixSolveMethod)\u001b[0m\n\u001b[1;32m    223\u001b[0m logFunction(log, \u001b[38;5;124m\"\u001b[39m\u001b[38;5;124mMatrix Multiplication\u001b[39m\u001b[38;5;124m\"\u001b[39m)\n\u001b[1;32m    224\u001b[0m \u001b[38;5;66;03m#independantTerms = math.matmul(knownStepMatrix, waveFunctionVector)\u001b[39;00m\n\u001b[0;32m--> 225\u001b[0m nextWaveFunction \u001b[38;5;241m=\u001b[39m \u001b[43mmatrixSolveMethod\u001b[49m\u001b[43m(\u001b[49m\n\u001b[1;32m    226\u001b[0m \u001b[43m            \u001b[49m\u001b[38;5;28;43mself\u001b[39;49m\u001b[38;5;241;43m.\u001b[39;49m\u001b[43mprofile\u001b[49m\u001b[43m,\u001b[49m\u001b[43m \u001b[49m\n\u001b[1;32m    227\u001b[0m \u001b[43m            \u001b[49m\u001b[43munknownStepMatrix\u001b[49m\u001b[43m,\u001b[49m\u001b[43m \u001b[49m\n\u001b[1;32m    228\u001b[0m \u001b[43m            \u001b[49m\u001b[43mindependantTerms\u001b[49m\n\u001b[1;32m    229\u001b[0m \u001b[43m    \u001b[49m\u001b[43m)\u001b[49m\n\u001b[1;32m    230\u001b[0m \u001b[38;5;28;01mif\u001b[39;00m \u001b[38;5;28mself\u001b[39m\u001b[38;5;241m.\u001b[39mprofile\u001b[38;5;241m.\u001b[39mfineGrainedLog \u001b[38;5;241m==\u001b[39m \u001b[38;5;28;01mTrue\u001b[39;00m: \n\u001b[1;32m    231\u001b[0m     logFunction(log, \u001b[38;5;124m\"\u001b[39m\u001b[38;5;124mFine Grain: Solve for nextWaveFunction\u001b[39m\u001b[38;5;124m\"\u001b[39m)\n",
      "Cell \u001b[0;32mIn[257], line 24\u001b[0m, in \u001b[0;36m<lambda>\u001b[0;34m(profile, operator, indepednantTerms)\u001b[0m\n\u001b[1;32m      1\u001b[0m \u001b[38;5;28;01massert\u001b[39;00m (temporalStep \u001b[38;5;241m/\u001b[39m spatialStep) \u001b[38;5;241m<\u001b[39m\u001b[38;5;241m=\u001b[39m courantNumber\n\u001b[1;32m      2\u001b[0m profile \u001b[38;5;241m=\u001b[39m SimulationProfile(\n\u001b[1;32m      3\u001b[0m         grid, \n\u001b[1;32m      4\u001b[0m         \u001b[38;5;28;01mlambda\u001b[39;00m position : makeWavePacket(\n\u001b[1;32m      5\u001b[0m                 position, \n\u001b[1;32m      6\u001b[0m                 packetStartX \u001b[38;5;241m*\u001b[39m length, \n\u001b[1;32m      7\u001b[0m                 packetStartY \u001b[38;5;241m*\u001b[39m length, \n\u001b[1;32m      8\u001b[0m                 spatialStep, \n\u001b[1;32m      9\u001b[0m                 packetStandardDeviation, \n\u001b[1;32m     10\u001b[0m                 packetWaveNumber, \n\u001b[1;32m     11\u001b[0m                 math\n\u001b[1;32m     12\u001b[0m             ), \n\u001b[1;32m     13\u001b[0m         \u001b[38;5;28;01mlambda\u001b[39;00m position, time : tunnelCase(\n\u001b[1;32m     14\u001b[0m                 position, \n\u001b[1;32m     15\u001b[0m                 length \u001b[38;5;241m/\u001b[39m \u001b[38;5;241m2\u001b[39m \u001b[38;5;241m-\u001b[39m barrierWidth, \n\u001b[1;32m     16\u001b[0m                 barrierWidth \u001b[38;5;241m*\u001b[39m length, \n\u001b[1;32m     17\u001b[0m                 potentialHeight\n\u001b[1;32m     18\u001b[0m             ), \n\u001b[1;32m     19\u001b[0m         temporalStep, \n\u001b[1;32m     20\u001b[0m         spatialStep, \n\u001b[1;32m     21\u001b[0m         gpuAccelerated \u001b[38;5;241m=\u001b[39m \u001b[38;5;28;01mTrue\u001b[39;00m, \n\u001b[1;32m     22\u001b[0m         edgeBound \u001b[38;5;241m=\u001b[39m \u001b[38;5;28;01mTrue\u001b[39;00m, \n\u001b[1;32m     23\u001b[0m         constantPotential \u001b[38;5;241m=\u001b[39m \u001b[38;5;28;01mTrue\u001b[39;00m, \n\u001b[0;32m---> 24\u001b[0m         defaultMatrixSolveMethod \u001b[38;5;241m=\u001b[39m \u001b[38;5;28;01mlambda\u001b[39;00m profile, operator, indepednantTerms : \u001b[43msolveMatrixApproximate\u001b[49m\u001b[43m(\u001b[49m\n\u001b[1;32m     25\u001b[0m \u001b[43m                        \u001b[49m\u001b[43mprofile\u001b[49m\u001b[43m,\u001b[49m\u001b[43m \u001b[49m\n\u001b[1;32m     26\u001b[0m \u001b[43m                        \u001b[49m\u001b[43moperator\u001b[49m\u001b[43m,\u001b[49m\u001b[43m \u001b[49m\n\u001b[1;32m     27\u001b[0m \u001b[43m                        \u001b[49m\u001b[43mindepednantTerms\u001b[49m\u001b[43m,\u001b[49m\u001b[43m \u001b[49m\n\u001b[1;32m     28\u001b[0m \u001b[43m                        \u001b[49m\u001b[43mtolerence\u001b[49m\n\u001b[1;32m     29\u001b[0m \u001b[43m                    \u001b[49m\u001b[43m)\u001b[49m\n\u001b[1;32m     30\u001b[0m     )\n\u001b[1;32m     31\u001b[0m simulator \u001b[38;5;241m=\u001b[39m Simulator(profile)\n\u001b[1;32m     32\u001b[0m log \u001b[38;5;241m=\u001b[39m simulator\u001b[38;5;241m.\u001b[39msimulate(frameCount, \u001b[38;5;28;01mTrue\u001b[39;00m, \u001b[38;5;28;01mTrue\u001b[39;00m, \u001b[38;5;28;01mTrue\u001b[39;00m)\n",
      "File \u001b[0;32m/home/jovyan/work/SchrodingerInTime3D/ParticleMirrorTest/libschrodinger/linear_algebra_utilities.py:26\u001b[0m, in \u001b[0;36msolveMatrixApproximate\u001b[0;34m(profile, operator, independantTerms, tolerence)\u001b[0m\n\u001b[1;32m     24\u001b[0m sparse \u001b[38;5;241m=\u001b[39m profile\u001b[38;5;241m.\u001b[39msparse\n\u001b[1;32m     25\u001b[0m linalg \u001b[38;5;241m=\u001b[39m profile\u001b[38;5;241m.\u001b[39mlinalg\n\u001b[0;32m---> 26\u001b[0m \u001b[38;5;28;01mreturn\u001b[39;00m \u001b[43mlinalg\u001b[49m\u001b[38;5;241;43m.\u001b[39;49m\u001b[43mcg\u001b[49m\u001b[43m(\u001b[49m\u001b[43moperator\u001b[49m\u001b[43m,\u001b[49m\u001b[43m \u001b[49m\u001b[43mindependantTerms\u001b[49m\u001b[43m,\u001b[49m\u001b[43m \u001b[49m\u001b[43mx0\u001b[49m\u001b[43m \u001b[49m\u001b[38;5;241;43m=\u001b[39;49m\u001b[43m \u001b[49m\u001b[38;5;28;43;01mNone\u001b[39;49;00m\u001b[43m,\u001b[49m\u001b[43m \u001b[49m\u001b[43mtol\u001b[49m\u001b[43m \u001b[49m\u001b[38;5;241;43m=\u001b[39;49m\u001b[43m \u001b[49m\u001b[43mtolerence\u001b[49m\u001b[43m)\u001b[49m[\u001b[38;5;241m0\u001b[39m]\n",
      "File \u001b[0;32m/opt/conda/lib/python3.10/site-packages/cupyx/scipy/sparse/linalg/_iterative.py:70\u001b[0m, in \u001b[0;36mcg\u001b[0;34m(A, b, x0, tol, maxiter, M, callback, atol)\u001b[0m\n\u001b[1;32m     68\u001b[0m z \u001b[38;5;241m=\u001b[39m psolve(r)\n\u001b[1;32m     69\u001b[0m rho1 \u001b[38;5;241m=\u001b[39m rho\n\u001b[0;32m---> 70\u001b[0m rho \u001b[38;5;241m=\u001b[39m \u001b[43mcublas\u001b[49m\u001b[38;5;241;43m.\u001b[39;49m\u001b[43mdotc\u001b[49m\u001b[43m(\u001b[49m\u001b[43mr\u001b[49m\u001b[43m,\u001b[49m\u001b[43m \u001b[49m\u001b[43mz\u001b[49m\u001b[43m)\u001b[49m\n\u001b[1;32m     71\u001b[0m \u001b[38;5;28;01mif\u001b[39;00m iters \u001b[38;5;241m==\u001b[39m \u001b[38;5;241m0\u001b[39m:\n\u001b[1;32m     72\u001b[0m     p \u001b[38;5;241m=\u001b[39m z\n",
      "File \u001b[0;32m/opt/conda/lib/python3.10/site-packages/cupy/cublas.py:300\u001b[0m, in \u001b[0;36mdotc\u001b[0;34m(x, y, out)\u001b[0m\n\u001b[1;32m    297\u001b[0m result_ptr, result, orig_mode \u001b[38;5;241m=\u001b[39m _setup_result_ptr(\n\u001b[1;32m    298\u001b[0m     handle, out, result_dtype)\n\u001b[1;32m    299\u001b[0m \u001b[38;5;28;01mtry\u001b[39;00m:\n\u001b[0;32m--> 300\u001b[0m     \u001b[43mfunc\u001b[49m\u001b[43m(\u001b[49m\u001b[43mhandle\u001b[49m\u001b[43m,\u001b[49m\u001b[43m \u001b[49m\u001b[43mx\u001b[49m\u001b[38;5;241;43m.\u001b[39;49m\u001b[43msize\u001b[49m\u001b[43m,\u001b[49m\u001b[43m \u001b[49m\u001b[43mx\u001b[49m\u001b[38;5;241;43m.\u001b[39;49m\u001b[43mdata\u001b[49m\u001b[38;5;241;43m.\u001b[39;49m\u001b[43mptr\u001b[49m\u001b[43m,\u001b[49m\u001b[43m \u001b[49m\u001b[38;5;241;43m1\u001b[39;49m\u001b[43m,\u001b[49m\u001b[43m \u001b[49m\u001b[43my\u001b[49m\u001b[38;5;241;43m.\u001b[39;49m\u001b[43mdata\u001b[49m\u001b[38;5;241;43m.\u001b[39;49m\u001b[43mptr\u001b[49m\u001b[43m,\u001b[49m\u001b[43m \u001b[49m\u001b[38;5;241;43m1\u001b[39;49m\u001b[43m,\u001b[49m\u001b[43m \u001b[49m\u001b[43mresult_ptr\u001b[49m\u001b[43m)\u001b[49m\n\u001b[1;32m    301\u001b[0m \u001b[38;5;28;01mfinally\u001b[39;00m:\n\u001b[1;32m    302\u001b[0m     cublas\u001b[38;5;241m.\u001b[39msetPointerMode(handle, orig_mode)\n",
      "\u001b[0;31mKeyboardInterrupt\u001b[0m: "
     ]
    }
   ],
   "source": [
    "assert (temporalStep / spatialStep) <= courantNumber\n",
    "profile = SimulationProfile(\n",
    "        grid, \n",
    "        lambda position : makeWavePacket(\n",
    "                position, \n",
    "                packetStartX * length, \n",
    "                packetStartY * length, \n",
    "                spatialStep, \n",
    "                packetStandardDeviation, \n",
    "                packetWaveNumber, \n",
    "                math\n",
    "            ), \n",
    "        lambda position, time : tunnelCase(\n",
    "                position, \n",
    "                length / 2 - barrierWidth, \n",
    "                barrierWidth * length, \n",
    "                potentialHeight\n",
    "            ), \n",
    "        temporalStep, \n",
    "        spatialStep, \n",
    "        gpuAccelerated = True, \n",
    "        edgeBound = True, \n",
    "        constantPotential = True, \n",
    "        defaultMatrixSolveMethod = lambda profile, operator, indepednantTerms : solveMatrixApproximate(\n",
    "                        profile, \n",
    "                        operator, \n",
    "                        indepednantTerms, \n",
    "                        tolerence\n",
    "                    )\n",
    "    )\n",
    "simulator = Simulator(profile)\n",
    "log = simulator.simulate(frameCount, True, True, True)"
   ]
  },
  {
   "cell_type": "code",
   "execution_count": 29,
   "id": "2037ef67-cf5f-4f5f-a97c-8ff9106c7fb7",
   "metadata": {},
   "outputs": [],
   "source": [
    "probabilities, probabilityDecibles = simulator.processProbabilities()"
   ]
  },
  {
   "cell_type": "code",
   "execution_count": null,
   "id": "6db51e96-793f-46f9-8318-ecc4708c0e92",
   "metadata": {},
   "outputs": [],
   "source": []
  },
  {
   "cell_type": "code",
   "execution_count": 30,
   "id": "695e8ee6-562c-4736-935b-2d65eac9f2bf",
   "metadata": {},
   "outputs": [
    {
     "data": {
      "image/png": "[encoded data removed]",
      "text/plain": [
       "<Figure size 640x480 with 1 Axes>"
      ]
     },
     "metadata": {},
     "output_type": "display_data"
    }
   ],
   "source": [
    "potentialAnimation = animateImages(\n",
    "        length, \n",
    "        simulator.potentials, \n",
    "        10, \n",
    "        0, \n",
    "        potentialHeight, \n",
    "        colorMap = \"hot\"\n",
    "    )"
   ]
  },
  {
   "cell_type": "code",
   "execution_count": 31,
   "id": "3d69fa61-73e5-4f2f-a773-5c54f0899c1b",
   "metadata": {},
   "outputs": [
    {
     "data": {
      "image/png": "[encoded data removed]",
      "text/plain": [
       "<Figure size 640x480 with 1 Axes>"
      ]
     },
     "metadata": {},
     "output_type": "display_data"
    }
   ],
   "source": [
    "waveAnimation = animateImages(\n",
    "        length, \n",
    "        simulator.probabilities, \n",
    "        10, \n",
    "        0, \n",
    "        math.max(simulator.probabilities), \n",
    "        [length / 2 - barrierWidth, barrierWidth, length / 2 + barrierWidth], \n",
    "        [0, 1, 0], \n",
    "        colorMap = \"hot\"\n",
    "    )"
   ]
  },
  {
   "cell_type": "code",
   "execution_count": null,
   "id": "07a279ff-1ad7-4699-a816-a6b620e108cb",
   "metadata": {},
   "outputs": [],
   "source": []
  },
  {
   "cell_type": "code",
   "execution_count": 11,
   "id": "8a78676b-4457-4bd5-a885-440de4f2113c",
   "metadata": {},
   "outputs": [],
   "source": [
    "waveAnimation.save(caseName + \".gif\")"
   ]
  },
  {
   "cell_type": "code",
   "execution_count": 12,
   "id": "2f2597fb-5a58-4bed-9444-f90140c7597d",
   "metadata": {},
   "outputs": [],
   "source": [
    "potentialAnimation.save(caseName + \"Potential.gif\")"
   ]
  },
  {
   "cell_type": "code",
   "execution_count": null,
   "id": "aedfaea4-8113-41f5-94c1-5034da45f45d",
   "metadata": {},
   "outputs": [],
   "source": []
  },
  {
   "cell_type": "code",
   "execution_count": 13,
   "id": "e7e4b27d-16e4-47c4-89b4-f6b1dcfc1611",
   "metadata": {},
   "outputs": [],
   "source": [
    "unknownStepMatrix = simulator.createNextStepMatrix(simulator.potentials[-1])"
   ]
  },
  {
   "cell_type": "code",
   "execution_count": 14,
   "id": "ce6aefb5-6da8-47a4-8815-4d109992fe51",
   "metadata": {},
   "outputs": [
    {
     "ename": "OutOfMemoryError",
     "evalue": "Out of memory allocating 9,971,220,992 bytes (allocated so far: 864,635,392 bytes).",
     "output_type": "error",
     "traceback": [
      "\u001b[0;31m---------------------------------------------------------------------------\u001b[0m",
      "\u001b[0;31mOutOfMemoryError\u001b[0m                          Traceback (most recent call last)",
      "Cell \u001b[0;32mIn[14], line 1\u001b[0m\n\u001b[0;32m----> 1\u001b[0m \u001b[43munknownStepMatrix\u001b[49m\u001b[38;5;241;43m.\u001b[39;49m\u001b[43mtodense\u001b[49m\u001b[43m(\u001b[49m\u001b[43m)\u001b[49m\n",
      "File \u001b[0;32m/opt/conda/lib/python3.10/site-packages/cupyx/scipy/sparse/_base.py:551\u001b[0m, in \u001b[0;36mspmatrix.todense\u001b[0;34m(self, order, out)\u001b[0m\n\u001b[1;32m    549\u001b[0m \u001b[38;5;28;01mdef\u001b[39;00m \u001b[38;5;21mtodense\u001b[39m(\u001b[38;5;28mself\u001b[39m, order\u001b[38;5;241m=\u001b[39m\u001b[38;5;28;01mNone\u001b[39;00m, out\u001b[38;5;241m=\u001b[39m\u001b[38;5;28;01mNone\u001b[39;00m):\n\u001b[1;32m    550\u001b[0m \u001b[38;5;250m    \u001b[39m\u001b[38;5;124;03m\"\"\"Return a dense matrix representation of this matrix.\"\"\"\u001b[39;00m\n\u001b[0;32m--> 551\u001b[0m     \u001b[38;5;28;01mreturn\u001b[39;00m \u001b[38;5;28;43mself\u001b[39;49m\u001b[38;5;241;43m.\u001b[39;49m\u001b[43mtoarray\u001b[49m\u001b[43m(\u001b[49m\u001b[43morder\u001b[49m\u001b[38;5;241;43m=\u001b[39;49m\u001b[43morder\u001b[49m\u001b[43m,\u001b[49m\u001b[43m \u001b[49m\u001b[43mout\u001b[49m\u001b[38;5;241;43m=\u001b[39;49m\u001b[43mout\u001b[49m\u001b[43m)\u001b[49m\n",
      "File \u001b[0;32m/opt/conda/lib/python3.10/site-packages/cupyx/scipy/sparse/_dia.py:138\u001b[0m, in \u001b[0;36mdia_matrix.toarray\u001b[0;34m(self, order, out)\u001b[0m\n\u001b[1;32m    136\u001b[0m \u001b[38;5;28;01mdef\u001b[39;00m \u001b[38;5;21mtoarray\u001b[39m(\u001b[38;5;28mself\u001b[39m, order\u001b[38;5;241m=\u001b[39m\u001b[38;5;28;01mNone\u001b[39;00m, out\u001b[38;5;241m=\u001b[39m\u001b[38;5;28;01mNone\u001b[39;00m):\n\u001b[1;32m    137\u001b[0m \u001b[38;5;250m    \u001b[39m\u001b[38;5;124;03m\"\"\"Returns a dense matrix representing the same value.\"\"\"\u001b[39;00m\n\u001b[0;32m--> 138\u001b[0m     \u001b[38;5;28;01mreturn\u001b[39;00m \u001b[38;5;28;43mself\u001b[39;49m\u001b[38;5;241;43m.\u001b[39;49m\u001b[43mtocsc\u001b[49m\u001b[43m(\u001b[49m\u001b[43m)\u001b[49m\u001b[38;5;241;43m.\u001b[39;49m\u001b[43mtoarray\u001b[49m\u001b[43m(\u001b[49m\u001b[43morder\u001b[49m\u001b[38;5;241;43m=\u001b[39;49m\u001b[43morder\u001b[49m\u001b[43m,\u001b[49m\u001b[43m \u001b[49m\u001b[43mout\u001b[49m\u001b[38;5;241;43m=\u001b[39;49m\u001b[43mout\u001b[49m\u001b[43m)\u001b[49m\n",
      "File \u001b[0;32m/opt/conda/lib/python3.10/site-packages/cupyx/scipy/sparse/_csc.py:224\u001b[0m, in \u001b[0;36mcsc_matrix.toarray\u001b[0;34m(self, order, out)\u001b[0m\n\u001b[1;32m    220\u001b[0m x\u001b[38;5;241m.\u001b[39msum_duplicates()\n\u001b[1;32m    221\u001b[0m \u001b[38;5;28;01mif\u001b[39;00m (cusparse\u001b[38;5;241m.\u001b[39mcheck_availability(\u001b[38;5;124m'\u001b[39m\u001b[38;5;124msparseToDense\u001b[39m\u001b[38;5;124m'\u001b[39m)\n\u001b[1;32m    222\u001b[0m         \u001b[38;5;129;01mand\u001b[39;00m (\u001b[38;5;129;01mnot\u001b[39;00m runtime\u001b[38;5;241m.\u001b[39mis_hip \u001b[38;5;129;01mor\u001b[39;00m x\u001b[38;5;241m.\u001b[39mnnz \u001b[38;5;241m>\u001b[39m \u001b[38;5;241m0\u001b[39m)):\n\u001b[1;32m    223\u001b[0m     \u001b[38;5;66;03m# On HIP, nnz=0 is problematic as of ROCm 4.2.0\u001b[39;00m\n\u001b[0;32m--> 224\u001b[0m     y \u001b[38;5;241m=\u001b[39m \u001b[43mcusparse\u001b[49m\u001b[38;5;241;43m.\u001b[39;49m\u001b[43msparseToDense\u001b[49m\u001b[43m(\u001b[49m\u001b[43mx\u001b[49m\u001b[43m)\u001b[49m\n\u001b[1;32m    225\u001b[0m     \u001b[38;5;28;01mif\u001b[39;00m order \u001b[38;5;241m==\u001b[39m \u001b[38;5;124m'\u001b[39m\u001b[38;5;124mF\u001b[39m\u001b[38;5;124m'\u001b[39m:\n\u001b[1;32m    226\u001b[0m         \u001b[38;5;28;01mreturn\u001b[39;00m y\n",
      "File \u001b[0;32m/opt/conda/lib/python3.10/site-packages/cupy/cusparse.py:1816\u001b[0m, in \u001b[0;36msparseToDense\u001b[0;34m(x, out)\u001b[0m\n\u001b[1;32m   1814\u001b[0m \u001b[38;5;28;01massert\u001b[39;00m dtype\u001b[38;5;241m.\u001b[39mchar \u001b[38;5;129;01min\u001b[39;00m \u001b[38;5;124m'\u001b[39m\u001b[38;5;124mfdFD\u001b[39m\u001b[38;5;124m'\u001b[39m\n\u001b[1;32m   1815\u001b[0m \u001b[38;5;28;01mif\u001b[39;00m out \u001b[38;5;129;01mis\u001b[39;00m \u001b[38;5;28;01mNone\u001b[39;00m:\n\u001b[0;32m-> 1816\u001b[0m     out \u001b[38;5;241m=\u001b[39m \u001b[43m_cupy\u001b[49m\u001b[38;5;241;43m.\u001b[39;49m\u001b[43mzeros\u001b[49m\u001b[43m(\u001b[49m\u001b[43mx\u001b[49m\u001b[38;5;241;43m.\u001b[39;49m\u001b[43mshape\u001b[49m\u001b[43m,\u001b[49m\u001b[43m \u001b[49m\u001b[43mdtype\u001b[49m\u001b[38;5;241;43m=\u001b[39;49m\u001b[43mdtype\u001b[49m\u001b[43m,\u001b[49m\u001b[43m \u001b[49m\u001b[43morder\u001b[49m\u001b[38;5;241;43m=\u001b[39;49m\u001b[38;5;124;43m'\u001b[39;49m\u001b[38;5;124;43mF\u001b[39;49m\u001b[38;5;124;43m'\u001b[39;49m\u001b[43m)\u001b[49m\n\u001b[1;32m   1817\u001b[0m \u001b[38;5;28;01melse\u001b[39;00m:\n\u001b[1;32m   1818\u001b[0m     \u001b[38;5;28;01massert\u001b[39;00m out\u001b[38;5;241m.\u001b[39mflags\u001b[38;5;241m.\u001b[39mf_contiguous\n",
      "File \u001b[0;32m/opt/conda/lib/python3.10/site-packages/cupy/_creation/basic.py:211\u001b[0m, in \u001b[0;36mzeros\u001b[0;34m(shape, dtype, order)\u001b[0m\n\u001b[1;32m    196\u001b[0m \u001b[38;5;28;01mdef\u001b[39;00m \u001b[38;5;21mzeros\u001b[39m(shape, dtype\u001b[38;5;241m=\u001b[39m\u001b[38;5;28mfloat\u001b[39m, order\u001b[38;5;241m=\u001b[39m\u001b[38;5;124m'\u001b[39m\u001b[38;5;124mC\u001b[39m\u001b[38;5;124m'\u001b[39m):\n\u001b[1;32m    197\u001b[0m \u001b[38;5;250m    \u001b[39m\u001b[38;5;124;03m\"\"\"Returns a new array of given shape and dtype, filled with zeros.\u001b[39;00m\n\u001b[1;32m    198\u001b[0m \n\u001b[1;32m    199\u001b[0m \u001b[38;5;124;03m    Args:\u001b[39;00m\n\u001b[0;32m   (...)\u001b[0m\n\u001b[1;32m    209\u001b[0m \n\u001b[1;32m    210\u001b[0m \u001b[38;5;124;03m    \"\"\"\u001b[39;00m\n\u001b[0;32m--> 211\u001b[0m     a \u001b[38;5;241m=\u001b[39m \u001b[43mcupy\u001b[49m\u001b[38;5;241;43m.\u001b[39;49m\u001b[43mndarray\u001b[49m\u001b[43m(\u001b[49m\u001b[43mshape\u001b[49m\u001b[43m,\u001b[49m\u001b[43m \u001b[49m\u001b[43mdtype\u001b[49m\u001b[43m,\u001b[49m\u001b[43m \u001b[49m\u001b[43morder\u001b[49m\u001b[38;5;241;43m=\u001b[39;49m\u001b[43morder\u001b[49m\u001b[43m)\u001b[49m\n\u001b[1;32m    212\u001b[0m     a\u001b[38;5;241m.\u001b[39mdata\u001b[38;5;241m.\u001b[39mmemset_async(\u001b[38;5;241m0\u001b[39m, a\u001b[38;5;241m.\u001b[39mnbytes)\n\u001b[1;32m    213\u001b[0m     \u001b[38;5;28;01mreturn\u001b[39;00m a\n",
      "File \u001b[0;32mcupy/_core/core.pyx:136\u001b[0m, in \u001b[0;36mcupy._core.core.ndarray.__new__\u001b[0;34m()\u001b[0m\n",
      "File \u001b[0;32mcupy/_core/core.pyx:224\u001b[0m, in \u001b[0;36mcupy._core.core._ndarray_base._init\u001b[0;34m()\u001b[0m\n",
      "File \u001b[0;32mcupy/cuda/memory.pyx:742\u001b[0m, in \u001b[0;36mcupy.cuda.memory.alloc\u001b[0;34m()\u001b[0m\n",
      "File \u001b[0;32mcupy/cuda/memory.pyx:1419\u001b[0m, in \u001b[0;36mcupy.cuda.memory.MemoryPool.malloc\u001b[0;34m()\u001b[0m\n",
      "File \u001b[0;32mcupy/cuda/memory.pyx:1440\u001b[0m, in \u001b[0;36mcupy.cuda.memory.MemoryPool.malloc\u001b[0;34m()\u001b[0m\n",
      "File \u001b[0;32mcupy/cuda/memory.pyx:1120\u001b[0m, in \u001b[0;36mcupy.cuda.memory.SingleDeviceMemoryPool.malloc\u001b[0;34m()\u001b[0m\n",
      "File \u001b[0;32mcupy/cuda/memory.pyx:1141\u001b[0m, in \u001b[0;36mcupy.cuda.memory.SingleDeviceMemoryPool._malloc\u001b[0;34m()\u001b[0m\n",
      "File \u001b[0;32mcupy/cuda/memory.pyx:1379\u001b[0m, in \u001b[0;36mcupy.cuda.memory.SingleDeviceMemoryPool._try_malloc\u001b[0;34m()\u001b[0m\n",
      "\u001b[0;31mOutOfMemoryError\u001b[0m: Out of memory allocating 9,971,220,992 bytes (allocated so far: 864,635,392 bytes)."
     ]
    }
   ],
   "source": [
    "unknownStepMatrix.todense()"
   ]
  },
  {
   "cell_type": "code",
   "execution_count": null,
   "id": "99d5d573-5ffd-4a6c-bf38-d6e8e051c79e",
   "metadata": {},
   "outputs": [],
   "source": [
    "knownStepMatrix = simulator.createCurrentStepMatrix(simulator.potentials[-1])"
   ]
  },
  {
   "cell_type": "code",
   "execution_count": null,
   "id": "524874c7-fe5a-424f-8633-ee4fe8cddb3a",
   "metadata": {},
   "outputs": [],
   "source": [
    "knownStepMatrix.todense()"
   ]
  },
  {
   "cell_type": "code",
   "execution_count": null,
   "id": "6a7020f4-e4fb-4539-a7f5-8c70fb0a8328",
   "metadata": {},
   "outputs": [],
   "source": []
  },
  {
   "cell_type": "code",
   "execution_count": null,
   "id": "181fc9ed-35b4-4791-9332-686f0abea1e2",
   "metadata": {},
   "outputs": [],
   "source": []
  }
 ],
 "metadata": {
  "kernelspec": {
   "display_name": "Python 3 (ipykernel)",
   "language": "python",
   "name": "python3"
  },
  "language_info": {
   "codemirror_mode": {
    "name": "ipython",
    "version": 3
   },
   "file_extension": ".py",
   "mimetype": "text/x-python",
   "name": "python",
   "nbconvert_exporter": "python",
   "pygments_lexer": "ipython3",
   "version": "3.10.8"
  }
 },
 "nbformat": 4,
 "nbformat_minor": 5
}
